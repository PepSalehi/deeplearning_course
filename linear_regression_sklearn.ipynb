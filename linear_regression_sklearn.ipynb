{
 "cells": [
  {
   "cell_type": "markdown",
   "metadata": {},
   "source": [
    "# Linear regression, the usual way (using scikit-learn)"
   ]
  },
  {
   "cell_type": "code",
   "execution_count": 1,
   "metadata": {
    "collapsed": true
   },
   "outputs": [],
   "source": [
    "from sklearn.datasets import load_boston\n",
    "from sklearn.preprocessing import StandardScaler\n",
    "from sklearn import model_selection\n",
    "from sklearn.linear_model import LinearRegression\n",
    "import numpy as np\n",
    "import matplotlib.pyplot as plt"
   ]
  },
  {
   "cell_type": "code",
   "execution_count": 2,
   "metadata": {},
   "outputs": [
    {
     "data": {
      "text/plain": [
       "((506, 13), (506,))"
      ]
     },
     "execution_count": 2,
     "metadata": {},
     "output_type": "execute_result"
    }
   ],
   "source": [
    "boston = load_boston()\n",
    "X = boston.data\n",
    "y = boston.target\n",
    "X.shape, y.shape"
   ]
  },
  {
   "cell_type": "raw",
   "metadata": {
    "collapsed": true
   },
   "source": [
    "# CRIM     per capita crime rate by town\\n \n",
    "# ZN       proportion of residential land zoned for lots over 25,000 sq.ft.\\n  \n",
    "# INDUS    proportion of non-retail business acres per town\\n     \n",
    "# CHAS     Charles River dummy variable (= 1 if tract bounds river; 0 otherwise)\\n  \n",
    "# NOX      nitric oxides concentration (parts per 10 million)\\n\n",
    "# RM       average number of rooms per dwelling\\n\n",
    "# AGE      proportion of owner-occupied units built prior to 1940\\n \n",
    "# DIS      weighted distances to five Boston employment centres\\n \n",
    "# RAD      index of accessibility to radial highways\\n\n",
    "# TAX      full-value property-tax rate per $10,000\\n\n",
    "# PTRATIO  pupil-teacher ratio by town\\n \n",
    "# B        1000(Bk - 0.63)^2 where Bk is the proportion of blacks by town\\n  \n",
    "# LSTAT    % lower status of the population\\n\n",
    "# MEDV     Median value of owner-occupied homes in $1000's\\n\\n  \n"
   ]
  },
  {
   "cell_type": "code",
   "execution_count": 3,
   "metadata": {},
   "outputs": [],
   "source": [
    "X_train, X_test, y_train, y_test = model_selection.train_test_split(boston.data, boston.target, test_size=0.2, random_state=0)"
   ]
  },
  {
   "cell_type": "code",
   "execution_count": 4,
   "metadata": {},
   "outputs": [
    {
     "data": {
      "text/plain": [
       "array([[  3.58090000e-01,   0.00000000e+00,   6.20000000e+00,\n",
       "          1.00000000e+00,   5.07000000e-01,   6.95100000e+00,\n",
       "          8.85000000e+01,   2.86170000e+00,   8.00000000e+00,\n",
       "          3.07000000e+02,   1.74000000e+01,   3.91700000e+02,\n",
       "          9.71000000e+00],\n",
       "       [  1.58760000e-01,   0.00000000e+00,   1.08100000e+01,\n",
       "          0.00000000e+00,   4.13000000e-01,   5.96100000e+00,\n",
       "          1.75000000e+01,   5.28730000e+00,   4.00000000e+00,\n",
       "          3.05000000e+02,   1.92000000e+01,   3.76940000e+02,\n",
       "          9.88000000e+00]])"
      ]
     },
     "execution_count": 4,
     "metadata": {},
     "output_type": "execute_result"
    }
   ],
   "source": [
    "X_train[:2]"
   ]
  },
  {
   "cell_type": "code",
   "execution_count": 5,
   "metadata": {},
   "outputs": [
    {
     "data": {
      "text/plain": [
       "array([ 26.7,  21.7])"
      ]
     },
     "execution_count": 5,
     "metadata": {},
     "output_type": "execute_result"
    }
   ],
   "source": [
    "y_train[:2]"
   ]
  },
  {
   "cell_type": "code",
   "execution_count": 6,
   "metadata": {},
   "outputs": [
    {
     "data": {
      "text/plain": [
       "(array([  3.36157176e+00,   1.17945545e+01,   1.11234406e+01,\n",
       "          6.93069307e-02,   5.55885644e-01,   6.30179703e+00,\n",
       "          6.90272277e+01,   3.77024158e+00,   9.40346535e+00,\n",
       "          4.02844059e+02,   1.84623762e+01,   3.58785446e+02,\n",
       "          1.27061881e+01]),\n",
       " array([  8.12086396e+00,   2.36076347e+01,   6.98435113e+00,\n",
       "          2.53975353e-01,   1.15057872e-01,   6.93831576e-01,\n",
       "          2.80721481e+01,   2.07800639e+00,   8.65042138e+00,\n",
       "          1.70645434e+02,   2.19210336e+00,   8.85536380e+01,\n",
       "          7.28999160e+00]))"
      ]
     },
     "execution_count": 6,
     "metadata": {},
     "output_type": "execute_result"
    }
   ],
   "source": [
    "scaler = StandardScaler().fit(X_train)\n",
    "X_train = scaler.transform(X_train)\n",
    "X_test = scaler.transform(X_test)\n",
    "\n",
    "scaler.mean_, scaler.scale_"
   ]
  },
  {
   "cell_type": "code",
   "execution_count": 7,
   "metadata": {},
   "outputs": [
    {
     "data": {
      "text/plain": [
       "array([[-0.36984756, -0.49960763, -0.70492455,  3.66450153, -0.42487874,\n",
       "         0.93567804,  0.69366877, -0.4372179 , -0.16224243, -0.56165616,\n",
       "        -0.48463784,  0.3716906 , -0.41100022],\n",
       "       [-0.39439298, -0.49960763, -0.04487755, -0.27288841, -1.24185891,\n",
       "        -0.49118121, -1.8355285 ,  0.73005474, -0.62464765, -0.57337637,\n",
       "         0.33649132,  0.20501196, -0.38768057]])"
      ]
     },
     "execution_count": 7,
     "metadata": {},
     "output_type": "execute_result"
    }
   ],
   "source": [
    "X_train[:2]"
   ]
  },
  {
   "cell_type": "code",
   "execution_count": 8,
   "metadata": {},
   "outputs": [
    {
     "name": "stdout",
     "output_type": "stream",
     "text": [
      "Coefficients: \n",
      " [-0.96159409  1.05656121  0.04090558  0.59488677 -1.85972668  2.5681145\n",
      " -0.08549475 -2.88145804  2.1088358  -1.87464517 -2.29511322  0.72792395\n",
      " -3.59864933]\n",
      "Intercept: \n",
      " 22.6118811881\n"
     ]
    }
   ],
   "source": [
    "model = LinearRegression()\n",
    "model.fit(X_train, y_train)\n",
    "\n",
    "print(\"Coefficients: \\n\", model.coef_)\n",
    "print(\"Intercept: \\n\", model.intercept_)"
   ]
  },
  {
   "cell_type": "code",
   "execution_count": 9,
   "metadata": {},
   "outputs": [
    {
     "name": "stdout",
     "output_type": "stream",
     "text": [
      "Mean squared error (train/test): 19.33 / 33.45\n",
      "R square (train/test): 0.77 / 0.59\n"
     ]
    }
   ],
   "source": [
    "pred_train = model.predict(X_train)\n",
    "pred_test = model.predict(X_test)\n",
    "\n",
    "train_mse = np.mean((pred_train - y_train) ** 2)\n",
    "test_mse = np.mean((pred_test - y_test) ** 2)\n",
    "\n",
    "print(\"Mean squared error (train/test): {} / {}\".format(np.round(train_mse,2), np.round(test_mse,2)))\n",
    "print(\"R square (train/test): {} / {}\".format(np.round(model.score(X_train, y_train), 2),\n",
    "                                              np.round(model.score(X_test, y_test), 2)))"
   ]
  },
  {
   "cell_type": "code",
   "execution_count": 10,
   "metadata": {},
   "outputs": [
    {
     "data": {
      "image/png": "[encoded data removed]",
      "text/plain": [
       "<matplotlib.figure.Figure at 0x7f5071abb080>"
      ]
     },
     "metadata": {},
     "output_type": "display_data"
    }
   ],
   "source": [
    "fig, ax = plt.subplots()\n",
    "ax.scatter(y_train, pred_train)\n",
    "ax.plot([y_train.min(), y_train.max()], [y_train.min(), y_train.max()], 'k--', lw=3)\n",
    "ax.set_xlabel('Measured')\n",
    "ax.set_ylabel('Predicted')\n",
    "plt.show()"
   ]
  },
  {
   "cell_type": "code",
   "execution_count": 11,
   "metadata": {},
   "outputs": [
    {
     "data": {
      "image/png": "[encoded data removed]",
      "text/plain": [
       "<matplotlib.figure.Figure at 0x7f506fa649e8>"
      ]
     },
     "metadata": {},
     "output_type": "display_data"
    }
   ],
   "source": [
    "fig, ax = plt.subplots()\n",
    "ax.scatter(y_test, pred_test)\n",
    "ax.plot([y_test.min(), y_test.max()], [y_test.min(), y_test.max()], 'k--', lw=3)\n",
    "ax.set_xlabel('Measured')\n",
    "ax.set_ylabel('Predicted')\n",
    "plt.show()"
   ]
  },
  {
   "cell_type": "code",
   "execution_count": null,
   "metadata": {
    "collapsed": true
   },
   "outputs": [],
   "source": []
  }
 ],
 "metadata": {
  "kernelspec": {
   "display_name": "Python 3",
   "language": "python",
   "name": "python3"
  },
  "language_info": {
   "codemirror_mode": {
    "name": "ipython",
    "version": 3
   },
   "file_extension": ".py",
   "mimetype": "text/x-python",
   "name": "python",
   "nbconvert_exporter": "python",
   "pygments_lexer": "ipython3",
   "version": "3.5.3"
  }
 },
 "nbformat": 4,
 "nbformat_minor": 2
}
