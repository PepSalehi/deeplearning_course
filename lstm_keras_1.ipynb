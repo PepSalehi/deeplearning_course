{
 "cells": [
  {
   "cell_type": "markdown",
   "metadata": {},
   "source": [
    "# Long Short Term Memory (LSTM) with Keras (1)"
   ]
  },
  {
   "cell_type": "markdown",
   "metadata": {},
   "source": [
    "We will use an LSTM to generate text character by character."
   ]
  },
  {
   "cell_type": "code",
   "execution_count": 1,
   "metadata": {},
   "outputs": [
    {
     "name": "stderr",
     "output_type": "stream",
     "text": [
      "Using TensorFlow backend.\n"
     ]
    }
   ],
   "source": [
    "from keras.models import Sequential\n",
    "from keras.layers import Dense, Activation\n",
    "from keras.layers import LSTM\n",
    "from keras.optimizers import RMSprop\n",
    "from keras.utils.data_utils import get_file\n",
    "from keras.models import load_model\n",
    "import numpy as np\n",
    "import random\n",
    "import sys\n",
    "import json\n"
   ]
  },
  {
   "cell_type": "markdown",
   "metadata": {},
   "source": [
    "#### Configuration"
   ]
  },
  {
   "cell_type": "code",
   "execution_count": 2,
   "metadata": {
    "collapsed": true
   },
   "outputs": [],
   "source": [
    "num_epochs = 10\n",
    "batch_size = 128\n",
    "generate_len = 160\n",
    "\n",
    "seq_len = 60\n",
    "step = 6\n",
    "\n",
    "model_exists = False\n",
    "model_name = \"char_rnn_4.h5\""
   ]
  },
  {
   "cell_type": "markdown",
   "metadata": {},
   "source": [
    "The dataset we're going to use are Trump's tweets from 01/2015 to 07/2017.\n",
    "The data have been downloaded from  https://github.com/bpb27/trump_tweet_data_archive."
   ]
  },
  {
   "cell_type": "code",
   "execution_count": 3,
   "metadata": {},
   "outputs": [
    {
     "name": "stdout",
     "output_type": "stream",
     "text": [
      "12894\n"
     ]
    },
    {
     "data": {
      "text/plain": [
       "'Heading back to Washington, D.C. Much will be accomplished this week on trade, the military and security! Congratulations to Sung Hyun Park on winning the 2017 @USGA #USWomensOpen\\\\ud83c\\\\uddfa\\\\ud83c\\\\uddf8 I am at the @USGA  #USWomensOpen. An amateur player is co-leading for the first time in many decades - very exciting! The #USSJohnFinn will provide essential capabilities to keep America safe. Our sailors are the best anywhere in the world. Congratulations! https://t.co/yTnMwSh1Kg The ABC/Washington Post Poll, even though almost 40% is not bad at this time, was just about the most inaccurate poll around election time! With all of its phony unnamed sources &amp; highly slanted &amp; even fraudulent reporting, #Fake News is DISTORTING DEMOCRACY in our country! Thank you to former campaign adviser Michael Caputo for saying so powerfully that there was no Russian collusion in our winning campaign. Thank you to all of the supporters, who far out-numbered the protesters, yesterday at the Wom'"
      ]
     },
     "execution_count": 3,
     "metadata": {},
     "output_type": "execute_result"
    }
   ],
   "source": [
    "# extract text from the tweets and store everything in one long string\n",
    "import re\n",
    "pattern = re.compile(r'text\": \"(.+?)\", \"created')\n",
    "\n",
    "with open('condensed_201567.json', 'r') as content_file:\n",
    "    content = content_file.read()\n",
    "    #print(content[:1000])\n",
    "    tweets = re.findall(pattern, content)\n",
    "    \n",
    "print(len(tweets))\n",
    "\n",
    "text = \" \".join(tweets)\n",
    "text[:1000]"
   ]
  },
  {
   "cell_type": "code",
   "execution_count": 4,
   "metadata": {},
   "outputs": [
    {
     "name": "stdout",
     "output_type": "stream",
     "text": [
      "Total unique chars: 92\n"
     ]
    }
   ],
   "source": [
    "# create dictionaries for char -> index lookup and index -> char lookup, respectively\n",
    "unique_chars = sorted(set(text))\n",
    "print('Total unique chars:', len(unique_chars))\n",
    "char2index = dict((c, i) for i, c in enumerate(unique_chars))\n",
    "index2char = dict((i, c) for i, c in enumerate(unique_chars))\n",
    "#char2index\n",
    "#index2char"
   ]
  },
  {
   "cell_type": "code",
   "execution_count": 5,
   "metadata": {},
   "outputs": [
    {
     "name": "stdout",
     "output_type": "stream",
     "text": [
      "Number of training sequences:  253041\n"
     ]
    }
   ],
   "source": [
    "# generate training data\n",
    "# length of every sequence will be seq_len\n",
    "# degree of overlap is determined by step\n",
    "\n",
    "# this will yield X_train\n",
    "seqs = []\n",
    "# this will yield y_train\n",
    "next_chars = []\n",
    "\n",
    "for i in range(0, len(text) - seq_len, step):\n",
    "    seqs.append(text[i: i + seq_len])\n",
    "    next_chars.append(text[i + seq_len])\n",
    "print('Number of training sequences: ', len(seqs))\n"
   ]
  },
  {
   "cell_type": "code",
   "execution_count": 6,
   "metadata": {},
   "outputs": [
    {
     "data": {
      "text/plain": [
       "['Heading back to Washington, D.C. Much will be accomplished t',\n",
       " 'g back to Washington, D.C. Much will be accomplished this we',\n",
       " ' to Washington, D.C. Much will be accomplished this week on ',\n",
       " 'shington, D.C. Much will be accomplished this week on trade,',\n",
       " 'on, D.C. Much will be accomplished this week on trade, the m',\n",
       " 'C. Much will be accomplished this week on trade, the militar',\n",
       " 'h will be accomplished this week on trade, the military and ',\n",
       " ' be accomplished this week on trade, the military and securi',\n",
       " 'complished this week on trade, the military and security! Co',\n",
       " 'shed this week on trade, the military and security! Congratu']"
      ]
     },
     "execution_count": 6,
     "metadata": {},
     "output_type": "execute_result"
    }
   ],
   "source": [
    "seqs[:10]"
   ]
  },
  {
   "cell_type": "code",
   "execution_count": 7,
   "metadata": {},
   "outputs": [
    {
     "data": {
      "text/plain": [
       "(253041, 60, 92)"
      ]
     },
     "execution_count": 7,
     "metadata": {},
     "output_type": "execute_result"
    }
   ],
   "source": [
    "# Prepare the X and y matrices for training\n",
    "# X shape is (number of sequences, seq_len, number of unique characters)\n",
    "X = np.zeros((len(seqs), seq_len, len(unique_chars)), dtype=np.bool)\n",
    "X.shape"
   ]
  },
  {
   "cell_type": "code",
   "execution_count": 8,
   "metadata": {},
   "outputs": [
    {
     "data": {
      "text/plain": [
       "(253041, 92)"
      ]
     },
     "execution_count": 8,
     "metadata": {},
     "output_type": "execute_result"
    }
   ],
   "source": [
    "# y shape is (number of sequences,  number of unique characters)\n",
    "y = np.zeros((len(seqs), len(unique_chars)), dtype=np.bool)\n",
    "y.shape"
   ]
  },
  {
   "cell_type": "code",
   "execution_count": 9,
   "metadata": {
    "collapsed": true
   },
   "outputs": [],
   "source": [
    "# Fill the X and y matrices, one-hot-encoding the characters\n",
    "# this yields the <number of unique characters> features for the LSTM\n",
    "for i, s in enumerate(seqs):\n",
    "    for j, char in enumerate(s):\n",
    "        X[i, j, char2index[char]] = 1\n",
    "        y[i, char2index[next_chars[i]]] = 1"
   ]
  },
  {
   "cell_type": "code",
   "execution_count": 10,
   "metadata": {},
   "outputs": [
    {
     "name": "stdout",
     "output_type": "stream",
     "text": [
      "_________________________________________________________________\n",
      "Layer (type)                 Output Shape              Param #   \n",
      "=================================================================\n",
      "lstm_1 (LSTM)                (None, 128)               113152    \n",
      "_________________________________________________________________\n",
      "dense_1 (Dense)              (None, 92)                11868     \n",
      "_________________________________________________________________\n",
      "activation_1 (Activation)    (None, 92)                0         \n",
      "=================================================================\n",
      "Total params: 125,020\n",
      "Trainable params: 125,020\n",
      "Non-trainable params: 0\n",
      "_________________________________________________________________\n"
     ]
    }
   ],
   "source": [
    "if not model_exists:\n",
    "    model = Sequential()\n",
    "    # LSTM input is shaped (batch_size, timesteps, input_dim) where input_dim == number of features\n",
    "    model.add(LSTM(128, input_shape=(seq_len, len(unique_chars))))\n",
    "    model.add(Dense(len(unique_chars)))\n",
    "    model.add(Activation('softmax'))\n",
    "    model.summary()\n"
   ]
  },
  {
   "cell_type": "code",
   "execution_count": 11,
   "metadata": {
    "collapsed": true
   },
   "outputs": [],
   "source": [
    "if not model_exists:\n",
    "    optimizer = RMSprop(lr=0.01)\n",
    "    model.compile(loss='categorical_crossentropy', optimizer=optimizer)"
   ]
  },
  {
   "cell_type": "code",
   "execution_count": 12,
   "metadata": {
    "collapsed": true
   },
   "outputs": [],
   "source": [
    "# this function allows for manipulating the \"raw probabilities\" returned by the network\n",
    "# temperature > 1 enhances likelihood for low-probability characters\n",
    "# temperature < 1 favors high-probability characters disproportionately\n",
    "\n",
    "def sample(preds, temperature=1.0):\n",
    "    preds = preds.astype('float64')\n",
    "    #print(\"Original preds: {}\".format(preds))\n",
    "    preds = np.log(preds) / temperature\n",
    "    preds = np.exp(preds)\n",
    "    preds = preds / np.sum(preds)\n",
    "    #print(\"Adjusted preds: {}\".format(preds))\n",
    "    outcome = np.random.multinomial(1, preds, 1)\n",
    "    draw = np.argmax(outcome)\n",
    "    #print(\"Multinomial draw: {} - max index is {}\".format(outcome, draw))\n",
    "    return draw"
   ]
  },
  {
   "cell_type": "code",
   "execution_count": 13,
   "metadata": {
    "collapsed": true
   },
   "outputs": [],
   "source": [
    "# illustrate sample function\n",
    "#preds = np.array([0.15, 0.2, 0.5, 0.15])\n",
    "\n",
    "#print(sample(preds, temperature = 0.2))\n",
    "#print(sample(preds, temperature = 0.5))\n",
    "#print(sample(preds, temperature = 1))\n",
    "#print(sample(preds, temperature = 1.2))\n"
   ]
  },
  {
   "cell_type": "code",
   "execution_count": 14,
   "metadata": {
    "collapsed": true
   },
   "outputs": [],
   "source": [
    "# Generate text after every epoch, to allow for comparisons\n",
    "# For every epoch, text is generated using different temperatures/diversities\n",
    "def generate():\n",
    "    \n",
    "    # create seed for \n",
    "    start_index = random.randint(0, len(text) - seq_len - 1)\n",
    "    seed = text[start_index: start_index + seq_len]\n",
    "    print(\"####################################################################\")\n",
    "    print('#####    Seed: \"' + seed + '\"    #####')\n",
    "    print(\"####################################################################\")\n",
    "\n",
    "    for diversity in [0.1, 0.3, 0.6, 1.0, 1.2]:\n",
    "        print()\n",
    "        print('----- diversity:', diversity, \" -----\")\n",
    "\n",
    "        generated = ''\n",
    "        seed = text[start_index: start_index + seq_len]\n",
    "        generated += seed\n",
    "\n",
    "        for i in range(generate_len):\n",
    "\n",
    "            # prepare the test input data\n",
    "            x = np.zeros((1, seq_len, len(unique_chars)))\n",
    "            for j, char in enumerate(seed):\n",
    "                x[0, j, char2index[char]] = 1.\n",
    "                \n",
    "            preds = model.predict(x)[0]\n",
    "            \n",
    "            next_index = sample(preds, diversity)\n",
    "            next_char = index2char[next_index]\n",
    "\n",
    "            generated += next_char\n",
    "            seed = seed[1:] + next_char\n",
    "        print(generated)\n",
    "    "
   ]
  },
  {
   "cell_type": "code",
   "execution_count": 15,
   "metadata": {},
   "outputs": [
    {
     "name": "stdout",
     "output_type": "stream",
     "text": [
      "\n",
      "--------------------------------------------------\n",
      "Iteration 0\n",
      "Epoch 1/1\n",
      "253041/253041 [==============================] - 627s - loss: 2.1452   \n",
      "####################################################################\n",
      "#####    Seed: \"e- no cred! Why does FOX put him on? .@lindseygraham, who ha\"    #####\n",
      "####################################################################\n",
      "\n",
      "----- diversity: 0.1  -----\n",
      "e- no cred! Why does FOX put him on? .@lindseygraham, who have the @realDonaldTrump @realDonaldTrump @realDonaldTrump @realDonaldTrump @realDonaldTrump @realDonaldTrump @realDonaldTrump @realDonaldTrump @realDonaldTrump \n",
      "\n",
      "----- diversity: 0.3  -----\n",
      "e- no cred! Why does FOX put him on? .@lindseygraham, who have is the great support to know the going the support the great said a mad say this show @realDonaldTrump @realDonaldTrump @realDonaldTrump @realDonaldTrump @re\n",
      "\n",
      "----- diversity: 0.6  -----\n",
      "e- no cred! Why does FOX put him on? .@lindseygraham, who has guy be and my beall the DE PAN I.CL campaign Benca and the me in the leasting it is the great and I am with the pridications the prial see you was support to \n",
      "\n",
      "----- diversity: 1.0  -----\n",
      "e- no cred! Why does FOX put him on? .@lindseygraham, who have in Thatnda Care our @ntter. OU VETY @Jautepolplry8unfo: Timp: \\u202c soorking are whopres. @realDonaldTrump https://t.co/Nz95YHSJNTIT CRTPHeviRomino 20gmming\n",
      "\n",
      "----- diversity: 1.2  -----\n",
      "e- no cred! Why does FOX put him on? .@lindseygraham, who hastelal Bull an in #Tramp2016 #MSDonaldTrimp on woald Tratcashite Monor Nin9s. NakiFans, Dugate do were intery: .@&avichightFath @Cortho: show temortedniel - Tru\n",
      "\n",
      "--------------------------------------------------\n",
      "Iteration 1\n",
      "Epoch 1/1\n",
      "253041/253041 [==============================] - 634s - loss: 1.7853   \n",
      "####################################################################\n",
      "#####    Seed: \"ry and exploded our country with debt. We can\\u2019t send an\"    #####\n",
      "####################################################################\n",
      "\n",
      "----- diversity: 0.1  -----\n",
      "ry and exploded our country with debt. We can\\u2019t send and the press and the press and the press and the press and the press and the press and the press and the press and the press and the press and the press and the \n",
      "\n",
      "----- diversity: 0.3  -----\n",
      "ry and exploded our country with debt. We can\\u2019t send and interest to sind the Wasting in the and the great selly bect the press and on the and the proppent in the president are the ploble the press and have the pres\n",
      "\n",
      "----- diversity: 0.6  -----\n",
      "ry and exploded our country with debt. We can\\u2019t send and in our you will Missing in the press it will, him first for the patester the press in Hillary Clinton\\u201d https://t.co/cwYBitsTah! \\\"@realDonaldTrump as hav\n",
      "\n",
      "----- diversity: 1.0  -----\n",
      "ry and exploded our country with debt. We can\\u2019t send and suppoct, that himer went Berne Gead to starn. liskays rymiss has Iral Seonan!\\\" \\\"@clebefiedon: @realDonaldTrump #PPN A\\nD The specder me @foxandfriends:/R.Mr\n",
      "\n",
      "----- diversity: 1.2  -----\n",
      "ry and exploded our country with debt. We can\\u2019t send and ille  I letts for dewa P, haspts Covfel pet offonying a gevery add GROKE. Was fived from od on goings who, Padich\\\".\\\"  mebfucese. Tide wfichan. great ccmaste\n",
      "\n",
      "--------------------------------------------------\n",
      "Iteration 2\n",
      "Epoch 1/1\n",
      "253041/253041 [==============================] - 627s - loss: 1.7026   \n",
      "####################################################################\n",
      "#####    Seed: \"spect for women than me! The MOVEMENT in Portsmouth, New Ham\"    #####\n",
      "####################################################################\n",
      "\n",
      "----- diversity: 0.1  -----\n",
      "spect for women than me! The MOVEMENT in Portsmouth, New Hampshires of the presidention to the presidention to the presidention to the presidention and the presidention to the presidention to the presidention of the pres\n",
      "\n",
      "----- diversity: 0.3  -----\n",
      "spect for women than me! The MOVEMENT in Portsmouth, New Hampshirest with @realDonaldTrump @realDonaldTrump @realDonaldTrump @realDonaldTrump @TeamTrump2016 #Trump2016\\nhttps://t.co/TGBFPQwR7Q Thank you strong of one of \n",
      "\n",
      "----- diversity: 0.6  -----\n",
      "spect for women than me! The MOVEMENT in Portsmouth, New Hampshirs! #Trump2016 #Trump2016\\\" \\\"@Bisheropanothet: @realDonaldTrump @News @MikeAmericaGreatAgain https://t.co/B3AN1XKIJE  @realDonaldTrump\\\" \\\"@BigaleFick: @re\n",
      "\n",
      "----- diversity: 1.0  -----\n",
      "spect for women than me! The MOVEMENT in Portsmouth, New Hampsprestes's so mews on missark, the @donnews @Apprentice.\\\" Keep Report Kooked of rightion\\u201d http://t.co/knRt1weEZL \\\"@BesridnlnheegrdidSd2fuz @2017tneur ht\n",
      "\n",
      "----- diversity: 1.2  -----\n",
      "spect for women than me! The MOVEMENT in Portsmouth, New Hampstirnnce R T! @reaggnongheyaga by @itneyYF5N04 @Ce tempetteranner #MakeAmericago Cit, fints!\\\" Ny im a 72 and Gedecan Eas for A ontin, 2usos geal clatty would \n",
      "\n",
      "--------------------------------------------------\n",
      "Iteration 3\n",
      "Epoch 1/1\n",
      "253041/253041 [==============================] - 628s - loss: 1.6596   \n",
      "####################################################################\n",
      "#####    Seed: \"RT @ericbolling: Good morning friends!  \\\"The Swamp\\\" out to\"    #####\n",
      "####################################################################\n",
      "\n",
      "----- diversity: 0.1  -----\n",
      "RT @ericbolling: Good morning friends!  \\\"The Swamp\\\" out to the politics to have the politics to have a working to the politics to the politics to have the politics to the politics to the politics to a speck to the poli\n",
      "\n",
      "----- diversity: 0.3  -----\n",
      "RT @ericbolling: Good morning friends!  \\\"The Swamp\\\" out to the people and so says and the politics to have the people are a republt to the people and state the people and with @realDonaldTrump @RealDonaldTrump @realDon\n",
      "\n",
      "----- diversity: 0.6  -----\n",
      "RT @ericbolling: Good morning friends!  \\\"The Swamp\\\" out to happke in the President\\\" \\\"@annokinger: @realDonaldTrump Love the people in a but the pally the playing but out of @realDonaldTrump with man and give a great \n",
      "\n",
      "----- diversity: 1.0  -----\n",
      "RT @ericbolling: Good morning friends!  \\\"The Swamp\\\" out to mad thishorub30and crowdon and played to get here and caring Kb is oarfes to prison who are agomoirting? \" \\\"@TEmeGyer Donald Son be menter, USAtiver-your I ha\n",
      "\n",
      "----- diversity: 1.2  -----\n",
      "RT @ericbolling: Good morning friends!  \\\"The Swamp\\\" out to \\\"@Mumevictshap: @xepisting https://t.co/yOg57hrCqu\\\" Plance A are have saew get LifW.  run 7yx! #MakeGegas Hillary Clenton Not 100% \\\"@ddnytyakSan as Eviggone\n",
      "\n",
      "--------------------------------------------------\n",
      "Iteration 4\n",
      "Epoch 1/1\n",
      "253041/253041 [==============================] - 629s - loss: 1.6319   \n",
      "####################################################################\n",
      "#####    Seed: \"eAmericaGreatAgain!http://t.co/L3cKIEDZ2X \\\"@rp53pierce: @re\"    #####\n",
      "####################################################################\n",
      "\n",
      "----- diversity: 0.1  -----\n",
      "eAmericaGreatAgain!http://t.co/L3cKIEDZ2X \\\"@rp53pierce: @realDonaldTrump @realDonaldTrump @realDonaldTrump @realDonaldTrump @realDonaldTrump @realDonaldTrump @realDonaldTrump @realDonaldTrump @realDonaldTrump @realDonal\n",
      "\n",
      "----- diversity: 0.3  -----\n",
      "eAmericaGreatAgain!http://t.co/L3cKIEDZ2X \\\"@rp53pierce: @realDonaldTrump @realDonaldTrump @realDonaldTrump @FoxNews and whigh this morning the news this make America Great Again! #Trump2016 #Trump2016 https://t.co/aacld\n",
      "\n",
      "----- diversity: 0.6  -----\n",
      "eAmericaGreatAgain!http://t.co/L3cKIEDZ2X \\\"@rp53pierce: @realDonaldTrump @Mand sell with @realDonaldTrump Laving that should nothing the enoralion with are a sering the badly this condolencely thing his they would be wi\n",
      "\n",
      "----- diversity: 1.0  -----\n",
      "eAmericaGreatAgain!http://t.co/L3cKIEDZ2X \\\"@rp53pierce: @realDonaldTrump #Keport\\\" \\\"@tarlratyceusoncetyma: @Ammmacoodf00: chopter.\\\" \\\"@ReaminaSapthox and @meanncalkert.\\\" Grave AGAE. Great day this &amp; the - picty h\n",
      "\n",
      "----- diversity: 1.2  -----\n",
      "eAmericaGreatAgain!http://t.co/L3cKIEDZ2X \\\"@rp53pierce: @realDonaldTrump I how hows.A'd Thatms say turn Burnceri that he Tennin shose why westonon Jointan a. Liak tomishor mohe K4IGIDIANG KarRyis lootch kiece on - Ember\n",
      "\n",
      "--------------------------------------------------\n",
      "Iteration 5\n",
      "Epoch 1/1\n"
     ]
    },
    {
     "name": "stdout",
     "output_type": "stream",
     "text": [
      "253041/253041 [==============================] - 639s - loss: 1.6105   \n",
      "####################################################################\n",
      "#####    Seed: \"e highly respected new national poll that just came out via \"    #####\n",
      "####################################################################\n",
      "\n",
      "----- diversity: 0.1  -----\n",
      "e highly respected new national poll that just came out via @realDonaldTrump with the Was @realDonaldTrump @realDonaldTrump @realDonaldTrump @realDonaldTrump @realDonaldTrump @realDonaldTrump @realDonaldTrump @realDonald\n",
      "\n",
      "----- diversity: 0.3  -----\n",
      "e highly respected new national poll that just came out via @realDonaldTrump is a the worse and back and but her country and the Fall on her being on @realDonaldTrump @realDonaldTrump @realDonaldTrump @realDonaldTrump @r\n",
      "\n",
      "----- diversity: 0.6  -----\n",
      "e highly respected new national poll that just came out via @DonaldJTrump\\u2019 Great @realDonaldTrump to make the tough hate formillely by my more his the hirty for that supporters and supporter and his big a big reacti\n",
      "\n",
      "----- diversity: 1.0  -----\n",
      "e highly respected new national poll that just came out via @Us Via a hoirful from Chow :5\\nforces Morbo City, frow should gettic is then tough going on the Heteass, NCNTC help 2016,  http://t.co/TlycrZAyzm - Gorf-- @Dan\n",
      "\n",
      "----- diversity: 1.2  -----\n",
      "e highly respected new national poll that just came out via @BrcJocknod. @Odersonher Foundfriendly Apprentice\\\" @RotsaAjoOpty.\\u2026 Was Presidentgend\\\" #Weh&ampdumKinbsy: @strtie_Purkevs @foxandfriends #TrumpISlus enour\n",
      "\n",
      "--------------------------------------------------\n",
      "Iteration 6\n",
      "Epoch 1/1\n",
      "253041/253041 [==============================] - 622s - loss: 1.5957   \n",
      "####################################################################\n",
      "#####    Seed: \" them. Sad! Wow, just announced that Lyin' Ted and Kasich ar\"    #####\n",
      "####################################################################\n",
      "\n",
      "----- diversity: 0.1  -----\n",
      " them. Sad! Wow, just announced that Lyin' Ted and Kasich are the problems. Thank you to start to the people and the people and the people the people and the people and the people and the people the politicians and the p\n",
      "\n",
      "----- diversity: 0.3  -----\n",
      " them. Sad! Wow, just announced that Lyin' Ted and Kasich are the lost and the media and the people down the primary to get to have been the media and the country are our spenned the best be a loses are a listen on the p\n",
      "\n",
      "----- diversity: 0.6  -----\n",
      " them. Sad! Wow, just announced that Lyin' Ted and Kasich are deal every and temorion become to be they leaders like by strong the had a great the again a rest the there and should real the presidential with the gord meg\n",
      "\n",
      "----- diversity: 1.0  -----\n",
      " them. Sad! Wow, just announced that Lyin' Ted and Kasich are should never my they becoss gord. Who  A presidently is you how the offrial! https://t.co/TrActrZak5 https://t.co/AaZaa8dmCY #trump3aDessawn you was flant. \\n\n",
      "\n",
      "----- diversity: 1.2  -----\n",
      " them. Sad! Wow, just announced that Lyin' Ted and Kasich around via @erolityrric 201:Chick Rewect,http://t.co/QohMRzfiiw jump for #True1HakotJow. https://t.co/SX3rjpswAwe A loked.  Rit the HIans: Visgot : stop zeecty! \\\n",
      "\n",
      "--------------------------------------------------\n",
      "Iteration 7\n",
      "Epoch 1/1\n",
      "253041/253041 [==============================] - 626s - loss: 1.5808   \n",
      "####################################################################\n",
      "#####    Seed: \"ary Clinton. What she did was wrong! What Bill did was stupi\"    #####\n",
      "####################################################################\n",
      "\n",
      "----- diversity: 0.1  -----\n",
      "ary Clinton. What she did was wrong! What Bill did was stupiden to the problem! \\\"@Markingrers: @realDonaldTrump @realDonaldTrump @realDonaldTrump @realDonaldTrump has the problems. The words to the problem! \\\"@MikeraCar\n",
      "\n",
      "----- diversity: 0.3  -----\n"
     ]
    },
    {
     "name": "stderr",
     "output_type": "stream",
     "text": [
      "/home/key/software/anaconda3/envs/tf3.5/lib/python3.5/site-packages/ipykernel_launcher.py:8: RuntimeWarning: divide by zero encountered in log\n",
      "  \n"
     ]
    },
    {
     "name": "stdout",
     "output_type": "stream",
     "text": [
      "ary Clinton. What she did was wrong! What Bill did was stupide to have been the was the makes will be a great support to get the believates and problem! \\\"@Hepichanninger: @realDonaldTrump @realDonaldTrump #CelebApprenti\n",
      "\n",
      "----- diversity: 0.6  -----\n",
      "ary Clinton. What she did was wrong! What Bill did was stupides to #BollNews to the world\\\" \\\"@Andersovan: @realDonaldTrump our appringion! We woral debate about for no our job he is from the vote our crose want on @DanS\n",
      "\n",
      "----- diversity: 1.0  -----\n",
      "ary Clinton. What she did was wrong! What Bill did was stuping win inte fer lampine given En start!\\\" \\\"@GloranonnapaneGh:!!!\\\" \\\"@trhanukeonyfordo: @realDonaldTrump How case of North I arcies. I hope they condoess Iran \n",
      "\n",
      "----- diversity: 1.2  -----\n",
      "ary Clinton. What she did was wrong! What Bill did was stupided lool Duffoon! \\\"@DChe2: Marons to @jovenoveryzadin does what ChrisLy A. dandy Hillary...Sleds. Bloe 'Bf Give Hispordanis! He is races its a onne you \\nis m.\n",
      "\n",
      "--------------------------------------------------\n",
      "Iteration 8\n",
      "Epoch 1/1\n",
      "253041/253041 [==============================] - 620s - loss: 1.5699   \n",
      "####################################################################\n",
      "#####    Seed: \" was little. I can't wait for 2016\\\" \\\"@CliffShep: @realDona\"    #####\n",
      "####################################################################\n",
      "\n",
      "----- diversity: 0.1  -----\n",
      " was little. I can't wait for 2016\\\" \\\"@CliffShep: @realDonaldTrump @realDonaldTrump @realDonaldTrump @realDonaldTrump @realDonaldTrump @realDonaldTrump @realDonaldTrump @realDonaldTrump @realDonaldTrump @realDonaldTrump\n",
      "\n",
      "----- diversity: 0.3  -----\n",
      " was little. I can't wait for 2016\\\" \\\"@CliffShep: @realDonaldTrump @realDonaldTrump @realDonaldTrump @realDonaldTrump @TrumpPoll: \\\"@Chacaningy: @realDonaldTrump @realDonaldTrump @realDonaldTrump @realDonaldTrump @realD\n",
      "\n",
      "----- diversity: 0.6  -----\n",
      " was little. I can't wait for 2016\\\" \\\"@CliffShep: @realDonaldTrump @US last nege is going right to speak to and support! Thank you for me to a face in the maning to the back the polls in @CNN is in the one, the failing \n",
      "\n",
      "----- diversity: 1.0  -----\n",
      " was little. I can't wait for 2016\\\" \\\"@CliffShep: @realDonaldTrump wrome at Pushing the familicans. Happy #helple 'BR01 like a  slust won't has be on good of the is a swill that the make Crooked Clicetes Republican coun\n",
      "\n",
      "----- diversity: 1.2  -----\n",
      " was little. I can't wait for 2016\\\" \\\"@CliffShep: @realDonaldTrump by honycube ma!\\\"  plecter OF AhByHome gettilly, happy!O ETN. \\\"Dhants, invest Haeldoni ybe speech, san about Syon?\\\" \\\"@LVescanLedy: Experco this midd!\n",
      "\n",
      "--------------------------------------------------\n",
      "Iteration 9\n",
      "Epoch 1/1\n",
      "253041/253041 [==============================] - 621s - loss: 1.5611   \n",
      "####################################################################\n",
      "#####    Seed: \"eat Wow, did you just hear Bill Clinton's statement on how b\"    #####\n",
      "####################################################################\n",
      "\n",
      "----- diversity: 0.1  -----\n",
      "eat Wow, did you just hear Bill Clinton's statement on how being the poll of the properting the poll to have the parting the parting the parting the poll to the poll to the parting the poll to have the parting the partin\n",
      "\n",
      "----- diversity: 0.3  -----\n",
      "eat Wow, did you just hear Bill Clinton's statement on how being the support the man in the @realDonaldTrump and properting and but in the parting the proces at what he is the man with the poll on the WROGES! #MakeAmeric\n",
      "\n",
      "----- diversity: 0.6  -----\n",
      "eat Wow, did you just hear Bill Clinton's statement on how being a great should this show, the great president and our support these the stricting the V.TLEDANS CNI- &amp; @NewAgreatAgain @megynkelly @realDonaldTrump Bec\n",
      "\n",
      "----- diversity: 1.0  -----\n",
      "eat Wow, did you just hear Bill Clinton's statement on how belatue on changed to purpowe in B, Approved to where the parts?  stage guy. \\\"@MascotureV: . Awardo tomorrow this intereands2-20 rated knbotent weak dissorrning\n",
      "\n",
      "----- diversity: 1.2  -----\n",
      "eat Wow, did you just hear Bill Clinton's statement on how bizaliver she have intered great out'll At the nated alimilars listy chang in @realDonaldTrump'Sable, and : vote for igre#feas Acny to op that we! Fol to peenly.\n"
     ]
    }
   ],
   "source": [
    "if not model_exists:\n",
    "\n",
    "    # train the model, output generated text after each iteration\n",
    "    for iteration in range(0, num_epochs):\n",
    "        print()\n",
    "        print('-' * 50)\n",
    "        print('Iteration', iteration)\n",
    "        model.fit(X, y,\n",
    "                  batch_size=batch_size,\n",
    "                  epochs=1)\n",
    "        model.save(\"char_rnn_{}.h5\".format(iteration))\n",
    "        generate()\n",
    "\n",
    "else:\n",
    "    model = load_model(model_name)\n",
    "    generate()"
   ]
  },
  {
   "cell_type": "code",
   "execution_count": null,
   "metadata": {
    "collapsed": true
   },
   "outputs": [],
   "source": []
  },
  {
   "cell_type": "code",
   "execution_count": null,
   "metadata": {
    "collapsed": true
   },
   "outputs": [],
   "source": []
  }
 ],
 "metadata": {
  "kernelspec": {
   "display_name": "Python 3",
   "language": "python",
   "name": "python3"
  },
  "language_info": {
   "codemirror_mode": {
    "name": "ipython",
    "version": 3
   },
   "file_extension": ".py",
   "mimetype": "text/x-python",
   "name": "python",
   "nbconvert_exporter": "python",
   "pygments_lexer": "ipython3",
   "version": "3.5.3"
  }
 },
 "nbformat": 4,
 "nbformat_minor": 2
}
