{
 "cells": [
  {
   "cell_type": "code",
   "execution_count": 1,
   "metadata": {},
   "outputs": [],
   "source": [
    "import torch\n",
    "from torch.autograd import Variable\n",
    "from torch.nn import Linear\n",
    "from torch.nn.functional import smooth_l1_loss\n",
    "\n",
    "from sklearn.datasets import load_boston\n",
    "from sklearn.preprocessing import StandardScaler\n",
    "from sklearn.model_selection import train_test_split\n",
    "import matplotlib.pyplot as plt"
   ]
  },
  {
   "cell_type": "code",
   "execution_count": 2,
   "metadata": {},
   "outputs": [
    {
     "data": {
      "text/plain": [
       "((506, 13), (506,))"
      ]
     },
     "execution_count": 2,
     "metadata": {},
     "output_type": "execute_result"
    }
   ],
   "source": [
    "boston = load_boston()\n",
    "X = boston.data\n",
    "y = boston.target\n",
    "X.shape, y.shape"
   ]
  },
  {
   "cell_type": "code",
   "execution_count": 3,
   "metadata": {},
   "outputs": [
    {
     "data": {
      "text/plain": [
       "(506, 1)"
      ]
     },
     "execution_count": 3,
     "metadata": {},
     "output_type": "execute_result"
    }
   ],
   "source": [
    "# !!!\n",
    "y = y.reshape(-1,1)\n",
    "y.shape"
   ]
  },
  {
   "cell_type": "code",
   "execution_count": 4,
   "metadata": {},
   "outputs": [],
   "source": [
    "X_train, X_test, y_train, y_test = train_test_split(X, y, test_size=0.2, random_state=0)"
   ]
  },
  {
   "cell_type": "code",
   "execution_count": 5,
   "metadata": {
    "collapsed": true
   },
   "outputs": [],
   "source": [
    "scaler = StandardScaler().fit(X_train)\n",
    "X_train = scaler.transform(X_train)\n",
    "X_test = scaler.transform(X_test)"
   ]
  },
  {
   "cell_type": "code",
   "execution_count": 6,
   "metadata": {
    "collapsed": true
   },
   "outputs": [],
   "source": [
    "# some housekeeping\n",
    "input_dim = X_train.shape[1]\n",
    "output_dim = 1 # for regression\n",
    "\n",
    "# store cost during optimization\n",
    "train_costs = [[], []] \n",
    "# \n",
    "print_step = 50"
   ]
  },
  {
   "cell_type": "markdown",
   "metadata": {},
   "source": [
    "### Hyperparameters"
   ]
  },
  {
   "cell_type": "code",
   "execution_count": 7,
   "metadata": {
    "collapsed": true
   },
   "outputs": [],
   "source": [
    "learning_rate = 0.5\n",
    "num_epochs = 100"
   ]
  },
  {
   "cell_type": "markdown",
   "metadata": {},
   "source": [
    "### Variables"
   ]
  },
  {
   "cell_type": "code",
   "execution_count": 8,
   "metadata": {},
   "outputs": [],
   "source": [
    "dtype = torch.FloatTensor\n",
    "\n",
    "X_train = Variable(torch.from_numpy(X_train).type(dtype))\n",
    "X_test = Variable(torch.from_numpy(X_test).type(dtype))\n",
    "y_train = Variable(torch.from_numpy(y_train).type(dtype))\n",
    "y_test = Variable(torch.from_numpy(y_test).type(dtype))"
   ]
  },
  {
   "cell_type": "markdown",
   "metadata": {},
   "source": [
    "### Define the model"
   ]
  },
  {
   "cell_type": "code",
   "execution_count": 9,
   "metadata": {},
   "outputs": [],
   "source": [
    "# Linear(in_features, out_features, bias=True)\n",
    "# Applies a linear transformation to the incoming data: :math:`y = Ax + b`\n",
    "# in_features: size of each input sample\n",
    "# out_features: size of each output sample\n",
    "# bias: If set to False, the layer will not learn an additive bias. Default: True\n",
    "\n",
    "model = Linear(input_dim, output_dim)\n",
    "loss_fn = torch.nn.MSELoss()\n",
    "optimizer = torch.optim.Adam(model.parameters(), lr=learning_rate)"
   ]
  },
  {
   "cell_type": "markdown",
   "metadata": {},
   "source": [
    "### Fit the model"
   ]
  },
  {
   "cell_type": "code",
   "execution_count": 10,
   "metadata": {},
   "outputs": [
    {
     "name": "stdout",
     "output_type": "stream",
     "text": [
      "Epoch: 0000 loss = 597.4117\n",
      "Epoch: 0050 loss = 27.6969\n"
     ]
    }
   ],
   "source": [
    "for epoch in range(num_epochs):\n",
    "   \n",
    "  # Forward pass\n",
    "  y_pred = model(X_train)\n",
    "  loss_var = loss_fn(y_pred, y_train)\n",
    "  loss = loss_var.data[0]\n",
    "                           \n",
    "  train_costs[0].append(epoch)\n",
    "  train_costs[1].append(loss)\n",
    "  if epoch % print_step == 0:\n",
    "    print(\"Epoch:\", '%04d' % (epoch), \"loss =\", \"{:.4f}\".format(loss))\n",
    "  \n",
    "  # zero the gradients\n",
    "  optimizer.zero_grad()\n",
    "\n",
    "  # Backward pass\n",
    "  loss_var.backward()\n",
    "\n",
    "  # Calling the step function on an Optimizer makes an update to its parameters\n",
    "  optimizer.step()\n",
    "  "
   ]
  },
  {
   "cell_type": "code",
   "execution_count": 11,
   "metadata": {},
   "outputs": [
    {
     "name": "stdout",
     "output_type": "stream",
     "text": [
      "\n",
      "\n",
      "Training cost:  19.3862\n",
      "\n",
      "Test cost:  33.3771\n"
     ]
    }
   ],
   "source": [
    "train_score = loss_fn(model(X_train), y_train).data[0]\n",
    "test_score = loss_fn(model(X_test), y_test).data[0]\n",
    "\n",
    "print(\"\\n\\nTraining cost: \", \"{:.4f}\".format(train_score))\n",
    "print(\"\\nTest cost: \", \"{:.4f}\".format(test_score))"
   ]
  },
  {
   "cell_type": "markdown",
   "metadata": {},
   "source": [
    "### get model weights"
   ]
  },
  {
   "cell_type": "code",
   "execution_count": 12,
   "metadata": {},
   "outputs": [
    {
     "data": {
      "text/plain": [
       "\n",
       "\n",
       "Columns 0 to 9 \n",
       "-0.9448  1.0565  0.0395  0.5866 -1.8368  2.5698 -0.0817 -2.8716  2.0897 -1.8599\n",
       "\n",
       "Columns 10 to 12 \n",
       "-2.3016  0.7329 -3.5887\n",
       "[torch.FloatTensor of size 1x13]"
      ]
     },
     "execution_count": 12,
     "metadata": {},
     "output_type": "execute_result"
    }
   ],
   "source": [
    "model.weight.data"
   ]
  },
  {
   "cell_type": "code",
   "execution_count": 13,
   "metadata": {},
   "outputs": [
    {
     "data": {
      "text/plain": [
       "\n",
       " 22.8467\n",
       "[torch.FloatTensor of size 1]"
      ]
     },
     "execution_count": 13,
     "metadata": {},
     "output_type": "execute_result"
    }
   ],
   "source": [
    "model.bias.data"
   ]
  },
  {
   "cell_type": "code",
   "execution_count": 14,
   "metadata": {},
   "outputs": [
    {
     "data": {
      "image/png": "[encoded data removed]",
      "text/plain": [
       "<matplotlib.figure.Figure at 0x7fb2eee376a0>"
      ]
     },
     "metadata": {},
     "output_type": "display_data"
    }
   ],
   "source": [
    "plt.plot(train_costs[0], train_costs[1], 'c.')\n",
    "plt.axis([0, num_epochs, 0, max(train_costs[1])])\n",
    "plt.show()   "
   ]
  },
  {
   "cell_type": "markdown",
   "metadata": {},
   "source": [
    "### Get predictions"
   ]
  },
  {
   "cell_type": "code",
   "execution_count": 15,
   "metadata": {},
   "outputs": [
    {
     "data": {
      "image/png": "[encoded data removed]",
      "text/plain": [
       "<matplotlib.figure.Figure at 0x7fb34a62a2b0>"
      ]
     },
     "metadata": {},
     "output_type": "display_data"
    }
   ],
   "source": [
    "pred_train = model(X_train).data.numpy()\n",
    "y_train_numpy = y_train.data.numpy()\n",
    "fig, ax = plt.subplots()\n",
    "ax.scatter(y_train_numpy, pred_train)\n",
    "ax.plot([y_train_numpy.min(), y_train_numpy.max()], [y_train_numpy.min(), y_train_numpy.max()], 'k--', lw=3)\n",
    "ax.set_xlabel('Measured')\n",
    "ax.set_ylabel('Predicted')\n",
    "plt.show()"
   ]
  },
  {
   "cell_type": "code",
   "execution_count": 16,
   "metadata": {},
   "outputs": [
    {
     "data": {
      "image/png": "[encoded data removed]",
      "text/plain": [
       "<matplotlib.figure.Figure at 0x7fb344053860>"
      ]
     },
     "metadata": {},
     "output_type": "display_data"
    }
   ],
   "source": [
    "pred_test = model(X_test).data.numpy()\n",
    "y_test_numpy = y_test.data.numpy()\n",
    "fig, ax = plt.subplots()\n",
    "ax.scatter(y_test_numpy, pred_test)\n",
    "ax.plot([y_test_numpy.min(), y_test_numpy.max()], [y_test_numpy.min(), y_test_numpy.max()], 'k--', lw=3)\n",
    "ax.set_xlabel('Measured')\n",
    "ax.set_ylabel('Predicted')\n",
    "plt.show()"
   ]
  },
  {
   "cell_type": "code",
   "execution_count": null,
   "metadata": {
    "collapsed": true
   },
   "outputs": [],
   "source": []
  },
  {
   "cell_type": "code",
   "execution_count": null,
   "metadata": {
    "collapsed": true
   },
   "outputs": [],
   "source": []
  }
 ],
 "metadata": {
  "kernelspec": {
   "display_name": "Python 3",
   "language": "python",
   "name": "python3"
  },
  "language_info": {
   "codemirror_mode": {
    "name": "ipython",
    "version": 3
   },
   "file_extension": ".py",
   "mimetype": "text/x-python",
   "name": "python",
   "nbconvert_exporter": "python",
   "pygments_lexer": "ipython3",
   "version": "3.6.1"
  }
 },
 "nbformat": 4,
 "nbformat_minor": 2
}
