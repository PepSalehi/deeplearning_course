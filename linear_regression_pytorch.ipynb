{
 "cells": [
  {
   "cell_type": "markdown",
   "metadata": {},
   "source": [
    "# Linear regression with PyTorch"
   ]
  },
  {
   "cell_type": "markdown",
   "metadata": {},
   "source": [
    "We use scikit-learn to load and preprocess the Boston housing data."
   ]
  },
  {
   "cell_type": "code",
   "execution_count": 1,
   "metadata": {
    "collapsed": true
   },
   "outputs": [],
   "source": [
    "import torch\n",
    "from torch.autograd import Variable\n",
    "from torch.nn import Linear\n",
    "from torch.nn.functional import smooth_l1_loss\n",
    "\n",
    "from sklearn.datasets import load_boston\n",
    "from sklearn.preprocessing import StandardScaler\n",
    "from sklearn.model_selection import train_test_split\n",
    "import matplotlib.pyplot as plt"
   ]
  },
  {
   "cell_type": "code",
   "execution_count": 2,
   "metadata": {},
   "outputs": [
    {
     "data": {
      "text/plain": [
       "((506, 13), (506,))"
      ]
     },
     "execution_count": 2,
     "metadata": {},
     "output_type": "execute_result"
    }
   ],
   "source": [
    "boston = load_boston()\n",
    "X = boston.data\n",
    "y = boston.target\n",
    "X.shape, y.shape"
   ]
  },
  {
   "cell_type": "code",
   "execution_count": 3,
   "metadata": {},
   "outputs": [
    {
     "data": {
      "text/plain": [
       "(506, 1)"
      ]
     },
     "execution_count": 3,
     "metadata": {},
     "output_type": "execute_result"
    }
   ],
   "source": [
    "# here too, we need to reshape the target\n",
    "y = y.reshape(-1,1)\n",
    "y.shape"
   ]
  },
  {
   "cell_type": "code",
   "execution_count": 4,
   "metadata": {
    "collapsed": true
   },
   "outputs": [],
   "source": [
    "X_train, X_test, y_train, y_test = train_test_split(X, y, test_size=0.2, random_state=0)"
   ]
  },
  {
   "cell_type": "code",
   "execution_count": 5,
   "metadata": {
    "collapsed": true
   },
   "outputs": [],
   "source": [
    "scaler = StandardScaler().fit(X_train)\n",
    "X_train = scaler.transform(X_train)\n",
    "X_test = scaler.transform(X_test)"
   ]
  },
  {
   "cell_type": "code",
   "execution_count": 6,
   "metadata": {
    "collapsed": true
   },
   "outputs": [],
   "source": [
    "# some housekeeping\n",
    "input_dim = X_train.shape[1]\n",
    "output_dim = 1 # for regression\n",
    "\n",
    "# store cost during optimization\n",
    "train_costs = [[], []] \n",
    "# \n",
    "print_step = 10"
   ]
  },
  {
   "cell_type": "markdown",
   "metadata": {},
   "source": [
    "### Hyperparameters"
   ]
  },
  {
   "cell_type": "code",
   "execution_count": 7,
   "metadata": {
    "collapsed": true
   },
   "outputs": [],
   "source": [
    "learning_rate = 0.5\n",
    "num_epochs = 100"
   ]
  },
  {
   "cell_type": "markdown",
   "metadata": {},
   "source": [
    "### Variables"
   ]
  },
  {
   "cell_type": "code",
   "execution_count": 8,
   "metadata": {
    "collapsed": true
   },
   "outputs": [],
   "source": [
    "dtype = torch.FloatTensor\n",
    "\n",
    "X_train = Variable(torch.from_numpy(X_train).type(dtype))\n",
    "X_test = Variable(torch.from_numpy(X_test).type(dtype))\n",
    "y_train = Variable(torch.from_numpy(y_train).type(dtype))\n",
    "y_test = Variable(torch.from_numpy(y_test).type(dtype))"
   ]
  },
  {
   "cell_type": "markdown",
   "metadata": {},
   "source": [
    "### Define the model"
   ]
  },
  {
   "cell_type": "code",
   "execution_count": 9,
   "metadata": {
    "collapsed": true
   },
   "outputs": [],
   "source": [
    "# from the docs\n",
    "# Linear(in_features, out_features, bias=True)\n",
    "# Applies a linear transformation to the incoming data: :math:`y = Ax + b`\n",
    "\n",
    "model = Linear(input_dim, output_dim)\n",
    "loss_fn = torch.nn.MSELoss()\n",
    "optimizer = torch.optim.Adam(model.parameters(), lr=learning_rate)"
   ]
  },
  {
   "cell_type": "markdown",
   "metadata": {},
   "source": [
    "### Fit the model"
   ]
  },
  {
   "cell_type": "code",
   "execution_count": 10,
   "metadata": {},
   "outputs": [
    {
     "name": "stdout",
     "output_type": "stream",
     "text": [
      "Epoch: 0000 loss = 604.5601\n",
      "Epoch: 0010 loss = 346.1378\n",
      "Epoch: 0020 loss = 194.9661\n",
      "Epoch: 0030 loss = 100.9765\n",
      "Epoch: 0040 loss = 49.9425\n",
      "Epoch: 0050 loss = 28.0688\n",
      "Epoch: 0060 loss = 20.8772\n",
      "Epoch: 0070 loss = 19.4106\n",
      "Epoch: 0080 loss = 19.3794\n",
      "Epoch: 0090 loss = 19.4225\n"
     ]
    }
   ],
   "source": [
    "for epoch in range(num_epochs):\n",
    "   \n",
    "  # Forward pass\n",
    "  y_pred = model(X_train)     # model function is called \"afresh\" at every step! So it need not be the same all the time...\n",
    "  loss_var = loss_fn(y_pred, y_train)\n",
    "  loss = loss_var.data[0]\n",
    "                           \n",
    "  train_costs[0].append(epoch)\n",
    "  train_costs[1].append(loss)\n",
    "  if epoch % print_step == 0:\n",
    "    print(\"Epoch:\", '%04d' % (epoch), \"loss =\", \"{:.4f}\".format(loss))\n",
    "  \n",
    "  # zero the gradients\n",
    "  optimizer.zero_grad()\n",
    "\n",
    "  # Backward pass\n",
    "  loss_var.backward()\n",
    "\n",
    "  # Calling the step function on an Optimizer makes an update to its parameters\n",
    "  optimizer.step()\n",
    "  "
   ]
  },
  {
   "cell_type": "markdown",
   "metadata": {},
   "source": [
    "### Evaluate model"
   ]
  },
  {
   "cell_type": "code",
   "execution_count": 11,
   "metadata": {},
   "outputs": [
    {
     "name": "stdout",
     "output_type": "stream",
     "text": [
      "\n",
      "\n",
      "Training cost:  19.3866\n",
      "\n",
      "Test cost:  33.4122\n"
     ]
    }
   ],
   "source": [
    "train_score = loss_fn(model(X_train), y_train).data[0]\n",
    "test_score = loss_fn(model(X_test), y_test).data[0]\n",
    "\n",
    "print(\"\\n\\nTraining cost: \", \"{:.4f}\".format(train_score))\n",
    "print(\"\\nTest cost: \", \"{:.4f}\".format(test_score))"
   ]
  },
  {
   "cell_type": "markdown",
   "metadata": {},
   "source": [
    "### Get model weights (coefficients)"
   ]
  },
  {
   "cell_type": "code",
   "execution_count": 12,
   "metadata": {},
   "outputs": [
    {
     "data": {
      "text/plain": [
       "\n",
       "\n",
       "Columns 0 to 9 \n",
       "-0.9512  1.0541  0.0358  0.5857 -1.8366  2.5744 -0.0814 -2.8738  2.0767 -1.8502\n",
       "\n",
       "Columns 10 to 12 \n",
       "-2.3030  0.7289 -3.5892\n",
       "[torch.FloatTensor of size 1x13]"
      ]
     },
     "execution_count": 12,
     "metadata": {},
     "output_type": "execute_result"
    }
   ],
   "source": [
    "model.weight.data"
   ]
  },
  {
   "cell_type": "code",
   "execution_count": 13,
   "metadata": {},
   "outputs": [
    {
     "data": {
      "text/plain": [
       "\n",
       " 22.8480\n",
       "[torch.FloatTensor of size 1]"
      ]
     },
     "execution_count": 13,
     "metadata": {},
     "output_type": "execute_result"
    }
   ],
   "source": [
    "model.bias.data"
   ]
  },
  {
   "cell_type": "markdown",
   "metadata": {},
   "source": [
    "### Plot training cost"
   ]
  },
  {
   "cell_type": "code",
   "execution_count": 14,
   "metadata": {},
   "outputs": [
    {
     "data": {
      "image/png": "[encoded data removed]",
      "text/plain": [
       "<matplotlib.figure.Figure at 0x7fdf11932828>"
      ]
     },
     "metadata": {},
     "output_type": "display_data"
    }
   ],
   "source": [
    "plt.plot(train_costs[0], train_costs[1], 'c.')\n",
    "plt.axis([0, num_epochs, 0, max(train_costs[1])])\n",
    "plt.show()   "
   ]
  },
  {
   "cell_type": "markdown",
   "metadata": {},
   "source": [
    "### Get predictions"
   ]
  },
  {
   "cell_type": "code",
   "execution_count": 16,
   "metadata": {},
   "outputs": [
    {
     "data": {
      "text/plain": [
       "\n",
       " 25.1331\n",
       " 23.9496\n",
       " 29.5743\n",
       " 12.4043\n",
       " 21.6738\n",
       " 19.5102\n",
       " 20.7063\n",
       " 21.5734\n",
       " 19.1240\n",
       " 20.1214\n",
       "[torch.FloatTensor of size 10x1]"
      ]
     },
     "execution_count": 16,
     "metadata": {},
     "output_type": "execute_result"
    }
   ],
   "source": [
    "# to get predictions, just call model function with an input Variable and extract the data from the resulting Variable\n",
    "preds = model(X_test).data\n",
    "preds[:10]"
   ]
  },
  {
   "cell_type": "code",
   "execution_count": 17,
   "metadata": {},
   "outputs": [
    {
     "data": {
      "image/png": "[encoded data removed]",
      "text/plain": [
       "<matplotlib.figure.Figure at 0x7fdf110d84e0>"
      ]
     },
     "metadata": {},
     "output_type": "display_data"
    }
   ],
   "source": [
    "pred_train = model(X_train).data.numpy() # convert to NumPy for plotting\n",
    "y_train_numpy = y_train.data.numpy()\n",
    "fig, ax = plt.subplots()\n",
    "ax.scatter(y_train_numpy, pred_train)\n",
    "ax.plot([y_train_numpy.min(), y_train_numpy.max()], [y_train_numpy.min(), y_train_numpy.max()], 'k--', lw=3)\n",
    "ax.set_xlabel('Measured')\n",
    "ax.set_ylabel('Predicted')\n",
    "plt.show()"
   ]
  },
  {
   "cell_type": "code",
   "execution_count": 18,
   "metadata": {},
   "outputs": [
    {
     "data": {
      "image/png": "[encoded data removed]",
      "text/plain": [
       "<matplotlib.figure.Figure at 0x7fdf10fbfc18>"
      ]
     },
     "metadata": {},
     "output_type": "display_data"
    }
   ],
   "source": [
    "pred_test = model(X_test).data.numpy()\n",
    "y_test_numpy = y_test.data.numpy()\n",
    "fig, ax = plt.subplots()\n",
    "ax.scatter(y_test_numpy, pred_test)\n",
    "ax.plot([y_test_numpy.min(), y_test_numpy.max()], [y_test_numpy.min(), y_test_numpy.max()], 'k--', lw=3)\n",
    "ax.set_xlabel('Measured')\n",
    "ax.set_ylabel('Predicted')\n",
    "plt.show()"
   ]
  },
  {
   "cell_type": "code",
   "execution_count": null,
   "metadata": {
    "collapsed": true
   },
   "outputs": [],
   "source": []
  }
 ],
 "metadata": {
  "kernelspec": {
   "display_name": "Python 3",
   "language": "python",
   "name": "python3"
  },
  "language_info": {
   "codemirror_mode": {
    "name": "ipython",
    "version": 3
   },
   "file_extension": ".py",
   "mimetype": "text/x-python",
   "name": "python",
   "nbconvert_exporter": "python",
   "pygments_lexer": "ipython3",
   "version": "3.6.1"
  }
 },
 "nbformat": 4,
 "nbformat_minor": 2
}
