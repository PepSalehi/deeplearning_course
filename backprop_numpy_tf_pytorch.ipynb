{
 "cells": [
  {
   "cell_type": "markdown",
   "metadata": {},
   "source": [
    "# Backpropagation in NumPy vs TensorFlow vs PyTorch"
   ]
  },
  {
   "cell_type": "markdown",
   "metadata": {},
   "source": [
    "## 1) NumPy"
   ]
  },
  {
   "cell_type": "code",
   "execution_count": 1,
   "metadata": {
    "collapsed": true
   },
   "outputs": [],
   "source": [
    "import numpy as np"
   ]
  },
  {
   "cell_type": "code",
   "execution_count": 2,
   "metadata": {
    "collapsed": true
   },
   "outputs": [],
   "source": [
    "rowdim, coldim = 4,3"
   ]
  },
  {
   "cell_type": "markdown",
   "metadata": {},
   "source": [
    "#### create data"
   ]
  },
  {
   "cell_type": "code",
   "execution_count": 3,
   "metadata": {},
   "outputs": [
    {
     "name": "stdout",
     "output_type": "stream",
     "text": [
      "[[ 0.43787304  0.96557349  1.0921883 ]\n",
      " [ 0.13662005 -0.38701585  0.68148381]\n",
      " [-0.09396063  1.12197495 -1.1509547 ]\n",
      " [ 0.90929498 -0.33493472 -0.35300799]]\n",
      "[[ 1.  1.  1.]\n",
      " [ 1.  1.  1.]\n",
      " [ 1.  1.  1.]\n",
      " [ 1.  1.  1.]]\n",
      "[[ 1  2  3]\n",
      " [ 4  5  6]\n",
      " [ 7  8  9]\n",
      " [10 11 12]]\n"
     ]
    }
   ],
   "source": [
    "Xdata = np.random.randn(rowdim, coldim)\n",
    "print(Xdata)\n",
    "Ydata = np.ones((rowdim, coldim))\n",
    "print(Ydata)\n",
    "Zdata = np.arange(1,13).reshape(4,3)\n",
    "print(Zdata)"
   ]
  },
  {
   "cell_type": "markdown",
   "metadata": {},
   "source": [
    "#### forward computations"
   ]
  },
  {
   "cell_type": "code",
   "execution_count": 4,
   "metadata": {},
   "outputs": [
    {
     "data": {
      "text/plain": [
       "array([[ 0.43787304,  0.96557349,  1.0921883 ],\n",
       "       [ 0.13662005, -0.38701585,  0.68148381],\n",
       "       [-0.09396063,  1.12197495, -1.1509547 ],\n",
       "       [ 0.90929498, -0.33493472, -0.35300799]])"
      ]
     },
     "execution_count": 4,
     "metadata": {},
     "output_type": "execute_result"
    }
   ],
   "source": [
    "# multiplication op\n",
    "# this is element-wise\n",
    "node1 = Xdata * Ydata\n",
    "node1"
   ]
  },
  {
   "cell_type": "code",
   "execution_count": 5,
   "metadata": {},
   "outputs": [
    {
     "data": {
      "text/plain": [
       "array([[  1.43787304,   2.96557349,   4.0921883 ],\n",
       "       [  4.13662005,   4.61298415,   6.68148381],\n",
       "       [  6.90603937,   9.12197495,   7.8490453 ],\n",
       "       [ 10.90929498,  10.66506528,  11.64699201]])"
      ]
     },
     "execution_count": 5,
     "metadata": {},
     "output_type": "execute_result"
    }
   ],
   "source": [
    "# addition op\n",
    "node2 = node1 + Zdata\n",
    "node2"
   ]
  },
  {
   "cell_type": "code",
   "execution_count": 6,
   "metadata": {},
   "outputs": [
    {
     "data": {
      "text/plain": [
       "81.025134745767133"
      ]
     },
     "execution_count": 6,
     "metadata": {},
     "output_type": "execute_result"
    }
   ],
   "source": [
    "# summarize whole matrix\n",
    "node3 = np.sum(node2)\n",
    "node3"
   ]
  },
  {
   "cell_type": "markdown",
   "metadata": {},
   "source": [
    "#### backprop"
   ]
  },
  {
   "cell_type": "code",
   "execution_count": 8,
   "metadata": {
    "collapsed": true
   },
   "outputs": [],
   "source": [
    "# Let's call the result r\n",
    "# then this is dr/dnode3, which is just 1\n",
    "grad_node3 = 1.0"
   ]
  },
  {
   "cell_type": "code",
   "execution_count": 9,
   "metadata": {},
   "outputs": [
    {
     "data": {
      "text/plain": [
       "array([[ 1.,  1.,  1.],\n",
       "       [ 1.,  1.,  1.],\n",
       "       [ 1.,  1.,  1.],\n",
       "       [ 1.,  1.,  1.]])"
      ]
     },
     "execution_count": 9,
     "metadata": {},
     "output_type": "execute_result"
    }
   ],
   "source": [
    "# chain rule\n",
    "# dr/dnode2 = dr/dnode3 * dnode3/dnode2\n",
    "# the latter is 1 for every element because of the summation operation\n",
    "grad_node2 = grad_node3 * np.ones((rowdim, coldim))\n",
    "grad_node2"
   ]
  },
  {
   "cell_type": "code",
   "execution_count": 10,
   "metadata": {},
   "outputs": [
    {
     "data": {
      "text/plain": [
       "array([[ 1.,  1.,  1.],\n",
       "       [ 1.,  1.,  1.],\n",
       "       [ 1.,  1.,  1.],\n",
       "       [ 1.,  1.,  1.]])"
      ]
     },
     "execution_count": 10,
     "metadata": {},
     "output_type": "execute_result"
    }
   ],
   "source": [
    "# chain rule again\n",
    "# dr/dnode1 = dr/dnode3 * dnode3/dnode2 * dnode2/dnode1\n",
    "# the latter is 1 because of the addition\n",
    "grad_node1 = grad_node2.copy()\n",
    "grad_node1"
   ]
  },
  {
   "cell_type": "code",
   "execution_count": 11,
   "metadata": {},
   "outputs": [
    {
     "data": {
      "text/plain": [
       "array([[ 1.,  1.,  1.],\n",
       "       [ 1.,  1.,  1.],\n",
       "       [ 1.,  1.,  1.],\n",
       "       [ 1.,  1.,  1.]])"
      ]
     },
     "execution_count": 11,
     "metadata": {},
     "output_type": "execute_result"
    }
   ],
   "source": [
    "# chain rule again\n",
    "# dr/Z = dr/dnode3 * dnode3/dnode2 * dnode2/dZ\n",
    "# the latter is 1 because of the addition\n",
    "grad_Z = grad_node2.copy()\n",
    "grad_Z"
   ]
  },
  {
   "cell_type": "code",
   "execution_count": 12,
   "metadata": {},
   "outputs": [
    {
     "data": {
      "text/plain": [
       "array([[ 0.43787304,  0.96557349,  1.0921883 ],\n",
       "       [ 0.13662005, -0.38701585,  0.68148381],\n",
       "       [-0.09396063,  1.12197495, -1.1509547 ],\n",
       "       [ 0.90929498, -0.33493472, -0.35300799]])"
      ]
     },
     "execution_count": 12,
     "metadata": {},
     "output_type": "execute_result"
    }
   ],
   "source": [
    "# chain rule again\n",
    "# dr/dY = dr/dnode3 * dnode3/dnode2 * dnode2/dnode1 * dnode1/dY\n",
    "# the latter is X because of the multiplication\n",
    "grad_Y = grad_node1 * Xdata\n",
    "grad_Y"
   ]
  },
  {
   "cell_type": "code",
   "execution_count": 13,
   "metadata": {},
   "outputs": [
    {
     "data": {
      "text/plain": [
       "array([[ 1.,  1.,  1.],\n",
       "       [ 1.,  1.,  1.],\n",
       "       [ 1.,  1.,  1.],\n",
       "       [ 1.,  1.,  1.]])"
      ]
     },
     "execution_count": 13,
     "metadata": {},
     "output_type": "execute_result"
    }
   ],
   "source": [
    "# chain rule again\n",
    "# dr/dX = dr/dnode3 * dnode3/dnode2 * dnode2/dnode1 * dnode1/dX\n",
    "# the latter is Y because of the multiplication\n",
    "grad_X = grad_node1 * Ydata\n",
    "grad_X"
   ]
  },
  {
   "cell_type": "markdown",
   "metadata": {},
   "source": [
    "## 2) TensorFlow"
   ]
  },
  {
   "cell_type": "code",
   "execution_count": 14,
   "metadata": {
    "collapsed": true
   },
   "outputs": [],
   "source": [
    "import tensorflow as tf"
   ]
  },
  {
   "cell_type": "markdown",
   "metadata": {},
   "source": [
    "#### define graph"
   ]
  },
  {
   "cell_type": "code",
   "execution_count": 15,
   "metadata": {
    "collapsed": true
   },
   "outputs": [],
   "source": [
    "X = tf.placeholder(tf.float32)\n",
    "Y = tf.placeholder(tf.float32)\n",
    "Z = tf.placeholder(tf.float32)"
   ]
  },
  {
   "cell_type": "code",
   "execution_count": 16,
   "metadata": {},
   "outputs": [
    {
     "data": {
      "text/plain": [
       "<tf.Tensor 'mul:0' shape=<unknown> dtype=float32>"
      ]
     },
     "execution_count": 16,
     "metadata": {},
     "output_type": "execute_result"
    }
   ],
   "source": [
    "node1 = X * Y\n",
    "node1"
   ]
  },
  {
   "cell_type": "code",
   "execution_count": 17,
   "metadata": {},
   "outputs": [
    {
     "data": {
      "text/plain": [
       "<tf.Tensor 'add:0' shape=<unknown> dtype=float32>"
      ]
     },
     "execution_count": 17,
     "metadata": {},
     "output_type": "execute_result"
    }
   ],
   "source": [
    "node2 = node1 + Z\n",
    "node2"
   ]
  },
  {
   "cell_type": "code",
   "execution_count": 18,
   "metadata": {},
   "outputs": [
    {
     "data": {
      "text/plain": [
       "<tf.Tensor 'Sum:0' shape=<unknown> dtype=float32>"
      ]
     },
     "execution_count": 18,
     "metadata": {},
     "output_type": "execute_result"
    }
   ],
   "source": [
    "node3 = tf.reduce_sum(node2)\n",
    "node3"
   ]
  },
  {
   "cell_type": "markdown",
   "metadata": {},
   "source": [
    "#### nodes to get the gradients"
   ]
  },
  {
   "cell_type": "code",
   "execution_count": 20,
   "metadata": {
    "collapsed": true
   },
   "outputs": [],
   "source": [
    "# from the docs\n",
    "# tf.gradients(ys, xs, grad_ys=None, name='gradients', colocate_gradients_with_ops=False, gate_gradients=False, aggregation_method=None)\n",
    "# Constructs symbolic partial derivatives of sum of `ys` w.r.t. x in `xs`.\n",
    "\n",
    "grad_X, grad_Y, grad_Z = tf.gradients(node3, [X,Y,Z])"
   ]
  },
  {
   "cell_type": "markdown",
   "metadata": {},
   "source": [
    "#### run"
   ]
  },
  {
   "cell_type": "code",
   "execution_count": 21,
   "metadata": {},
   "outputs": [
    {
     "name": "stdout",
     "output_type": "stream",
     "text": [
      "81.0251\n",
      "[[ 1.  1.  1.]\n",
      " [ 1.  1.  1.]\n",
      " [ 1.  1.  1.]\n",
      " [ 1.  1.  1.]]\n",
      "[[ 0.43787304  0.96557349  1.09218836]\n",
      " [ 0.13662006 -0.38701585  0.68148381]\n",
      " [-0.09396063  1.12197495 -1.15095472]\n",
      " [ 0.90929496 -0.33493471 -0.35300797]]\n",
      "[[ 1.  1.  1.]\n",
      " [ 1.  1.  1.]\n",
      " [ 1.  1.  1.]\n",
      " [ 1.  1.  1.]]\n"
     ]
    }
   ],
   "source": [
    "with tf.Session() as sess:\n",
    "    node3_eval, grad_X_eval, grad_Y_eval, grad_Z_eval = sess.run(\n",
    "        [node3, grad_X, grad_Y, grad_Z], feed_dict = {X : Xdata, Y: Ydata, Z: Zdata})    \n",
    "    print(node3_eval)\n",
    "    print(grad_X_eval)\n",
    "    print(grad_Y_eval)\n",
    "    print(grad_Z_eval)"
   ]
  },
  {
   "cell_type": "markdown",
   "metadata": {},
   "source": [
    "## 3) PyTorch"
   ]
  },
  {
   "cell_type": "code",
   "execution_count": 1,
   "metadata": {
    "collapsed": true
   },
   "outputs": [],
   "source": [
    "import torch\n",
    "from torch.autograd import Variable"
   ]
  },
  {
   "cell_type": "markdown",
   "metadata": {},
   "source": [
    "#### Variables hold data (Tensors) and gradients"
   ]
  },
  {
   "cell_type": "code",
   "execution_count": 3,
   "metadata": {},
   "outputs": [
    {
     "data": {
      "text/plain": [
       "(Variable containing:\n",
       " -0.1362 -0.6896  1.0246\n",
       " -0.6552  1.0568 -0.0626\n",
       "  0.5539  0.2326  0.0676\n",
       "  0.1412  0.1692  0.3174\n",
       " [torch.FloatTensor of size 4x3], Variable containing:\n",
       "  1  1  1\n",
       "  1  1  1\n",
       "  1  1  1\n",
       "  1  1  1\n",
       " [torch.FloatTensor of size 4x3], Variable containing:\n",
       "   1   2   3\n",
       "   4   5   6\n",
       "   7   8   9\n",
       "  10  11  12\n",
       " [torch.FloatTensor of size 4x3])"
      ]
     },
     "execution_count": 3,
     "metadata": {},
     "output_type": "execute_result"
    }
   ],
   "source": [
    "rowdim, coldim = 4,3\n",
    "\n",
    "X = Variable(torch.randn(rowdim, coldim), requires_grad = True)\n",
    "Y = Variable(torch.ones(rowdim, coldim), requires_grad = True)\n",
    "Z = Variable(torch.arange(1, 13).view(rowdim, coldim), requires_grad = True)\n",
    "\n",
    "X, Y, Z"
   ]
  },
  {
   "cell_type": "markdown",
   "metadata": {},
   "source": [
    "#### forward computation"
   ]
  },
  {
   "cell_type": "code",
   "execution_count": 4,
   "metadata": {},
   "outputs": [
    {
     "data": {
      "text/plain": [
       "Variable containing:\n",
       "-0.1362 -0.6896  1.0246\n",
       "-0.6552  1.0568 -0.0626\n",
       " 0.5539  0.2326  0.0676\n",
       " 0.1412  0.1692  0.3174\n",
       "[torch.FloatTensor of size 4x3]"
      ]
     },
     "execution_count": 4,
     "metadata": {},
     "output_type": "execute_result"
    }
   ],
   "source": [
    "node1 = X * Y\n",
    "node1"
   ]
  },
  {
   "cell_type": "code",
   "execution_count": 5,
   "metadata": {},
   "outputs": [
    {
     "data": {
      "text/plain": [
       "Variable containing:\n",
       "  0.8638   1.3104   4.0246\n",
       "  3.3448   6.0568   5.9374\n",
       "  7.5539   8.2326   9.0676\n",
       " 10.1412  11.1692  12.3174\n",
       "[torch.FloatTensor of size 4x3]"
      ]
     },
     "execution_count": 5,
     "metadata": {},
     "output_type": "execute_result"
    }
   ],
   "source": [
    "node2 = node1 + Z\n",
    "node2"
   ]
  },
  {
   "cell_type": "code",
   "execution_count": 6,
   "metadata": {},
   "outputs": [
    {
     "data": {
      "text/plain": [
       "Variable containing:\n",
       " 80.0198\n",
       "[torch.FloatTensor of size 1]"
      ]
     },
     "execution_count": 6,
     "metadata": {},
     "output_type": "execute_result"
    }
   ],
   "source": [
    "node3 = torch.sum(node2)\n",
    "node3"
   ]
  },
  {
   "cell_type": "markdown",
   "metadata": {},
   "source": [
    "#### autograd!"
   ]
  },
  {
   "cell_type": "code",
   "execution_count": 7,
   "metadata": {
    "collapsed": true
   },
   "outputs": [],
   "source": [
    "node3.backward()"
   ]
  },
  {
   "cell_type": "code",
   "execution_count": 8,
   "metadata": {},
   "outputs": [
    {
     "name": "stdout",
     "output_type": "stream",
     "text": [
      "\n",
      " 1  1  1\n",
      " 1  1  1\n",
      " 1  1  1\n",
      " 1  1  1\n",
      "[torch.FloatTensor of size 4x3]\n",
      "\n",
      "\n",
      "-0.1362 -0.6896  1.0246\n",
      "-0.6552  1.0568 -0.0626\n",
      " 0.5539  0.2326  0.0676\n",
      " 0.1412  0.1692  0.3174\n",
      "[torch.FloatTensor of size 4x3]\n",
      "\n",
      "\n",
      " 1  1  1\n",
      " 1  1  1\n",
      " 1  1  1\n",
      " 1  1  1\n",
      "[torch.FloatTensor of size 4x3]\n",
      "\n"
     ]
    }
   ],
   "source": [
    "print(X.grad.data)\n",
    "print(Y.grad.data)\n",
    "print(Z.grad.data)"
   ]
  }
 ],
 "metadata": {
  "kernelspec": {
   "display_name": "Python 3",
   "language": "python",
   "name": "python3"
  },
  "language_info": {
   "codemirror_mode": {
    "name": "ipython",
    "version": 3
   },
   "file_extension": ".py",
   "mimetype": "text/x-python",
   "name": "python",
   "nbconvert_exporter": "python",
   "pygments_lexer": "ipython3",
   "version": "3.6.1"
  }
 },
 "nbformat": 4,
 "nbformat_minor": 2
}
