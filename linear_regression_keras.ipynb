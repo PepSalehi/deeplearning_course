{
 "cells": [
  {
   "cell_type": "markdown",
   "metadata": {},
   "source": [
    "# Linear regression with Keras"
   ]
  },
  {
   "cell_type": "markdown",
   "metadata": {},
   "source": [
    "We use scikit-learn to load and preprocess the Boston housing data."
   ]
  },
  {
   "cell_type": "code",
   "execution_count": 1,
   "metadata": {},
   "outputs": [
    {
     "name": "stderr",
     "output_type": "stream",
     "text": [
      "Using TensorFlow backend.\n"
     ]
    }
   ],
   "source": [
    "from keras.models import Sequential\n",
    "from keras.layers import Dense\n",
    "from keras.optimizers import Adam\n",
    "from sklearn.datasets import load_boston\n",
    "from sklearn.preprocessing import StandardScaler\n",
    "from sklearn.model_selection import train_test_split\n",
    "from sklearn.linear_model import LinearRegression\n",
    "import numpy as np\n",
    "import matplotlib.pyplot as plt"
   ]
  },
  {
   "cell_type": "code",
   "execution_count": 2,
   "metadata": {},
   "outputs": [
    {
     "data": {
      "text/plain": [
       "((506, 13), (506,))"
      ]
     },
     "execution_count": 2,
     "metadata": {},
     "output_type": "execute_result"
    }
   ],
   "source": [
    "boston = load_boston()\n",
    "X = boston.data\n",
    "y = boston.target\n",
    "X.shape, y.shape"
   ]
  },
  {
   "cell_type": "code",
   "execution_count": 3,
   "metadata": {},
   "outputs": [
    {
     "data": {
      "text/plain": [
       "(506, 1)"
      ]
     },
     "execution_count": 3,
     "metadata": {},
     "output_type": "execute_result"
    }
   ],
   "source": [
    "# Important: get the target into correct shape for Keras\n",
    "y = y.reshape(-1,1)\n",
    "y.shape"
   ]
  },
  {
   "cell_type": "code",
   "execution_count": 4,
   "metadata": {},
   "outputs": [
    {
     "data": {
      "text/plain": [
       "array([[ 24. ],\n",
       "       [ 21.6],\n",
       "       [ 34.7],\n",
       "       [ 33.4],\n",
       "       [ 36.2]])"
      ]
     },
     "execution_count": 4,
     "metadata": {},
     "output_type": "execute_result"
    }
   ],
   "source": [
    "y[:5,:]"
   ]
  },
  {
   "cell_type": "code",
   "execution_count": 5,
   "metadata": {
    "collapsed": true
   },
   "outputs": [],
   "source": [
    "X_train, X_test, y_train, y_test = train_test_split(X, y, test_size=0.2, random_state=0)"
   ]
  },
  {
   "cell_type": "code",
   "execution_count": 6,
   "metadata": {
    "collapsed": true
   },
   "outputs": [],
   "source": [
    "scaler = StandardScaler().fit(X_train)\n",
    "X_train = scaler.transform(X_train)\n",
    "X_test = scaler.transform(X_test)"
   ]
  },
  {
   "cell_type": "code",
   "execution_count": 7,
   "metadata": {
    "collapsed": true
   },
   "outputs": [],
   "source": [
    "# some housekeeping\n",
    "input_dim = X_train.shape[1]\n",
    "output_dim = 1 # for regression"
   ]
  },
  {
   "cell_type": "markdown",
   "metadata": {},
   "source": [
    "### Hyperparameters"
   ]
  },
  {
   "cell_type": "code",
   "execution_count": 8,
   "metadata": {
    "collapsed": true
   },
   "outputs": [],
   "source": [
    "learning_rate = 0.025\n",
    "num_epochs = 100"
   ]
  },
  {
   "cell_type": "markdown",
   "metadata": {},
   "source": [
    "### Define the model"
   ]
  },
  {
   "cell_type": "code",
   "execution_count": 9,
   "metadata": {
    "collapsed": true
   },
   "outputs": [],
   "source": [
    "model = Sequential()\n",
    "\n",
    "# Options (from documentation)\n",
    "# Dense(units, activation=None, use_bias=True, kernel_initializer='glorot_uniform', bias_initializer='zeros',\n",
    "#       kernel_regularizer=None, bias_regularizer=None, activity_regularizer=None, kernel_constraint=None,\n",
    "#       bias_constraint=None, **kwargs)\n",
    "# `Dense` implements the operation: `output = activation(dot(input, kernel) + bias)`\n",
    "\n",
    "# activation = None for regression\n",
    "model.add(Dense(units = output_dim, input_dim = input_dim, kernel_initializer='normal')) "
   ]
  },
  {
   "cell_type": "markdown",
   "metadata": {},
   "source": [
    "### Compile model"
   ]
  },
  {
   "cell_type": "code",
   "execution_count": 10,
   "metadata": {
    "collapsed": true
   },
   "outputs": [],
   "source": [
    "model.compile(loss='mean_squared_error', optimizer=Adam(lr = learning_rate))"
   ]
  },
  {
   "cell_type": "code",
   "execution_count": 11,
   "metadata": {},
   "outputs": [
    {
     "name": "stdout",
     "output_type": "stream",
     "text": [
      "_________________________________________________________________\n",
      "Layer (type)                 Output Shape              Param #   \n",
      "=================================================================\n",
      "dense_1 (Dense)              (None, 1)                 14        \n",
      "=================================================================\n",
      "Total params: 14\n",
      "Trainable params: 14\n",
      "Non-trainable params: 0\n",
      "_________________________________________________________________\n"
     ]
    }
   ],
   "source": [
    "# number of parameters = num. features + bias\n",
    "model.summary()"
   ]
  },
  {
   "cell_type": "markdown",
   "metadata": {},
   "source": [
    "### Fit the model"
   ]
  },
  {
   "cell_type": "code",
   "execution_count": 12,
   "metadata": {},
   "outputs": [
    {
     "name": "stdout",
     "output_type": "stream",
     "text": [
      "Epoch 1/100\n",
      "404/404 [==============================] - 0s - loss: 581.0967     \n",
      "Epoch 2/100\n",
      "404/404 [==============================] - 0s - loss: 548.4098     \n",
      "Epoch 3/100\n",
      "404/404 [==============================] - 0s - loss: 524.8896     \n",
      "Epoch 4/100\n",
      "404/404 [==============================] - 0s - loss: 504.6164     \n",
      "Epoch 5/100\n",
      "404/404 [==============================] - 0s - loss: 488.3942     \n",
      "Epoch 6/100\n",
      "404/404 [==============================] - 0s - loss: 471.9430     \n",
      "Epoch 7/100\n",
      "404/404 [==============================] - 0s - loss: 456.8786     \n",
      "Epoch 8/100\n",
      "404/404 [==============================] - 0s - loss: 442.4140     \n",
      "Epoch 9/100\n",
      "404/404 [==============================] - 0s - loss: 428.4890     \n",
      "Epoch 10/100\n",
      "404/404 [==============================] - 0s - loss: 414.6607     \n",
      "Epoch 11/100\n",
      "404/404 [==============================] - 0s - loss: 401.3182     \n",
      "Epoch 12/100\n",
      "404/404 [==============================] - 0s - loss: 388.8952     \n",
      "Epoch 13/100\n",
      "404/404 [==============================] - 0s - loss: 376.4715     \n",
      "Epoch 14/100\n",
      "404/404 [==============================] - 0s - loss: 365.0872     \n",
      "Epoch 15/100\n",
      "404/404 [==============================] - 0s - loss: 353.2593     \n",
      "Epoch 16/100\n",
      "404/404 [==============================] - 0s - loss: 342.2285     \n",
      "Epoch 17/100\n",
      "404/404 [==============================] - 0s - loss: 331.3952     \n",
      "Epoch 18/100\n",
      "404/404 [==============================] - 0s - loss: 321.0509     \n",
      "Epoch 19/100\n",
      "404/404 [==============================] - 0s - loss: 311.0052     \n",
      "Epoch 20/100\n",
      "404/404 [==============================] - 0s - loss: 301.0100     \n",
      "Epoch 21/100\n",
      "404/404 [==============================] - 0s - loss: 291.3048     \n",
      "Epoch 22/100\n",
      "404/404 [==============================] - 0s - loss: 282.5188     \n",
      "Epoch 23/100\n",
      "404/404 [==============================] - 0s - loss: 273.0688     \n",
      "Epoch 24/100\n",
      "404/404 [==============================] - 0s - loss: 264.3014     \n",
      "Epoch 25/100\n",
      "404/404 [==============================] - 0s - loss: 255.9922     \n",
      "Epoch 26/100\n",
      "404/404 [==============================] - ETA: 0s - loss: 264.900 - 0s - loss: 247.8735     \n",
      "Epoch 27/100\n",
      "404/404 [==============================] - 0s - loss: 239.6839     \n",
      "Epoch 28/100\n",
      "404/404 [==============================] - 0s - loss: 232.0964     \n",
      "Epoch 29/100\n",
      "404/404 [==============================] - 0s - loss: 224.2475     \n",
      "Epoch 30/100\n",
      "404/404 [==============================] - 0s - loss: 216.9625     \n",
      "Epoch 31/100\n",
      "404/404 [==============================] - 0s - loss: 210.0042     \n",
      "Epoch 32/100\n",
      "404/404 [==============================] - 0s - loss: 202.8615     \n",
      "Epoch 33/100\n",
      "404/404 [==============================] - 0s - loss: 196.3777     \n",
      "Epoch 34/100\n",
      "404/404 [==============================] - 0s - loss: 189.6183     \n",
      "Epoch 35/100\n",
      "404/404 [==============================] - 0s - loss: 183.3379     \n",
      "Epoch 36/100\n",
      "404/404 [==============================] - 0s - loss: 177.2584     \n",
      "Epoch 37/100\n",
      "404/404 [==============================] - 0s - loss: 171.1408     \n",
      "Epoch 38/100\n",
      "404/404 [==============================] - 0s - loss: 165.4316     \n",
      "Epoch 39/100\n",
      "404/404 [==============================] - 0s - loss: 159.8153     \n",
      "Epoch 40/100\n",
      "404/404 [==============================] - 0s - loss: 154.5097     \n",
      "Epoch 41/100\n",
      "404/404 [==============================] - 0s - loss: 149.1647     \n",
      "Epoch 42/100\n",
      "404/404 [==============================] - 0s - loss: 144.0793     \n",
      "Epoch 43/100\n",
      "404/404 [==============================] - 0s - loss: 139.1213     \n",
      "Epoch 44/100\n",
      "404/404 [==============================] - 0s - loss: 134.3430     \n",
      "Epoch 45/100\n",
      "404/404 [==============================] - 0s - loss: 129.7494    \n",
      "Epoch 46/100\n",
      "404/404 [==============================] - 0s - loss: 125.2482     \n",
      "Epoch 47/100\n",
      "404/404 [==============================] - 0s - loss: 120.9424     \n",
      "Epoch 48/100\n",
      "404/404 [==============================] - 0s - loss: 116.6684     \n",
      "Epoch 49/100\n",
      "404/404 [==============================] - 0s - loss: 112.5513     \n",
      "Epoch 50/100\n",
      "404/404 [==============================] - 0s - loss: 108.7698     \n",
      "Epoch 51/100\n",
      "404/404 [==============================] - 0s - loss: 104.8759    \n",
      "Epoch 52/100\n",
      "404/404 [==============================] - 0s - loss: 101.1671     \n",
      "Epoch 53/100\n",
      "404/404 [==============================] - 0s - loss: 97.8047     \n",
      "Epoch 54/100\n",
      "404/404 [==============================] - 0s - loss: 94.3783      \n",
      "Epoch 55/100\n",
      "404/404 [==============================] - 0s - loss: 91.0850     \n",
      "Epoch 56/100\n",
      "404/404 [==============================] - 0s - loss: 87.8314     \n",
      "Epoch 57/100\n",
      "404/404 [==============================] - 0s - loss: 84.8518      \n",
      "Epoch 58/100\n",
      "404/404 [==============================] - 0s - loss: 81.9007     \n",
      "Epoch 59/100\n",
      "404/404 [==============================] - 0s - loss: 79.1494      \n",
      "Epoch 60/100\n",
      "404/404 [==============================] - 0s - loss: 76.3905     \n",
      "Epoch 61/100\n",
      "404/404 [==============================] - 0s - loss: 73.7328     \n",
      "Epoch 62/100\n",
      "404/404 [==============================] - 0s - loss: 71.2477     \n",
      "Epoch 63/100\n",
      "404/404 [==============================] - 0s - loss: 68.8105     \n",
      "Epoch 64/100\n",
      "404/404 [==============================] - 0s - loss: 66.4603     \n",
      "Epoch 65/100\n",
      "404/404 [==============================] - 0s - loss: 64.1854     \n",
      "Epoch 66/100\n",
      "404/404 [==============================] - 0s - loss: 62.0348     \n",
      "Epoch 67/100\n",
      "404/404 [==============================] - 0s - loss: 60.0315     \n",
      "Epoch 68/100\n",
      "404/404 [==============================] - 0s - loss: 58.0332     \n",
      "Epoch 69/100\n",
      "404/404 [==============================] - 0s - loss: 56.0883     \n",
      "Epoch 70/100\n",
      "404/404 [==============================] - 0s - loss: 54.3005     \n",
      "Epoch 71/100\n",
      "404/404 [==============================] - 0s - loss: 52.5353     \n",
      "Epoch 72/100\n",
      "404/404 [==============================] - 0s - loss: 50.8572     \n",
      "Epoch 73/100\n",
      "404/404 [==============================] - 0s - loss: 49.3324     \n",
      "Epoch 74/100\n",
      "404/404 [==============================] - 0s - loss: 47.6969     \n",
      "Epoch 75/100\n",
      "404/404 [==============================] - 0s - loss: 46.2395     \n",
      "Epoch 76/100\n",
      "404/404 [==============================] - 0s - loss: 44.8317     \n",
      "Epoch 77/100\n",
      "404/404 [==============================] - 0s - loss: 43.4673     \n",
      "Epoch 78/100\n",
      "404/404 [==============================] - 0s - loss: 42.3121     \n",
      "Epoch 79/100\n",
      "404/404 [==============================] - 0s - loss: 40.9928     \n",
      "Epoch 80/100\n",
      "404/404 [==============================] - 0s - loss: 39.7814     \n",
      "Epoch 81/100\n",
      "404/404 [==============================] - 0s - loss: 38.7242     \n",
      "Epoch 82/100\n",
      "404/404 [==============================] - 0s - loss: 37.6326     \n",
      "Epoch 83/100\n",
      "404/404 [==============================] - 0s - loss: 36.6966     \n",
      "Epoch 84/100\n",
      "404/404 [==============================] - 0s - loss: 35.6570     \n",
      "Epoch 85/100\n",
      "404/404 [==============================] - 0s - loss: 34.7627     \n",
      "Epoch 86/100\n",
      "404/404 [==============================] - 0s - loss: 33.8918     \n",
      "Epoch 87/100\n",
      "404/404 [==============================] - 0s - loss: 33.0837     \n",
      "Epoch 88/100\n",
      "404/404 [==============================] - 0s - loss: 32.2183     \n",
      "Epoch 89/100\n",
      "404/404 [==============================] - 0s - loss: 31.4888     \n",
      "Epoch 90/100\n",
      "404/404 [==============================] - 0s - loss: 30.7969     \n",
      "Epoch 91/100\n",
      "404/404 [==============================] - 0s - loss: 30.1498     \n",
      "Epoch 92/100\n",
      "404/404 [==============================] - 0s - loss: 29.4594     \n",
      "Epoch 93/100\n",
      "404/404 [==============================] - 0s - loss: 28.8734     \n",
      "Epoch 94/100\n",
      "404/404 [==============================] - 0s - loss: 28.2851     \n",
      "Epoch 95/100\n",
      "404/404 [==============================] - 0s - loss: 27.7255     \n",
      "Epoch 96/100\n",
      "404/404 [==============================] - 0s - loss: 27.2740     \n",
      "Epoch 97/100\n",
      "404/404 [==============================] - 0s - loss: 26.7850     \n",
      "Epoch 98/100\n",
      "404/404 [==============================] - 0s - loss: 26.3459     \n",
      "Epoch 99/100\n",
      "404/404 [==============================] - 0s - loss: 25.8621     \n",
      "Epoch 100/100\n",
      "404/404 [==============================] - 0s - loss: 25.4646     \n"
     ]
    }
   ],
   "source": [
    "# we keep the losses in the history object, for later plotting\n",
    "history = model.fit(X_train, y_train, epochs = num_epochs)"
   ]
  },
  {
   "cell_type": "markdown",
   "metadata": {},
   "source": [
    "### Evaluation on training set and test set"
   ]
  },
  {
   "cell_type": "code",
   "execution_count": 13,
   "metadata": {},
   "outputs": [
    {
     "name": "stdout",
     "output_type": "stream",
     "text": [
      " 32/102 [========>.....................] - ETA: 0s\n",
      "\n",
      "Training cost:  25.1908\n",
      "\n",
      "Test cost:  41.2702\n"
     ]
    }
   ],
   "source": [
    "train_score = model.evaluate(X_train, y_train)\n",
    "test_score = model.evaluate(X_test, y_test)\n",
    "\n",
    "print(\"\\n\\nTraining cost: \", \"{:.4f}\".format(train_score))\n",
    "print(\"\\nTest cost: \", \"{:.4f}\".format(test_score))"
   ]
  },
  {
   "cell_type": "markdown",
   "metadata": {},
   "source": [
    "### Get model weights"
   ]
  },
  {
   "cell_type": "code",
   "execution_count": 14,
   "metadata": {},
   "outputs": [
    {
     "data": {
      "text/plain": [
       "[array([[-0.87664354],\n",
       "        [ 0.86692572],\n",
       "        [-0.33209491],\n",
       "        [ 0.64673227],\n",
       "        [-1.53050375],\n",
       "        [ 2.73979402],\n",
       "        [-0.23287554],\n",
       "        [-2.65993214],\n",
       "        [ 1.20217061],\n",
       "        [-0.99486446],\n",
       "        [-2.20698404],\n",
       "        [ 0.75937206],\n",
       "        [-3.51272011]], dtype=float32), array([ 20.22322655], dtype=float32)]"
      ]
     },
     "execution_count": 14,
     "metadata": {},
     "output_type": "execute_result"
    }
   ],
   "source": [
    "# regression coefficients\n",
    "model.get_weights()"
   ]
  },
  {
   "cell_type": "markdown",
   "metadata": {},
   "source": [
    "### Plot loss history"
   ]
  },
  {
   "cell_type": "code",
   "execution_count": 15,
   "metadata": {},
   "outputs": [
    {
     "data": {
      "image/png": "[encoded data removed]",
      "text/plain": [
       "<matplotlib.figure.Figure at 0x7f3d445869b0>"
      ]
     },
     "metadata": {},
     "output_type": "display_data"
    }
   ],
   "source": [
    "plt.plot(history.history['loss'], 'c.')\n",
    "plt.title('model loss')\n",
    "plt.ylabel('loss')\n",
    "plt.xlabel('epoch')\n",
    "plt.show()"
   ]
  },
  {
   "cell_type": "markdown",
   "metadata": {},
   "source": [
    "### Get predictions"
   ]
  },
  {
   "cell_type": "code",
   "execution_count": 18,
   "metadata": {},
   "outputs": [
    {
     "data": {
      "text/plain": [
       "array([[ 30.09295273],\n",
       "       [ 19.60911369],\n",
       "       [ 25.16869926],\n",
       "       [ 21.24581146],\n",
       "       [  3.86369514],\n",
       "       [ 11.95489025],\n",
       "       [ 19.93047714],\n",
       "       [ 26.7010231 ],\n",
       "       [ 30.63434601],\n",
       "       [ 10.08687687]], dtype=float32)"
      ]
     },
     "execution_count": 18,
     "metadata": {},
     "output_type": "execute_result"
    }
   ],
   "source": [
    "# predictions are obtained using predict()\n",
    "pred_train = model.predict(X_train)\n",
    "pred_train[:10]"
   ]
  },
  {
   "cell_type": "code",
   "execution_count": 16,
   "metadata": {},
   "outputs": [
    {
     "data": {
      "image/png": "[encoded data removed]",
      "text/plain": [
       "<matplotlib.figure.Figure at 0x7f3d444ed080>"
      ]
     },
     "metadata": {},
     "output_type": "display_data"
    }
   ],
   "source": [
    "pred_train = model.predict(X_train)\n",
    "fig, ax = plt.subplots()\n",
    "ax.scatter(y_train, pred_train)\n",
    "ax.plot([y_train.min(), y_train.max()], [y_train.min(), y_train.max()], 'k--', lw=3)\n",
    "ax.set_xlabel('Measured')\n",
    "ax.set_ylabel('Predicted')\n",
    "plt.show()"
   ]
  },
  {
   "cell_type": "code",
   "execution_count": 17,
   "metadata": {},
   "outputs": [
    {
     "data": {
      "image/png": "[encoded data removed]",
      "text/plain": [
       "<matplotlib.figure.Figure at 0x7f3d4445bcf8>"
      ]
     },
     "metadata": {},
     "output_type": "display_data"
    }
   ],
   "source": [
    "pred_test = model.predict(X_test)\n",
    "fig, ax = plt.subplots()\n",
    "ax.scatter(y_test, pred_test)\n",
    "ax.plot([y_test.min(), y_test.max()], [y_test.min(), y_test.max()], 'k--', lw=3)\n",
    "ax.set_xlabel('Measured')\n",
    "ax.set_ylabel('Predicted')\n",
    "plt.show()"
   ]
  }
 ],
 "metadata": {
  "kernelspec": {
   "display_name": "Python 3",
   "language": "python",
   "name": "python3"
  },
  "language_info": {
   "codemirror_mode": {
    "name": "ipython",
    "version": 3
   },
   "file_extension": ".py",
   "mimetype": "text/x-python",
   "name": "python",
   "nbconvert_exporter": "python",
   "pygments_lexer": "ipython3",
   "version": "3.5.3"
  }
 },
 "nbformat": 4,
 "nbformat_minor": 2
}
