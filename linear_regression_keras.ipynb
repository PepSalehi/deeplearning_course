{
 "cells": [
  {
   "cell_type": "code",
   "execution_count": 1,
   "metadata": {},
   "outputs": [
    {
     "name": "stderr",
     "output_type": "stream",
     "text": [
      "Using TensorFlow backend.\n"
     ]
    }
   ],
   "source": [
    "from keras.models import Sequential\n",
    "from keras.layers import Dense\n",
    "from keras.optimizers import Adam\n",
    "from sklearn.datasets import load_boston\n",
    "from sklearn.preprocessing import StandardScaler\n",
    "from sklearn import model_selection\n",
    "from sklearn.linear_model import LinearRegression\n",
    "import numpy as np\n",
    "import matplotlib.pyplot as plt"
   ]
  },
  {
   "cell_type": "code",
   "execution_count": 2,
   "metadata": {},
   "outputs": [
    {
     "data": {
      "text/plain": [
       "((506, 13), (506,))"
      ]
     },
     "execution_count": 2,
     "metadata": {},
     "output_type": "execute_result"
    }
   ],
   "source": [
    "boston = load_boston()\n",
    "X = boston.data\n",
    "y = boston.target\n",
    "X.shape, y.shape"
   ]
  },
  {
   "cell_type": "code",
   "execution_count": 3,
   "metadata": {},
   "outputs": [
    {
     "data": {
      "text/plain": [
       "(506, 1)"
      ]
     },
     "execution_count": 3,
     "metadata": {},
     "output_type": "execute_result"
    }
   ],
   "source": [
    "# !!!\n",
    "y = y.reshape(-11,1)\n",
    "y.shape"
   ]
  },
  {
   "cell_type": "code",
   "execution_count": 4,
   "metadata": {
    "collapsed": true
   },
   "outputs": [],
   "source": [
    "X_train, X_test, y_train, y_test = model_selection.train_test_split(X, y, test_size=0.2, random_state=0)"
   ]
  },
  {
   "cell_type": "code",
   "execution_count": 5,
   "metadata": {
    "collapsed": true
   },
   "outputs": [],
   "source": [
    "scaler = StandardScaler().fit(X_train)\n",
    "X_train = scaler.transform(X_train)\n",
    "X_test = scaler.transform(X_test)"
   ]
  },
  {
   "cell_type": "code",
   "execution_count": 6,
   "metadata": {
    "collapsed": true
   },
   "outputs": [],
   "source": [
    "# some housekeeping\n",
    "input_dim = X_train.shape[1]\n",
    "output_dim = 1 # for regression\n",
    "\n",
    "# store cost during optimization\n",
    "train_costs = [[], []] \n",
    "# \n",
    "print_step = 50"
   ]
  },
  {
   "cell_type": "markdown",
   "metadata": {},
   "source": [
    "### Hyperparameters"
   ]
  },
  {
   "cell_type": "code",
   "execution_count": 7,
   "metadata": {
    "collapsed": true
   },
   "outputs": [],
   "source": [
    "learning_rate = 0.025\n",
    "num_epochs = 100"
   ]
  },
  {
   "cell_type": "markdown",
   "metadata": {},
   "source": [
    "### Define the model"
   ]
  },
  {
   "cell_type": "code",
   "execution_count": 8,
   "metadata": {},
   "outputs": [],
   "source": [
    "model = Sequential()\n",
    "\n",
    "# Dense(units, activation=None, use_bias=True, kernel_initializer='glorot_uniform', bias_initializer='zeros',\n",
    "#       kernel_regularizer=None, bias_regularizer=None, activity_regularizer=None, kernel_constraint=None,\n",
    "#       bias_constraint=None, **kwargs)\n",
    "# `Dense` implements the operation:\n",
    "# `output = activation(dot(input, kernel) + bias)`\n",
    "model.add(Dense(output_dim, input_dim = input_dim, kernel_initializer='normal')) # activation = None for regression"
   ]
  },
  {
   "cell_type": "markdown",
   "metadata": {},
   "source": [
    "### Compile model"
   ]
  },
  {
   "cell_type": "code",
   "execution_count": 9,
   "metadata": {},
   "outputs": [],
   "source": [
    "model.compile(loss='mean_squared_error', optimizer=Adam(lr = learning_rate))"
   ]
  },
  {
   "cell_type": "code",
   "execution_count": 10,
   "metadata": {},
   "outputs": [
    {
     "name": "stdout",
     "output_type": "stream",
     "text": [
      "_________________________________________________________________\n",
      "Layer (type)                 Output Shape              Param #   \n",
      "=================================================================\n",
      "dense_1 (Dense)              (None, 1)                 14        \n",
      "=================================================================\n",
      "Total params: 14\n",
      "Trainable params: 14\n",
      "Non-trainable params: 0\n",
      "_________________________________________________________________\n"
     ]
    }
   ],
   "source": [
    "# number of parameters = num. features + bias\n",
    "model.summary()"
   ]
  },
  {
   "cell_type": "markdown",
   "metadata": {},
   "source": [
    "### Fit the model"
   ]
  },
  {
   "cell_type": "code",
   "execution_count": 11,
   "metadata": {},
   "outputs": [
    {
     "name": "stdout",
     "output_type": "stream",
     "text": [
      "Epoch 1/100\n",
      "404/404 [==============================] - 0s - loss: 578.7261     \n",
      "Epoch 2/100\n",
      "404/404 [==============================] - 0s - loss: 546.2736     \n",
      "Epoch 3/100\n",
      "404/404 [==============================] - 0s - loss: 522.5528     \n",
      "Epoch 4/100\n",
      "404/404 [==============================] - 0s - loss: 502.9437     \n",
      "Epoch 5/100\n",
      "404/404 [==============================] - 0s - loss: 486.9157     \n",
      "Epoch 6/100\n",
      "404/404 [==============================] - 0s - loss: 472.0503     \n",
      "Epoch 7/100\n",
      "404/404 [==============================] - 0s - loss: 456.5568     \n",
      "Epoch 8/100\n",
      "404/404 [==============================] - 0s - loss: 441.9739     \n",
      "Epoch 9/100\n",
      "404/404 [==============================] - 0s - loss: 428.3590     \n",
      "Epoch 10/100\n",
      "404/404 [==============================] - 0s - loss: 414.4461     \n",
      "Epoch 11/100\n",
      "404/404 [==============================] - 0s - loss: 401.3366     \n",
      "Epoch 12/100\n",
      "404/404 [==============================] - 0s - loss: 388.8797     \n",
      "Epoch 13/100\n",
      "404/404 [==============================] - 0s - loss: 376.5099     \n",
      "Epoch 14/100\n",
      "404/404 [==============================] - 0s - loss: 364.9654     \n",
      "Epoch 15/100\n",
      "404/404 [==============================] - 0s - loss: 353.3042     \n",
      "Epoch 16/100\n",
      "404/404 [==============================] - 0s - loss: 342.2342     \n",
      "Epoch 17/100\n",
      "404/404 [==============================] - 0s - loss: 331.6442     \n",
      "Epoch 18/100\n",
      "404/404 [==============================] - 0s - loss: 321.3841     \n",
      "Epoch 19/100\n",
      "404/404 [==============================] - 0s - loss: 311.0180     \n",
      "Epoch 20/100\n",
      "404/404 [==============================] - 0s - loss: 301.2389     \n",
      "Epoch 21/100\n",
      "404/404 [==============================] - 0s - loss: 291.7800     \n",
      "Epoch 22/100\n",
      "404/404 [==============================] - 0s - loss: 282.3431     \n",
      "Epoch 23/100\n",
      "404/404 [==============================] - 0s - loss: 273.3023     \n",
      "Epoch 24/100\n",
      "404/404 [==============================] - 0s - loss: 264.7099     \n",
      "Epoch 25/100\n",
      "404/404 [==============================] - 0s - loss: 256.3125     \n",
      "Epoch 26/100\n",
      "404/404 [==============================] - 0s - loss: 247.8698     \n",
      "Epoch 27/100\n",
      "404/404 [==============================] - 0s - loss: 239.8664     \n",
      "Epoch 28/100\n",
      "404/404 [==============================] - 0s - loss: 232.0391     \n",
      "Epoch 29/100\n",
      "404/404 [==============================] - 0s - loss: 224.4998     \n",
      "Epoch 30/100\n",
      "404/404 [==============================] - 0s - loss: 217.2140     \n",
      "Epoch 31/100\n",
      "404/404 [==============================] - 0s - loss: 210.1077     \n",
      "Epoch 32/100\n",
      "404/404 [==============================] - 0s - loss: 203.1262     \n",
      "Epoch 33/100\n",
      "404/404 [==============================] - 0s - loss: 196.4409     \n",
      "Epoch 34/100\n",
      "404/404 [==============================] - 0s - loss: 189.9183     \n",
      "Epoch 35/100\n",
      "404/404 [==============================] - 0s - loss: 183.5710     \n",
      "Epoch 36/100\n",
      "404/404 [==============================] - 0s - loss: 177.3990     \n",
      "Epoch 37/100\n",
      "404/404 [==============================] - 0s - loss: 171.3636     \n",
      "Epoch 38/100\n",
      "404/404 [==============================] - 0s - loss: 165.5880     \n",
      "Epoch 39/100\n",
      "404/404 [==============================] - 0s - loss: 160.2463     \n",
      "Epoch 40/100\n",
      "404/404 [==============================] - 0s - loss: 154.5909     \n",
      "Epoch 41/100\n",
      "404/404 [==============================] - 0s - loss: 149.3269     \n",
      "Epoch 42/100\n",
      "404/404 [==============================] - 0s - loss: 144.3489     \n",
      "Epoch 43/100\n",
      "404/404 [==============================] - 0s - loss: 139.2854     \n",
      "Epoch 44/100\n",
      "404/404 [==============================] - 0s - loss: 134.4671     \n",
      "Epoch 45/100\n",
      "404/404 [==============================] - 0s - loss: 129.8253     \n",
      "Epoch 46/100\n",
      "404/404 [==============================] - 0s - loss: 125.2471     \n",
      "Epoch 47/100\n",
      "404/404 [==============================] - 0s - loss: 121.0893     \n",
      "Epoch 48/100\n",
      "404/404 [==============================] - 0s - loss: 116.7099     \n",
      "Epoch 49/100\n",
      "404/404 [==============================] - 0s - loss: 112.7003     \n",
      "Epoch 50/100\n",
      "404/404 [==============================] - 0s - loss: 108.8637     \n",
      "Epoch 51/100\n",
      "404/404 [==============================] - 0s - loss: 105.1001     \n",
      "Epoch 52/100\n",
      "404/404 [==============================] - 0s - loss: 101.3249     \n",
      "Epoch 53/100\n",
      "404/404 [==============================] - 0s - loss: 98.3092      \n",
      "Epoch 54/100\n",
      "404/404 [==============================] - 0s - loss: 94.4170     \n",
      "Epoch 55/100\n",
      "404/404 [==============================] - 0s - loss: 91.1427     \n",
      "Epoch 56/100\n",
      "404/404 [==============================] - 0s - loss: 88.0233     \n",
      "Epoch 57/100\n",
      "404/404 [==============================] - 0s - loss: 84.9415     \n",
      "Epoch 58/100\n",
      "404/404 [==============================] - 0s - loss: 82.0271     \n",
      "Epoch 59/100\n",
      "404/404 [==============================] - 0s - loss: 79.2402     \n",
      "Epoch 60/100\n",
      "404/404 [==============================] - 0s - loss: 76.5846     \n",
      "Epoch 61/100\n",
      "404/404 [==============================] - 0s - loss: 73.9074     \n",
      "Epoch 62/100\n",
      "404/404 [==============================] - 0s - loss: 71.2776     \n",
      "Epoch 63/100\n",
      "404/404 [==============================] - 0s - loss: 68.8642     \n",
      "Epoch 64/100\n",
      "404/404 [==============================] - 0s - loss: 66.5811     \n",
      "Epoch 65/100\n",
      "404/404 [==============================] - 0s - loss: 64.3126     \n",
      "Epoch 66/100\n",
      "404/404 [==============================] - 0s - loss: 62.1277     \n",
      "Epoch 67/100\n",
      "404/404 [==============================] - 0s - loss: 60.1042     \n",
      "Epoch 68/100\n",
      "404/404 [==============================] - 0s - loss: 58.1194     \n",
      "Epoch 69/100\n",
      "404/404 [==============================] - 0s - loss: 56.1930     \n",
      "Epoch 70/100\n",
      "404/404 [==============================] - 0s - loss: 54.5026     \n",
      "Epoch 71/100\n",
      "404/404 [==============================] - 0s - loss: 52.6727     \n",
      "Epoch 72/100\n",
      "404/404 [==============================] - 0s - loss: 51.1468     \n",
      "Epoch 73/100\n",
      "404/404 [==============================] - 0s - loss: 49.3509     \n",
      "Epoch 74/100\n",
      "404/404 [==============================] - 0s - loss: 47.8087     \n",
      "Epoch 75/100\n",
      "404/404 [==============================] - 0s - loss: 46.3168     \n",
      "Epoch 76/100\n",
      "404/404 [==============================] - 0s - loss: 44.9134     \n",
      "Epoch 77/100\n",
      "404/404 [==============================] - 0s - loss: 43.5841     \n",
      "Epoch 78/100\n",
      "404/404 [==============================] - 0s - loss: 42.3079     \n",
      "Epoch 79/100\n",
      "404/404 [==============================] - 0s - loss: 41.0244     \n",
      "Epoch 80/100\n",
      "404/404 [==============================] - 0s - loss: 39.9078     \n",
      "Epoch 81/100\n",
      "404/404 [==============================] - 0s - loss: 38.7740     \n",
      "Epoch 82/100\n",
      "404/404 [==============================] - 0s - loss: 37.6776     \n",
      "Epoch 83/100\n",
      "404/404 [==============================] - 0s - loss: 36.6693     \n",
      "Epoch 84/100\n",
      "404/404 [==============================] - 0s - loss: 35.7025     \n",
      "Epoch 85/100\n",
      "404/404 [==============================] - 0s - loss: 34.8057     \n",
      "Epoch 86/100\n",
      "404/404 [==============================] - 0s - loss: 33.9470     \n",
      "Epoch 87/100\n",
      "404/404 [==============================] - 0s - loss: 33.0963     \n",
      "Epoch 88/100\n",
      "404/404 [==============================] - 0s - loss: 32.2865     \n",
      "Epoch 89/100\n",
      "404/404 [==============================] - 0s - loss: 31.5890     \n",
      "Epoch 90/100\n",
      "404/404 [==============================] - 0s - loss: 30.8211     \n",
      "Epoch 91/100\n",
      "404/404 [==============================] - 0s - loss: 30.1341     \n",
      "Epoch 92/100\n",
      "404/404 [==============================] - 0s - loss: 29.4923     \n",
      "Epoch 93/100\n",
      "404/404 [==============================] - 0s - loss: 28.9448     \n",
      "Epoch 94/100\n",
      "404/404 [==============================] - 0s - loss: 28.3136     \n",
      "Epoch 95/100\n",
      "404/404 [==============================] - 0s - loss: 27.8410     \n",
      "Epoch 96/100\n",
      "404/404 [==============================] - 0s - loss: 27.2642     \n",
      "Epoch 97/100\n",
      "404/404 [==============================] - 0s - loss: 26.7602     \n",
      "Epoch 98/100\n",
      "404/404 [==============================] - 0s - loss: 26.3264     \n",
      "Epoch 99/100\n",
      "404/404 [==============================] - 0s - loss: 25.8962     \n",
      "Epoch 100/100\n",
      "404/404 [==============================] - 0s - loss: 25.5072     \n"
     ]
    }
   ],
   "source": [
    "history = model.fit(X_train, y_train, epochs = num_epochs)"
   ]
  },
  {
   "cell_type": "markdown",
   "metadata": {},
   "source": [
    "### get model weights"
   ]
  },
  {
   "cell_type": "code",
   "execution_count": 13,
   "metadata": {},
   "outputs": [
    {
     "name": "stdout",
     "output_type": "stream",
     "text": [
      " 32/102 [========>.....................] - ETA: 0s\n",
      "\n",
      "Training cost:  25.2243\n",
      "\n",
      "Test cost:  40.9202\n"
     ]
    }
   ],
   "source": [
    "train_score = model.evaluate(X_train, y_train)\n",
    "test_score = model.evaluate(X_test, y_test)\n",
    "\n",
    "print(\"\\n\\nTraining cost: \", \"{:.4f}\".format(train_score))\n",
    "print(\"\\nTest cost: \", \"{:.4f}\".format(test_score))"
   ]
  },
  {
   "cell_type": "code",
   "execution_count": 14,
   "metadata": {},
   "outputs": [
    {
     "data": {
      "text/plain": [
       "[array([[-0.85590136],\n",
       "        [ 0.87851989],\n",
       "        [-0.29941276],\n",
       "        [ 0.65005368],\n",
       "        [-1.43729305],\n",
       "        [ 2.73533368],\n",
       "        [-0.21408181],\n",
       "        [-2.63178706],\n",
       "        [ 1.18384433],\n",
       "        [-0.95020086],\n",
       "        [-2.20379806],\n",
       "        [ 0.72874272],\n",
       "        [-3.46722317]], dtype=float32), array([ 20.21844864], dtype=float32)]"
      ]
     },
     "execution_count": 14,
     "metadata": {},
     "output_type": "execute_result"
    }
   ],
   "source": [
    "model.get_weights()"
   ]
  },
  {
   "cell_type": "code",
   "execution_count": 20,
   "metadata": {},
   "outputs": [
    {
     "data": {
      "image/png": "[encoded data removed]",
      "text/plain": [
       "<matplotlib.figure.Figure at 0x7fa311f8eba8>"
      ]
     },
     "metadata": {},
     "output_type": "display_data"
    }
   ],
   "source": [
    "plt.plot(history.history['loss'], 'c.')\n",
    "plt.title('model loss')\n",
    "plt.ylabel('loss')\n",
    "plt.xlabel('epoch')\n",
    "plt.show()"
   ]
  },
  {
   "cell_type": "markdown",
   "metadata": {},
   "source": [
    "### Get predictions"
   ]
  },
  {
   "cell_type": "code",
   "execution_count": 15,
   "metadata": {},
   "outputs": [
    {
     "data": {
      "image/png": "[encoded data removed]",
      "text/plain": [
       "<matplotlib.figure.Figure at 0x7fa31895d6a0>"
      ]
     },
     "metadata": {},
     "output_type": "display_data"
    }
   ],
   "source": [
    "pred_train = model.predict(X_train)\n",
    "fig, ax = plt.subplots()\n",
    "ax.scatter(y_train, pred_train)\n",
    "ax.plot([y_train.min(), y_train.max()], [y_train.min(), y_train.max()], 'k--', lw=3)\n",
    "ax.set_xlabel('Measured')\n",
    "ax.set_ylabel('Predicted')\n",
    "plt.show()"
   ]
  },
  {
   "cell_type": "code",
   "execution_count": 16,
   "metadata": {},
   "outputs": [
    {
     "data": {
      "image/png": "[encoded data removed]",
      "text/plain": [
       "<matplotlib.figure.Figure at 0x7fa3180d3630>"
      ]
     },
     "metadata": {},
     "output_type": "display_data"
    }
   ],
   "source": [
    "pred_test = model.predict(X_test)\n",
    "fig, ax = plt.subplots()\n",
    "ax.scatter(y_test, pred_test)\n",
    "ax.plot([y_test.min(), y_test.max()], [y_test.min(), y_test.max()], 'k--', lw=3)\n",
    "ax.set_xlabel('Measured')\n",
    "ax.set_ylabel('Predicted')\n",
    "plt.show()"
   ]
  },
  {
   "cell_type": "code",
   "execution_count": null,
   "metadata": {
    "collapsed": true
   },
   "outputs": [],
   "source": []
  }
 ],
 "metadata": {
  "kernelspec": {
   "display_name": "Python 3",
   "language": "python",
   "name": "python3"
  },
  "language_info": {
   "codemirror_mode": {
    "name": "ipython",
    "version": 3
   },
   "file_extension": ".py",
   "mimetype": "text/x-python",
   "name": "python",
   "nbconvert_exporter": "python",
   "pygments_lexer": "ipython3",
   "version": "3.5.3"
  }
 },
 "nbformat": 4,
 "nbformat_minor": 2
}
