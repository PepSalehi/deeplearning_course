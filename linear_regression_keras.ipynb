{
 "cells": [
  {
   "cell_type": "markdown",
   "metadata": {},
   "source": [
    "# Linear regression with Keras"
   ]
  },
  {
   "cell_type": "markdown",
   "metadata": {},
   "source": [
    "We use scikit-learn to load and preprocess the Boston housing data."
   ]
  },
  {
   "cell_type": "code",
   "execution_count": 1,
   "metadata": {},
   "outputs": [
    {
     "name": "stderr",
     "output_type": "stream",
     "text": [
      "Using TensorFlow backend.\n"
     ]
    }
   ],
   "source": [
    "from keras.models import Sequential\n",
    "from keras.layers import Dense\n",
    "from keras.optimizers import Adam\n",
    "from sklearn.datasets import load_boston\n",
    "from sklearn.preprocessing import StandardScaler\n",
    "from sklearn.model_selection import train_test_split\n",
    "from sklearn.linear_model import LinearRegression\n",
    "import numpy as np\n",
    "import matplotlib.pyplot as plt"
   ]
  },
  {
   "cell_type": "code",
   "execution_count": 2,
   "metadata": {},
   "outputs": [
    {
     "data": {
      "text/plain": [
       "((506, 13), (506,))"
      ]
     },
     "execution_count": 2,
     "metadata": {},
     "output_type": "execute_result"
    }
   ],
   "source": [
    "boston = load_boston()\n",
    "X = boston.data\n",
    "y = boston.target\n",
    "X.shape, y.shape"
   ]
  },
  {
   "cell_type": "code",
   "execution_count": 3,
   "metadata": {},
   "outputs": [
    {
     "data": {
      "text/plain": [
       "(506, 1)"
      ]
     },
     "execution_count": 3,
     "metadata": {},
     "output_type": "execute_result"
    }
   ],
   "source": [
    "# Important: get the target into correct shape for Keras\n",
    "y = y.reshape(-1,1)\n",
    "y.shape"
   ]
  },
  {
   "cell_type": "code",
   "execution_count": 4,
   "metadata": {},
   "outputs": [
    {
     "data": {
      "text/plain": [
       "array([[ 24. ],\n",
       "       [ 21.6],\n",
       "       [ 34.7],\n",
       "       [ 33.4],\n",
       "       [ 36.2]])"
      ]
     },
     "execution_count": 4,
     "metadata": {},
     "output_type": "execute_result"
    }
   ],
   "source": [
    "y[:5,:]"
   ]
  },
  {
   "cell_type": "code",
   "execution_count": 5,
   "metadata": {
    "collapsed": true
   },
   "outputs": [],
   "source": [
    "X_train, X_test, y_train, y_test = train_test_split(X, y, test_size=0.2, random_state=0)"
   ]
  },
  {
   "cell_type": "code",
   "execution_count": 6,
   "metadata": {
    "collapsed": true
   },
   "outputs": [],
   "source": [
    "scaler = StandardScaler().fit(X_train)\n",
    "X_train = scaler.transform(X_train)\n",
    "X_test = scaler.transform(X_test)"
   ]
  },
  {
   "cell_type": "code",
   "execution_count": 7,
   "metadata": {
    "collapsed": true
   },
   "outputs": [],
   "source": [
    "# some housekeeping\n",
    "input_dim = X_train.shape[1]\n",
    "output_dim = 1 # for regression"
   ]
  },
  {
   "cell_type": "markdown",
   "metadata": {},
   "source": [
    "### Hyperparameters"
   ]
  },
  {
   "cell_type": "code",
   "execution_count": 8,
   "metadata": {
    "collapsed": true
   },
   "outputs": [],
   "source": [
    "learning_rate = 0.025\n",
    "num_epochs = 100"
   ]
  },
  {
   "cell_type": "markdown",
   "metadata": {},
   "source": [
    "### Define the model"
   ]
  },
  {
   "cell_type": "code",
   "execution_count": 9,
   "metadata": {
    "collapsed": true
   },
   "outputs": [],
   "source": [
    "model = Sequential()\n",
    "\n",
    "# Options (from documentation)\n",
    "# Dense(units, activation=None, use_bias=True, kernel_initializer='glorot_uniform', bias_initializer='zeros',\n",
    "#       kernel_regularizer=None, bias_regularizer=None, activity_regularizer=None, kernel_constraint=None,\n",
    "#       bias_constraint=None, **kwargs)\n",
    "# `Dense` implements the operation: `output = activation(dot(input, kernel) + bias)`\n",
    "\n",
    "# activation = None for regression\n",
    "model.add(Dense(units = output_dim, input_dim = input_dim, kernel_initializer='normal')) "
   ]
  },
  {
   "cell_type": "markdown",
   "metadata": {},
   "source": [
    "### Compile model"
   ]
  },
  {
   "cell_type": "code",
   "execution_count": 10,
   "metadata": {
    "collapsed": true
   },
   "outputs": [],
   "source": [
    "model.compile(loss='mean_squared_error', optimizer=Adam(lr = learning_rate))"
   ]
  },
  {
   "cell_type": "code",
   "execution_count": 11,
   "metadata": {},
   "outputs": [
    {
     "name": "stdout",
     "output_type": "stream",
     "text": [
      "_________________________________________________________________\n",
      "Layer (type)                 Output Shape              Param #   \n",
      "=================================================================\n",
      "dense_1 (Dense)              (None, 1)                 14        \n",
      "=================================================================\n",
      "Total params: 14\n",
      "Trainable params: 14\n",
      "Non-trainable params: 0\n",
      "_________________________________________________________________\n"
     ]
    }
   ],
   "source": [
    "# number of parameters = num. features + bias\n",
    "model.summary()"
   ]
  },
  {
   "cell_type": "markdown",
   "metadata": {},
   "source": [
    "### Fit the model"
   ]
  },
  {
   "cell_type": "code",
   "execution_count": 12,
   "metadata": {},
   "outputs": [
    {
     "name": "stdout",
     "output_type": "stream",
     "text": [
      "Epoch 1/100\n",
      "404/404 [==============================] - 0s - loss: 579.7744     \n",
      "Epoch 2/100\n",
      "404/404 [==============================] - 0s - loss: 548.6642     \n",
      "Epoch 3/100\n",
      "404/404 [==============================] - 0s - loss: 523.9776     \n",
      "Epoch 4/100\n",
      "404/404 [==============================] - 0s - loss: 504.9278     \n",
      "Epoch 5/100\n",
      "404/404 [==============================] - 0s - loss: 488.2084     \n",
      "Epoch 6/100\n",
      "404/404 [==============================] - 0s - loss: 471.9982     \n",
      "Epoch 7/100\n",
      "404/404 [==============================] - 0s - loss: 457.5130     \n",
      "Epoch 8/100\n",
      "404/404 [==============================] - 0s - loss: 442.2188     \n",
      "Epoch 9/100\n",
      "404/404 [==============================] - 0s - loss: 428.7897     \n",
      "Epoch 10/100\n",
      "404/404 [==============================] - 0s - loss: 415.3294     \n",
      "Epoch 11/100\n",
      "404/404 [==============================] - 0s - loss: 401.8680     \n",
      "Epoch 12/100\n",
      "404/404 [==============================] - 0s - loss: 389.2346     \n",
      "Epoch 13/100\n",
      "404/404 [==============================] - 0s - loss: 377.1606     \n",
      "Epoch 14/100\n",
      "404/404 [==============================] - 0s - loss: 365.1545     \n",
      "Epoch 15/100\n",
      "404/404 [==============================] - 0s - loss: 353.5869     \n",
      "Epoch 16/100\n",
      "404/404 [==============================] - 0s - loss: 342.5145     \n",
      "Epoch 17/100\n",
      "404/404 [==============================] - 0s - loss: 331.8767     \n",
      "Epoch 18/100\n",
      "404/404 [==============================] - 0s - loss: 321.2342     \n",
      "Epoch 19/100\n",
      "404/404 [==============================] - 0s - loss: 311.2668     \n",
      "Epoch 20/100\n",
      "404/404 [==============================] - 0s - loss: 301.5225     \n",
      "Epoch 21/100\n",
      "404/404 [==============================] - 0s - loss: 291.9139     \n",
      "Epoch 22/100\n",
      "404/404 [==============================] - 0s - loss: 282.6940     \n",
      "Epoch 23/100\n",
      "404/404 [==============================] - 0s - loss: 273.5401     \n",
      "Epoch 24/100\n",
      "404/404 [==============================] - 0s - loss: 264.8910     \n",
      "Epoch 25/100\n",
      "404/404 [==============================] - 0s - loss: 256.6491     \n",
      "Epoch 26/100\n",
      "404/404 [==============================] - 0s - loss: 247.8865     \n",
      "Epoch 27/100\n",
      "404/404 [==============================] - 0s - loss: 239.9895     \n",
      "Epoch 28/100\n",
      "404/404 [==============================] - 0s - loss: 232.2727     \n",
      "Epoch 29/100\n",
      "404/404 [==============================] - 0s - loss: 224.6650     \n",
      "Epoch 30/100\n",
      "404/404 [==============================] - 0s - loss: 217.4682     \n",
      "Epoch 31/100\n",
      "404/404 [==============================] - 0s - loss: 210.0058     \n",
      "Epoch 32/100\n",
      "404/404 [==============================] - 0s - loss: 203.0720     \n",
      "Epoch 33/100\n",
      "404/404 [==============================] - 0s - loss: 196.4882     \n",
      "Epoch 34/100\n",
      "404/404 [==============================] - 0s - loss: 189.8546     \n",
      "Epoch 35/100\n",
      "404/404 [==============================] - 0s - loss: 183.4616     \n",
      "Epoch 36/100\n",
      "404/404 [==============================] - 0s - loss: 177.3745     \n",
      "Epoch 37/100\n",
      "404/404 [==============================] - 0s - loss: 171.2589     \n",
      "Epoch 38/100\n",
      "404/404 [==============================] - 0s - loss: 165.6521     \n",
      "Epoch 39/100\n",
      "404/404 [==============================] - 0s - loss: 159.9432     \n",
      "Epoch 40/100\n",
      "404/404 [==============================] - 0s - loss: 154.5140     \n",
      "Epoch 41/100\n",
      "404/404 [==============================] - 0s - loss: 149.3997     \n",
      "Epoch 42/100\n",
      "404/404 [==============================] - 0s - loss: 144.1608     \n",
      "Epoch 43/100\n",
      "404/404 [==============================] - 0s - loss: 139.2500     \n",
      "Epoch 44/100\n",
      "404/404 [==============================] - 0s - loss: 134.3968     \n",
      "Epoch 45/100\n",
      "404/404 [==============================] - 0s - loss: 129.6892     \n",
      "Epoch 46/100\n",
      "404/404 [==============================] - 0s - loss: 125.3570     \n",
      "Epoch 47/100\n",
      "404/404 [==============================] - 0s - loss: 120.9420     \n",
      "Epoch 48/100\n",
      "404/404 [==============================] - 0s - loss: 116.6970     \n",
      "Epoch 49/100\n",
      "404/404 [==============================] - 0s - loss: 112.6978    \n",
      "Epoch 50/100\n",
      "404/404 [==============================] - 0s - loss: 108.8170     \n",
      "Epoch 51/100\n",
      "404/404 [==============================] - 0s - loss: 105.0435    \n",
      "Epoch 52/100\n",
      "404/404 [==============================] - 0s - loss: 101.3325     \n",
      "Epoch 53/100\n",
      "404/404 [==============================] - 0s - loss: 97.7754      \n",
      "Epoch 54/100\n",
      "404/404 [==============================] - 0s - loss: 94.5348      \n",
      "Epoch 55/100\n",
      "404/404 [==============================] - 0s - loss: 91.1086      \n",
      "Epoch 56/100\n",
      "404/404 [==============================] - 0s - loss: 88.0675     \n",
      "Epoch 57/100\n",
      "404/404 [==============================] - 0s - loss: 84.9605     \n",
      "Epoch 58/100\n",
      "404/404 [==============================] - 0s - loss: 81.9685      \n",
      "Epoch 59/100\n",
      "404/404 [==============================] - 0s - loss: 79.1538     \n",
      "Epoch 60/100\n",
      "404/404 [==============================] - 0s - loss: 76.5163     \n",
      "Epoch 61/100\n",
      "404/404 [==============================] - 0s - loss: 73.7478     \n",
      "Epoch 62/100\n",
      "404/404 [==============================] - 0s - loss: 71.2325     \n",
      "Epoch 63/100\n",
      "404/404 [==============================] - 0s - loss: 68.7394     \n",
      "Epoch 64/100\n",
      "404/404 [==============================] - 0s - loss: 66.6409     \n",
      "Epoch 65/100\n",
      "404/404 [==============================] - 0s - loss: 64.2540     \n",
      "Epoch 66/100\n",
      "404/404 [==============================] - 0s - loss: 62.1098     \n",
      "Epoch 67/100\n",
      "404/404 [==============================] - 0s - loss: 60.0559     \n",
      "Epoch 68/100\n",
      "404/404 [==============================] - 0s - loss: 57.9750     \n",
      "Epoch 69/100\n",
      "404/404 [==============================] - 0s - loss: 56.1106     \n",
      "Epoch 70/100\n",
      "404/404 [==============================] - 0s - loss: 54.2995     \n",
      "Epoch 71/100\n",
      "404/404 [==============================] - 0s - loss: 52.5529     \n",
      "Epoch 72/100\n",
      "404/404 [==============================] - 0s - loss: 50.8427     \n",
      "Epoch 73/100\n",
      "404/404 [==============================] - 0s - loss: 49.2739     \n",
      "Epoch 74/100\n",
      "404/404 [==============================] - 0s - loss: 47.7076     \n",
      "Epoch 75/100\n",
      "404/404 [==============================] - 0s - loss: 46.2494     \n",
      "Epoch 76/100\n",
      "404/404 [==============================] - 0s - loss: 44.8905     \n",
      "Epoch 77/100\n",
      "404/404 [==============================] - 0s - loss: 43.4979     \n",
      "Epoch 78/100\n",
      "404/404 [==============================] - 0s - loss: 42.2266     \n",
      "Epoch 79/100\n",
      "404/404 [==============================] - 0s - loss: 41.0172     \n",
      "Epoch 80/100\n",
      "404/404 [==============================] - 0s - loss: 39.8251     \n",
      "Epoch 81/100\n",
      "404/404 [==============================] - 0s - loss: 38.7294     \n",
      "Epoch 82/100\n",
      "404/404 [==============================] - 0s - loss: 37.6956     \n",
      "Epoch 83/100\n",
      "404/404 [==============================] - 0s - loss: 36.6311     \n",
      "Epoch 84/100\n",
      "404/404 [==============================] - 0s - loss: 35.6968     \n",
      "Epoch 85/100\n",
      "404/404 [==============================] - 0s - loss: 34.7750     \n",
      "Epoch 86/100\n",
      "404/404 [==============================] - 0s - loss: 33.8878     \n",
      "Epoch 87/100\n",
      "404/404 [==============================] - 0s - loss: 33.1119     \n",
      "Epoch 88/100\n",
      "404/404 [==============================] - 0s - loss: 32.3065     \n",
      "Epoch 89/100\n",
      "404/404 [==============================] - 0s - loss: 31.5256     \n",
      "Epoch 90/100\n",
      "404/404 [==============================] - 0s - loss: 30.7932     \n",
      "Epoch 91/100\n",
      "404/404 [==============================] - 0s - loss: 30.1175     \n",
      "Epoch 92/100\n",
      "404/404 [==============================] - 0s - loss: 29.4985     \n",
      "Epoch 93/100\n",
      "404/404 [==============================] - 0s - loss: 28.8618     \n",
      "Epoch 94/100\n",
      "404/404 [==============================] - 0s - loss: 28.2941     \n",
      "Epoch 95/100\n",
      "404/404 [==============================] - 0s - loss: 27.7669     \n",
      "Epoch 96/100\n",
      "404/404 [==============================] - 0s - loss: 27.2716     \n",
      "Epoch 97/100\n",
      "404/404 [==============================] - 0s - loss: 26.7480     \n",
      "Epoch 98/100\n",
      "404/404 [==============================] - 0s - loss: 26.3077     \n",
      "Epoch 99/100\n",
      "404/404 [==============================] - 0s - loss: 25.8630     \n",
      "Epoch 100/100\n",
      "404/404 [==============================] - 0s - loss: 25.4581     \n"
     ]
    }
   ],
   "source": [
    "# we keep the losses in the history object, for later plotting\n",
    "history = model.fit(X_train, y_train, epochs = num_epochs)"
   ]
  },
  {
   "cell_type": "markdown",
   "metadata": {},
   "source": [
    "### Evaluation on training set and test set"
   ]
  },
  {
   "cell_type": "code",
   "execution_count": 13,
   "metadata": {},
   "outputs": [
    {
     "name": "stdout",
     "output_type": "stream",
     "text": [
      " 32/102 [========>.....................] - ETA: 0s\n",
      "\n",
      "Training cost:  25.1826\n",
      "\n",
      "Test cost:  40.9397\n"
     ]
    }
   ],
   "source": [
    "train_score = model.evaluate(X_train, y_train)\n",
    "test_score = model.evaluate(X_test, y_test)\n",
    "\n",
    "print(\"\\n\\nTraining cost: \", \"{:.4f}\".format(train_score))\n",
    "print(\"\\nTest cost: \", \"{:.4f}\".format(test_score))"
   ]
  },
  {
   "cell_type": "markdown",
   "metadata": {},
   "source": [
    "### Get model weights"
   ]
  },
  {
   "cell_type": "code",
   "execution_count": 14,
   "metadata": {},
   "outputs": [
    {
     "data": {
      "text/plain": [
       "[array([[-0.87498313],\n",
       "        [ 0.86862582],\n",
       "        [-0.32373843],\n",
       "        [ 0.65261197],\n",
       "        [-1.49666977],\n",
       "        [ 2.76302624],\n",
       "        [-0.22537996],\n",
       "        [-2.65700102],\n",
       "        [ 1.21674991],\n",
       "        [-0.96337807],\n",
       "        [-2.21003747],\n",
       "        [ 0.73426652],\n",
       "        [-3.42169333]], dtype=float32), array([ 20.22463036], dtype=float32)]"
      ]
     },
     "execution_count": 14,
     "metadata": {},
     "output_type": "execute_result"
    }
   ],
   "source": [
    "# regression coefficients\n",
    "model.get_weights()"
   ]
  },
  {
   "cell_type": "markdown",
   "metadata": {},
   "source": [
    "### Plot loss history"
   ]
  },
  {
   "cell_type": "code",
   "execution_count": 15,
   "metadata": {},
   "outputs": [
    {
     "data": {
      "image/png": "[encoded data removed]",
      "text/plain": [
       "<matplotlib.figure.Figure at 0x7f7964787710>"
      ]
     },
     "metadata": {},
     "output_type": "display_data"
    }
   ],
   "source": [
    "plt.plot(history.history['loss'], 'c.')\n",
    "plt.title('model loss')\n",
    "plt.ylabel('loss')\n",
    "plt.xlabel('epoch')\n",
    "plt.show()"
   ]
  },
  {
   "cell_type": "markdown",
   "metadata": {},
   "source": [
    "### Get predictions"
   ]
  },
  {
   "cell_type": "code",
   "execution_count": 16,
   "metadata": {},
   "outputs": [
    {
     "data": {
      "text/plain": [
       "array([[ 30.05451584],\n",
       "       [ 19.47336197],\n",
       "       [ 25.09586334],\n",
       "       [ 21.19018745],\n",
       "       [  4.19110107],\n",
       "       [ 12.06723881],\n",
       "       [ 19.8308773 ],\n",
       "       [ 26.58315277],\n",
       "       [ 30.57898331],\n",
       "       [ 10.34284306]], dtype=float32)"
      ]
     },
     "execution_count": 16,
     "metadata": {},
     "output_type": "execute_result"
    }
   ],
   "source": [
    "# predictions are obtained using predict()\n",
    "pred_train = model.predict(X_train)\n",
    "pred_train[:10]"
   ]
  },
  {
   "cell_type": "code",
   "execution_count": 17,
   "metadata": {},
   "outputs": [
    {
     "data": {
      "image/png": "[encoded data removed]",
      "text/plain": [
       "<matplotlib.figure.Figure at 0x7f7965435128>"
      ]
     },
     "metadata": {},
     "output_type": "display_data"
    }
   ],
   "source": [
    "pred_train = model.predict(X_train)\n",
    "fig, ax = plt.subplots()\n",
    "ax.scatter(y_train, pred_train)\n",
    "ax.plot([y_train.min(), y_train.max()], [y_train.min(), y_train.max()], 'k--', lw=3)\n",
    "ax.set_xlabel('Measured')\n",
    "ax.set_ylabel('Predicted')\n",
    "plt.show()"
   ]
  },
  {
   "cell_type": "code",
   "execution_count": 18,
   "metadata": {},
   "outputs": [
    {
     "data": {
      "image/png": "[encoded data removed]",
      "text/plain": [
       "<matplotlib.figure.Figure at 0x7f796465c780>"
      ]
     },
     "metadata": {},
     "output_type": "display_data"
    }
   ],
   "source": [
    "pred_test = model.predict(X_test)\n",
    "fig, ax = plt.subplots()\n",
    "ax.scatter(y_test, pred_test)\n",
    "ax.plot([y_test.min(), y_test.max()], [y_test.min(), y_test.max()], 'k--', lw=3)\n",
    "ax.set_xlabel('Measured')\n",
    "ax.set_ylabel('Predicted')\n",
    "plt.show()"
   ]
  },
  {
   "cell_type": "code",
   "execution_count": null,
   "metadata": {
    "collapsed": true
   },
   "outputs": [],
   "source": []
  }
 ],
 "metadata": {
  "kernelspec": {
   "display_name": "Python 3",
   "language": "python",
   "name": "python3"
  },
  "language_info": {
   "codemirror_mode": {
    "name": "ipython",
    "version": 3
   },
   "file_extension": ".py",
   "mimetype": "text/x-python",
   "name": "python",
   "nbconvert_exporter": "python",
   "pygments_lexer": "ipython3",
   "version": "3.5.3"
  }
 },
 "nbformat": 4,
 "nbformat_minor": 2
}
