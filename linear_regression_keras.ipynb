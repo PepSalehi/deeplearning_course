{
 "cells": [
  {
   "cell_type": "code",
   "execution_count": 21,
   "metadata": {},
   "outputs": [],
   "source": [
    "from keras.models import Sequential\n",
    "from keras.layers import Dense\n",
    "from keras.optimizers import Adam\n",
    "from sklearn.datasets import load_boston\n",
    "from sklearn.preprocessing import StandardScaler\n",
    "from sklearn import model_selection\n",
    "from sklearn.linear_model import LinearRegression\n",
    "import numpy as np\n",
    "import matplotlib.pyplot as plt"
   ]
  },
  {
   "cell_type": "code",
   "execution_count": 22,
   "metadata": {},
   "outputs": [
    {
     "data": {
      "text/plain": [
       "((506, 13), (506,))"
      ]
     },
     "execution_count": 22,
     "metadata": {},
     "output_type": "execute_result"
    }
   ],
   "source": [
    "boston = load_boston()\n",
    "X = boston.data\n",
    "y = boston.target\n",
    "X.shape, y.shape"
   ]
  },
  {
   "cell_type": "code",
   "execution_count": 25,
   "metadata": {},
   "outputs": [
    {
     "data": {
      "text/plain": [
       "(506, 1)"
      ]
     },
     "execution_count": 25,
     "metadata": {},
     "output_type": "execute_result"
    }
   ],
   "source": [
    "# !!!\n",
    "y = y.reshape(-1,1)\n",
    "y.shape"
   ]
  },
  {
   "cell_type": "code",
   "execution_count": 26,
   "metadata": {
    "collapsed": true
   },
   "outputs": [],
   "source": [
    "X_train, X_test, y_train, y_test = model_selection.train_test_split(X, y, test_size=0.2, random_state=0)"
   ]
  },
  {
   "cell_type": "code",
   "execution_count": 27,
   "metadata": {
    "collapsed": true
   },
   "outputs": [],
   "source": [
    "scaler = StandardScaler().fit(X_train)\n",
    "X_train = scaler.transform(X_train)\n",
    "X_test = scaler.transform(X_test)"
   ]
  },
  {
   "cell_type": "code",
   "execution_count": 28,
   "metadata": {
    "collapsed": true
   },
   "outputs": [],
   "source": [
    "# some housekeeping\n",
    "input_dim = X_train.shape[1]\n",
    "output_dim = 1 # for regression"
   ]
  },
  {
   "cell_type": "markdown",
   "metadata": {},
   "source": [
    "### Hyperparameters"
   ]
  },
  {
   "cell_type": "code",
   "execution_count": 29,
   "metadata": {
    "collapsed": true
   },
   "outputs": [],
   "source": [
    "learning_rate = 0.025\n",
    "num_epochs = 100"
   ]
  },
  {
   "cell_type": "markdown",
   "metadata": {},
   "source": [
    "### Define the model"
   ]
  },
  {
   "cell_type": "code",
   "execution_count": 30,
   "metadata": {
    "collapsed": true
   },
   "outputs": [],
   "source": [
    "model = Sequential()\n",
    "\n",
    "# Dense(units, activation=None, use_bias=True, kernel_initializer='glorot_uniform', bias_initializer='zeros',\n",
    "#       kernel_regularizer=None, bias_regularizer=None, activity_regularizer=None, kernel_constraint=None,\n",
    "#       bias_constraint=None, **kwargs)\n",
    "# `Dense` implements the operation:\n",
    "# `output = activation(dot(input, kernel) + bias)`\n",
    "model.add(Dense(output_dim, input_dim = input_dim, kernel_initializer='normal')) # activation = None for regression"
   ]
  },
  {
   "cell_type": "markdown",
   "metadata": {},
   "source": [
    "### Compile model"
   ]
  },
  {
   "cell_type": "code",
   "execution_count": 31,
   "metadata": {
    "collapsed": true
   },
   "outputs": [],
   "source": [
    "model.compile(loss='mean_squared_error', optimizer=Adam(lr = learning_rate))"
   ]
  },
  {
   "cell_type": "code",
   "execution_count": 32,
   "metadata": {},
   "outputs": [
    {
     "name": "stdout",
     "output_type": "stream",
     "text": [
      "_________________________________________________________________\n",
      "Layer (type)                 Output Shape              Param #   \n",
      "=================================================================\n",
      "dense_2 (Dense)              (None, 1)                 14        \n",
      "=================================================================\n",
      "Total params: 14\n",
      "Trainable params: 14\n",
      "Non-trainable params: 0\n",
      "_________________________________________________________________\n"
     ]
    }
   ],
   "source": [
    "# number of parameters = num. features + bias\n",
    "model.summary()"
   ]
  },
  {
   "cell_type": "markdown",
   "metadata": {},
   "source": [
    "### Fit the model"
   ]
  },
  {
   "cell_type": "code",
   "execution_count": 33,
   "metadata": {},
   "outputs": [
    {
     "name": "stdout",
     "output_type": "stream",
     "text": [
      "Epoch 1/100\n",
      "404/404 [==============================] - 0s - loss: 580.6977     \n",
      "Epoch 2/100\n",
      "404/404 [==============================] - 0s - loss: 546.8969     \n",
      "Epoch 3/100\n",
      "404/404 [==============================] - 0s - loss: 525.9076     \n",
      "Epoch 4/100\n",
      "404/404 [==============================] - 0s - loss: 505.3357     \n",
      "Epoch 5/100\n",
      "404/404 [==============================] - 0s - loss: 488.5617     \n",
      "Epoch 6/100\n",
      "404/404 [==============================] - 0s - loss: 472.5433     \n",
      "Epoch 7/100\n",
      "404/404 [==============================] - 0s - loss: 457.5103     \n",
      "Epoch 8/100\n",
      "404/404 [==============================] - 0s - loss: 443.0399     \n",
      "Epoch 9/100\n",
      "404/404 [==============================] - 0s - loss: 429.1353     \n",
      "Epoch 10/100\n",
      "404/404 [==============================] - 0s - loss: 415.5493     \n",
      "Epoch 11/100\n",
      "404/404 [==============================] - 0s - loss: 402.1517     \n",
      "Epoch 12/100\n",
      "404/404 [==============================] - 0s - loss: 389.7156     \n",
      "Epoch 13/100\n",
      "404/404 [==============================] - 0s - loss: 377.5228     \n",
      "Epoch 14/100\n",
      "404/404 [==============================] - 0s - loss: 365.6210     \n",
      "Epoch 15/100\n",
      "404/404 [==============================] - 0s - loss: 353.9267     \n",
      "Epoch 16/100\n",
      "404/404 [==============================] - 0s - loss: 342.8016     \n",
      "Epoch 17/100\n",
      "404/404 [==============================] - 0s - loss: 331.9674     \n",
      "Epoch 18/100\n",
      "404/404 [==============================] - 0s - loss: 321.5748     \n",
      "Epoch 19/100\n",
      "404/404 [==============================] - 0s - loss: 311.1719     \n",
      "Epoch 20/100\n",
      "404/404 [==============================] - 0s - loss: 301.3681     \n",
      "Epoch 21/100\n",
      "404/404 [==============================] - 0s - loss: 291.6271     \n",
      "Epoch 22/100\n",
      "404/404 [==============================] - 0s - loss: 282.5185     \n",
      "Epoch 23/100\n",
      "404/404 [==============================] - 0s - loss: 273.6627     \n",
      "Epoch 24/100\n",
      "404/404 [==============================] - 0s - loss: 264.6285     \n",
      "Epoch 25/100\n",
      "404/404 [==============================] - 0s - loss: 256.4283     \n",
      "Epoch 26/100\n",
      "404/404 [==============================] - 0s - loss: 248.1141     \n",
      "Epoch 27/100\n",
      "404/404 [==============================] - 0s - loss: 239.9372     \n",
      "Epoch 28/100\n",
      "404/404 [==============================] - 0s - loss: 232.1725     \n",
      "Epoch 29/100\n",
      "404/404 [==============================] - 0s - loss: 224.5690     \n",
      "Epoch 30/100\n",
      "404/404 [==============================] - 0s - loss: 217.2059     \n",
      "Epoch 31/100\n",
      "404/404 [==============================] - 0s - loss: 210.2674     \n",
      "Epoch 32/100\n",
      "404/404 [==============================] - 0s - loss: 203.4025     \n",
      "Epoch 33/100\n",
      "404/404 [==============================] - 0s - loss: 196.2287     \n",
      "Epoch 34/100\n",
      "404/404 [==============================] - 0s - loss: 189.8414     \n",
      "Epoch 35/100\n",
      "404/404 [==============================] - 0s - loss: 183.5539     \n",
      "Epoch 36/100\n",
      "404/404 [==============================] - 0s - loss: 177.1886     \n",
      "Epoch 37/100\n",
      "404/404 [==============================] - 0s - loss: 171.2487     \n",
      "Epoch 38/100\n",
      "404/404 [==============================] - 0s - loss: 165.6053     \n",
      "Epoch 39/100\n",
      "404/404 [==============================] - ETA: 0s - loss: 173.645 - 0s - loss: 159.9466     \n",
      "Epoch 40/100\n",
      "404/404 [==============================] - 0s - loss: 154.3819     \n",
      "Epoch 41/100\n",
      "404/404 [==============================] - 0s - loss: 149.0529     \n",
      "Epoch 42/100\n",
      "404/404 [==============================] - 0s - loss: 144.0414     \n",
      "Epoch 43/100\n",
      "404/404 [==============================] - 0s - loss: 139.1719     \n",
      "Epoch 44/100\n",
      "404/404 [==============================] - 0s - loss: 134.2990     \n",
      "Epoch 45/100\n",
      "404/404 [==============================] - 0s - loss: 129.6645     \n",
      "Epoch 46/100\n",
      "404/404 [==============================] - 0s - loss: 125.1721     \n",
      "Epoch 47/100\n",
      "404/404 [==============================] - 0s - loss: 120.8533     \n",
      "Epoch 48/100\n",
      "404/404 [==============================] - 0s - loss: 116.7220    \n",
      "Epoch 49/100\n",
      "404/404 [==============================] - 0s - loss: 112.6240     \n",
      "Epoch 50/100\n",
      "404/404 [==============================] - 0s - loss: 108.7122     \n",
      "Epoch 51/100\n",
      "404/404 [==============================] - 0s - loss: 104.9011    \n",
      "Epoch 52/100\n",
      "404/404 [==============================] - 0s - loss: 101.2466     \n",
      "Epoch 53/100\n",
      "404/404 [==============================] - 0s - loss: 97.7191     \n",
      "Epoch 54/100\n",
      "404/404 [==============================] - 0s - loss: 94.3328      \n",
      "Epoch 55/100\n",
      "404/404 [==============================] - 0s - loss: 91.0741     \n",
      "Epoch 56/100\n",
      "404/404 [==============================] - 0s - loss: 87.9478     \n",
      "Epoch 57/100\n",
      "404/404 [==============================] - 0s - loss: 84.8795     \n",
      "Epoch 58/100\n",
      "404/404 [==============================] - 0s - loss: 81.8526     \n",
      "Epoch 59/100\n",
      "404/404 [==============================] - 0s - loss: 79.0719     \n",
      "Epoch 60/100\n",
      "404/404 [==============================] - 0s - loss: 76.3545     \n",
      "Epoch 61/100\n",
      "404/404 [==============================] - 0s - loss: 73.7058     \n",
      "Epoch 62/100\n",
      "404/404 [==============================] - 0s - loss: 71.1207     \n",
      "Epoch 63/100\n",
      "404/404 [==============================] - 0s - loss: 68.7320     \n",
      "Epoch 64/100\n",
      "404/404 [==============================] - 0s - loss: 66.4078     \n",
      "Epoch 65/100\n",
      "404/404 [==============================] - 0s - loss: 64.2005     \n",
      "Epoch 66/100\n",
      "404/404 [==============================] - 0s - loss: 62.0092     \n",
      "Epoch 67/100\n",
      "404/404 [==============================] - 0s - loss: 59.9498     \n",
      "Epoch 68/100\n",
      "404/404 [==============================] - 0s - loss: 57.9787     \n",
      "Epoch 69/100\n",
      "404/404 [==============================] - 0s - loss: 56.0250     \n",
      "Epoch 70/100\n",
      "404/404 [==============================] - 0s - loss: 54.1614     \n",
      "Epoch 71/100\n",
      "404/404 [==============================] - 0s - loss: 52.5383     \n",
      "Epoch 72/100\n",
      "404/404 [==============================] - 0s - loss: 50.9009     \n",
      "Epoch 73/100\n",
      "404/404 [==============================] - 0s - loss: 49.2406     \n",
      "Epoch 74/100\n",
      "404/404 [==============================] - 0s - loss: 47.6301     \n",
      "Epoch 75/100\n",
      "404/404 [==============================] - 0s - loss: 46.1734     \n",
      "Epoch 76/100\n",
      "404/404 [==============================] - 0s - loss: 44.7632     \n",
      "Epoch 77/100\n",
      "404/404 [==============================] - 0s - loss: 43.4663     \n",
      "Epoch 78/100\n",
      "404/404 [==============================] - 0s - loss: 42.1654     \n",
      "Epoch 79/100\n",
      "404/404 [==============================] - 0s - loss: 40.9658     \n",
      "Epoch 80/100\n",
      "404/404 [==============================] - 0s - loss: 39.7532     \n",
      "Epoch 81/100\n",
      "404/404 [==============================] - 0s - loss: 38.7222     \n",
      "Epoch 82/100\n",
      "404/404 [==============================] - 0s - loss: 37.6713     \n",
      "Epoch 83/100\n",
      "404/404 [==============================] - 0s - loss: 36.6010     \n",
      "Epoch 84/100\n",
      "404/404 [==============================] - 0s - loss: 35.6681     \n",
      "Epoch 85/100\n",
      "404/404 [==============================] - 0s - loss: 34.7002     \n",
      "Epoch 86/100\n",
      "404/404 [==============================] - 0s - loss: 33.8015     \n",
      "Epoch 87/100\n",
      "404/404 [==============================] - 0s - loss: 33.0616     \n",
      "Epoch 88/100\n",
      "404/404 [==============================] - 0s - loss: 32.2681    \n",
      "Epoch 89/100\n",
      "404/404 [==============================] - 0s - loss: 31.5258     \n",
      "Epoch 90/100\n",
      "404/404 [==============================] - 0s - loss: 30.8236     \n",
      "Epoch 91/100\n",
      "404/404 [==============================] - 0s - loss: 30.1381     \n",
      "Epoch 92/100\n",
      "404/404 [==============================] - 0s - loss: 29.4780     \n",
      "Epoch 93/100\n",
      "404/404 [==============================] - 0s - loss: 28.9212     \n",
      "Epoch 94/100\n",
      "404/404 [==============================] - 0s - loss: 28.3314     \n",
      "Epoch 95/100\n",
      "404/404 [==============================] - 0s - loss: 27.7461     \n",
      "Epoch 96/100\n",
      "404/404 [==============================] - 0s - loss: 27.2443     \n",
      "Epoch 97/100\n",
      "404/404 [==============================] - 0s - loss: 26.7245     \n",
      "Epoch 98/100\n",
      "404/404 [==============================] - 0s - loss: 26.2656     \n",
      "Epoch 99/100\n",
      "404/404 [==============================] - 0s - loss: 25.8500     \n",
      "Epoch 100/100\n",
      "404/404 [==============================] - 0s - loss: 25.4690     \n"
     ]
    }
   ],
   "source": [
    "history = model.fit(X_train, y_train, epochs = num_epochs)"
   ]
  },
  {
   "cell_type": "markdown",
   "metadata": {},
   "source": [
    "### get model weights"
   ]
  },
  {
   "cell_type": "code",
   "execution_count": 34,
   "metadata": {},
   "outputs": [
    {
     "name": "stdout",
     "output_type": "stream",
     "text": [
      " 32/102 [========>.....................] - ETA: 0s\n",
      "\n",
      "Training cost:  25.1813\n",
      "\n",
      "Test cost:  41.4371\n"
     ]
    }
   ],
   "source": [
    "train_score = model.evaluate(X_train, y_train)\n",
    "test_score = model.evaluate(X_test, y_test)\n",
    "\n",
    "print(\"\\n\\nTraining cost: \", \"{:.4f}\".format(train_score))\n",
    "print(\"\\nTest cost: \", \"{:.4f}\".format(test_score))"
   ]
  },
  {
   "cell_type": "code",
   "execution_count": 35,
   "metadata": {},
   "outputs": [
    {
     "data": {
      "text/plain": [
       "[array([[-0.90597087],\n",
       "        [ 0.87305892],\n",
       "        [-0.34698918],\n",
       "        [ 0.64597082],\n",
       "        [-1.47037065],\n",
       "        [ 2.72452331],\n",
       "        [-0.20917001],\n",
       "        [-2.62462306],\n",
       "        [ 1.13604772],\n",
       "        [-0.91852814],\n",
       "        [-2.23364854],\n",
       "        [ 0.75166243],\n",
       "        [-3.51368237]], dtype=float32), array([ 20.22927666], dtype=float32)]"
      ]
     },
     "execution_count": 35,
     "metadata": {},
     "output_type": "execute_result"
    }
   ],
   "source": [
    "model.get_weights()"
   ]
  },
  {
   "cell_type": "code",
   "execution_count": 36,
   "metadata": {},
   "outputs": [
    {
     "data": {
      "image/png": "[encoded data removed]",
      "text/plain": [
       "<matplotlib.figure.Figure at 0x7f35949e37b8>"
      ]
     },
     "metadata": {},
     "output_type": "display_data"
    }
   ],
   "source": [
    "plt.plot(history.history['loss'], 'c.')\n",
    "plt.title('model loss')\n",
    "plt.ylabel('loss')\n",
    "plt.xlabel('epoch')\n",
    "plt.show()"
   ]
  },
  {
   "cell_type": "markdown",
   "metadata": {},
   "source": [
    "### Get predictions"
   ]
  },
  {
   "cell_type": "code",
   "execution_count": 37,
   "metadata": {},
   "outputs": [
    {
     "data": {
      "image/png": "[encoded data removed]",
      "text/plain": [
       "<matplotlib.figure.Figure at 0x7f35967f5da0>"
      ]
     },
     "metadata": {},
     "output_type": "display_data"
    }
   ],
   "source": [
    "pred_train = model.predict(X_train)\n",
    "fig, ax = plt.subplots()\n",
    "ax.scatter(y_train, pred_train)\n",
    "ax.plot([y_train.min(), y_train.max()], [y_train.min(), y_train.max()], 'k--', lw=3)\n",
    "ax.set_xlabel('Measured')\n",
    "ax.set_ylabel('Predicted')\n",
    "plt.show()"
   ]
  },
  {
   "cell_type": "code",
   "execution_count": 38,
   "metadata": {},
   "outputs": [
    {
     "data": {
      "image/png": "[encoded data removed]",
      "text/plain": [
       "<matplotlib.figure.Figure at 0x7f359c57d518>"
      ]
     },
     "metadata": {},
     "output_type": "display_data"
    }
   ],
   "source": [
    "pred_test = model.predict(X_test)\n",
    "fig, ax = plt.subplots()\n",
    "ax.scatter(y_test, pred_test)\n",
    "ax.plot([y_test.min(), y_test.max()], [y_test.min(), y_test.max()], 'k--', lw=3)\n",
    "ax.set_xlabel('Measured')\n",
    "ax.set_ylabel('Predicted')\n",
    "plt.show()"
   ]
  },
  {
   "cell_type": "code",
   "execution_count": 40,
   "metadata": {},
   "outputs": [
    {
     "data": {
      "text/plain": [
       "(404, 1)"
      ]
     },
     "execution_count": 40,
     "metadata": {},
     "output_type": "execute_result"
    }
   ],
   "source": [
    "pred_train.shape"
   ]
  },
  {
   "cell_type": "code",
   "execution_count": null,
   "metadata": {
    "collapsed": true
   },
   "outputs": [],
   "source": []
  }
 ],
 "metadata": {
  "kernelspec": {
   "display_name": "Python 3",
   "language": "python",
   "name": "python3"
  },
  "language_info": {
   "codemirror_mode": {
    "name": "ipython",
    "version": 3
   },
   "file_extension": ".py",
   "mimetype": "text/x-python",
   "name": "python",
   "nbconvert_exporter": "python",
   "pygments_lexer": "ipython3",
   "version": "3.5.3"
  }
 },
 "nbformat": 4,
 "nbformat_minor": 2
}
