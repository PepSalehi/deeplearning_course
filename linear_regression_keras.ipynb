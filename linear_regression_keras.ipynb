{
 "cells": [
  {
   "cell_type": "code",
   "execution_count": 1,
   "metadata": {},
   "outputs": [
    {
     "name": "stderr",
     "output_type": "stream",
     "text": [
      "Using TensorFlow backend.\n"
     ]
    }
   ],
   "source": [
    "from keras.models import Sequential\n",
    "from keras.layers import Dense\n",
    "from keras.optimizers import Adam\n",
    "from sklearn.datasets import load_boston\n",
    "from sklearn.preprocessing import StandardScaler\n",
    "from sklearn import model_selection\n",
    "from sklearn.linear_model import LinearRegression\n",
    "import numpy as np\n",
    "import matplotlib.pyplot as plt"
   ]
  },
  {
   "cell_type": "code",
   "execution_count": 2,
   "metadata": {},
   "outputs": [
    {
     "data": {
      "text/plain": [
       "((506, 13), (506,))"
      ]
     },
     "execution_count": 2,
     "metadata": {},
     "output_type": "execute_result"
    }
   ],
   "source": [
    "boston = load_boston()\n",
    "X = boston.data\n",
    "y = boston.target\n",
    "X.shape, y.shape"
   ]
  },
  {
   "cell_type": "code",
   "execution_count": 3,
   "metadata": {},
   "outputs": [
    {
     "data": {
      "text/plain": [
       "(506, 1)"
      ]
     },
     "execution_count": 3,
     "metadata": {},
     "output_type": "execute_result"
    }
   ],
   "source": [
    "# !!!\n",
    "y = y.reshape(-1,1)\n",
    "y.shape"
   ]
  },
  {
   "cell_type": "code",
   "execution_count": 4,
   "metadata": {
    "collapsed": true
   },
   "outputs": [],
   "source": [
    "X_train, X_test, y_train, y_test = model_selection.train_test_split(X, y, test_size=0.2, random_state=0)"
   ]
  },
  {
   "cell_type": "code",
   "execution_count": 5,
   "metadata": {
    "collapsed": true
   },
   "outputs": [],
   "source": [
    "scaler = StandardScaler().fit(X_train)\n",
    "X_train = scaler.transform(X_train)\n",
    "X_test = scaler.transform(X_test)"
   ]
  },
  {
   "cell_type": "code",
   "execution_count": 6,
   "metadata": {
    "collapsed": true
   },
   "outputs": [],
   "source": [
    "# some housekeeping\n",
    "input_dim = X_train.shape[1]\n",
    "output_dim = 1 # for regression"
   ]
  },
  {
   "cell_type": "markdown",
   "metadata": {},
   "source": [
    "### Hyperparameters"
   ]
  },
  {
   "cell_type": "code",
   "execution_count": 7,
   "metadata": {
    "collapsed": true
   },
   "outputs": [],
   "source": [
    "learning_rate = 0.025\n",
    "num_epochs = 100"
   ]
  },
  {
   "cell_type": "markdown",
   "metadata": {},
   "source": [
    "### Define the model"
   ]
  },
  {
   "cell_type": "code",
   "execution_count": 8,
   "metadata": {
    "collapsed": true
   },
   "outputs": [],
   "source": [
    "model = Sequential()\n",
    "\n",
    "# Dense(units, activation=None, use_bias=True, kernel_initializer='glorot_uniform', bias_initializer='zeros',\n",
    "#       kernel_regularizer=None, bias_regularizer=None, activity_regularizer=None, kernel_constraint=None,\n",
    "#       bias_constraint=None, **kwargs)\n",
    "# `Dense` implements the operation:\n",
    "# `output = activation(dot(input, kernel) + bias)`\n",
    "model.add(Dense(units = output_dim, input_dim = input_dim, kernel_initializer='normal')) # activation = None for regression"
   ]
  },
  {
   "cell_type": "markdown",
   "metadata": {},
   "source": [
    "### Compile model"
   ]
  },
  {
   "cell_type": "code",
   "execution_count": 9,
   "metadata": {
    "collapsed": true
   },
   "outputs": [],
   "source": [
    "model.compile(loss='mean_squared_error', optimizer=Adam(lr = learning_rate))"
   ]
  },
  {
   "cell_type": "code",
   "execution_count": 10,
   "metadata": {},
   "outputs": [
    {
     "name": "stdout",
     "output_type": "stream",
     "text": [
      "_________________________________________________________________\n",
      "Layer (type)                 Output Shape              Param #   \n",
      "=================================================================\n",
      "dense_1 (Dense)              (None, 1)                 14        \n",
      "=================================================================\n",
      "Total params: 14\n",
      "Trainable params: 14\n",
      "Non-trainable params: 0\n",
      "_________________________________________________________________\n"
     ]
    }
   ],
   "source": [
    "# number of parameters = num. features + bias\n",
    "model.summary()"
   ]
  },
  {
   "cell_type": "markdown",
   "metadata": {},
   "source": [
    "### Fit the model"
   ]
  },
  {
   "cell_type": "code",
   "execution_count": 11,
   "metadata": {},
   "outputs": [
    {
     "name": "stdout",
     "output_type": "stream",
     "text": [
      "Epoch 1/100\n",
      "404/404 [==============================] - 0s - loss: 577.9951     \n",
      "Epoch 2/100\n",
      "404/404 [==============================] - 0s - loss: 546.1893     \n",
      "Epoch 3/100\n",
      "404/404 [==============================] - 0s - loss: 522.8714     \n",
      "Epoch 4/100\n",
      "404/404 [==============================] - 0s - loss: 504.0334     \n",
      "Epoch 5/100\n",
      "404/404 [==============================] - 0s - loss: 487.1596     \n",
      "Epoch 6/100\n",
      "404/404 [==============================] - 0s - loss: 471.4887     \n",
      "Epoch 7/100\n",
      "404/404 [==============================] - 0s - loss: 456.9684     \n",
      "Epoch 8/100\n",
      "404/404 [==============================] - 0s - loss: 441.7983     \n",
      "Epoch 9/100\n",
      "404/404 [==============================] - 0s - loss: 427.7107     \n",
      "Epoch 10/100\n",
      "404/404 [==============================] - 0s - loss: 414.4196     \n",
      "Epoch 11/100\n",
      "404/404 [==============================] - 0s - loss: 401.2717     \n",
      "Epoch 12/100\n",
      "404/404 [==============================] - 0s - loss: 389.0335     \n",
      "Epoch 13/100\n",
      "404/404 [==============================] - 0s - loss: 376.6698     \n",
      "Epoch 14/100\n",
      "404/404 [==============================] - 0s - loss: 364.9394     \n",
      "Epoch 15/100\n",
      "404/404 [==============================] - 0s - loss: 353.2960     \n",
      "Epoch 16/100\n",
      "404/404 [==============================] - 0s - loss: 342.4203     \n",
      "Epoch 17/100\n",
      "404/404 [==============================] - 0s - loss: 331.6241     \n",
      "Epoch 18/100\n",
      "404/404 [==============================] - 0s - loss: 321.3701     \n",
      "Epoch 19/100\n",
      "404/404 [==============================] - 0s - loss: 311.0629     \n",
      "Epoch 20/100\n",
      "404/404 [==============================] - 0s - loss: 301.4293     \n",
      "Epoch 21/100\n",
      "404/404 [==============================] - 0s - loss: 292.0384     \n",
      "Epoch 22/100\n",
      "404/404 [==============================] - 0s - loss: 282.4913     \n",
      "Epoch 23/100\n",
      "404/404 [==============================] - 0s - loss: 273.6284     \n",
      "Epoch 24/100\n",
      "404/404 [==============================] - 0s - loss: 264.7141     \n",
      "Epoch 25/100\n",
      "404/404 [==============================] - 0s - loss: 256.2982     \n",
      "Epoch 26/100\n",
      "404/404 [==============================] - 0s - loss: 248.1041     \n",
      "Epoch 27/100\n",
      "404/404 [==============================] - 0s - loss: 240.1691     \n",
      "Epoch 28/100\n",
      "404/404 [==============================] - 0s - loss: 232.2189     \n",
      "Epoch 29/100\n",
      "404/404 [==============================] - 0s - loss: 224.6227     \n",
      "Epoch 30/100\n",
      "404/404 [==============================] - 0s - loss: 217.3472     \n",
      "Epoch 31/100\n",
      "404/404 [==============================] - 0s - loss: 210.0511     \n",
      "Epoch 32/100\n",
      "404/404 [==============================] - 0s - loss: 203.1826     \n",
      "Epoch 33/100\n",
      "404/404 [==============================] - 0s - loss: 196.4234     \n",
      "Epoch 34/100\n",
      "404/404 [==============================] - 0s - loss: 189.9463     \n",
      "Epoch 35/100\n",
      "404/404 [==============================] - 0s - loss: 183.5264     \n",
      "Epoch 36/100\n",
      "404/404 [==============================] - 0s - loss: 177.4630     \n",
      "Epoch 37/100\n",
      "404/404 [==============================] - 0s - loss: 171.4514     \n",
      "Epoch 38/100\n",
      "404/404 [==============================] - 0s - loss: 165.6384     \n",
      "Epoch 39/100\n",
      "404/404 [==============================] - 0s - loss: 160.0810     \n",
      "Epoch 40/100\n",
      "404/404 [==============================] - 0s - loss: 154.6514     \n",
      "Epoch 41/100\n",
      "404/404 [==============================] - 0s - loss: 149.3777     \n",
      "Epoch 42/100\n",
      "404/404 [==============================] - 0s - loss: 144.3244     \n",
      "Epoch 43/100\n",
      "404/404 [==============================] - 0s - loss: 139.4147     \n",
      "Epoch 44/100\n",
      "404/404 [==============================] - 0s - loss: 134.6544     \n",
      "Epoch 45/100\n",
      "404/404 [==============================] - 0s - loss: 129.8790     \n",
      "Epoch 46/100\n",
      "404/404 [==============================] - 0s - loss: 125.3986     \n",
      "Epoch 47/100\n",
      "404/404 [==============================] - 0s - loss: 121.1195     \n",
      "Epoch 48/100\n",
      "404/404 [==============================] - 0s - loss: 116.8122     \n",
      "Epoch 49/100\n",
      "404/404 [==============================] - 0s - loss: 112.7798     \n",
      "Epoch 50/100\n",
      "404/404 [==============================] - 0s - loss: 108.8764    \n",
      "Epoch 51/100\n",
      "404/404 [==============================] - 0s - loss: 105.0561    \n",
      "Epoch 52/100\n",
      "404/404 [==============================] - 0s - loss: 101.4593     \n",
      "Epoch 53/100\n",
      "404/404 [==============================] - 0s - loss: 97.9094      \n",
      "Epoch 54/100\n",
      "404/404 [==============================] - 0s - loss: 94.5354     \n",
      "Epoch 55/100\n",
      "404/404 [==============================] - 0s - loss: 91.3503      \n",
      "Epoch 56/100\n",
      "404/404 [==============================] - 0s - loss: 88.0463     \n",
      "Epoch 57/100\n",
      "404/404 [==============================] - 0s - loss: 85.0442     \n",
      "Epoch 58/100\n",
      "404/404 [==============================] - 0s - loss: 82.0982     \n",
      "Epoch 59/100\n",
      "404/404 [==============================] - 0s - loss: 79.2273      \n",
      "Epoch 60/100\n",
      "404/404 [==============================] - 0s - loss: 76.4825     \n",
      "Epoch 61/100\n",
      "404/404 [==============================] - 0s - loss: 73.9424     \n",
      "Epoch 62/100\n",
      "404/404 [==============================] - 0s - loss: 71.4083     \n",
      "Epoch 63/100\n",
      "404/404 [==============================] - 0s - loss: 68.9771     \n",
      "Epoch 64/100\n",
      "404/404 [==============================] - 0s - loss: 66.7621     \n",
      "Epoch 65/100\n",
      "404/404 [==============================] - 0s - loss: 64.3616     \n",
      "Epoch 66/100\n",
      "404/404 [==============================] - 0s - loss: 62.2707     \n",
      "Epoch 67/100\n",
      "404/404 [==============================] - 0s - loss: 60.1289     \n",
      "Epoch 68/100\n",
      "404/404 [==============================] - 0s - loss: 58.1530     \n",
      "Epoch 69/100\n",
      "404/404 [==============================] - 0s - loss: 56.2260     \n",
      "Epoch 70/100\n",
      "404/404 [==============================] - 0s - loss: 54.4486     \n",
      "Epoch 71/100\n",
      "404/404 [==============================] - 0s - loss: 52.6744     \n",
      "Epoch 72/100\n",
      "404/404 [==============================] - 0s - loss: 51.0041     \n",
      "Epoch 73/100\n",
      "404/404 [==============================] - 0s - loss: 49.3582     \n",
      "Epoch 74/100\n",
      "404/404 [==============================] - 0s - loss: 47.8794     \n",
      "Epoch 75/100\n",
      "404/404 [==============================] - 0s - loss: 46.3692     \n",
      "Epoch 76/100\n",
      "404/404 [==============================] - 0s - loss: 44.9498     \n",
      "Epoch 77/100\n",
      "404/404 [==============================] - 0s - loss: 43.6093     \n",
      "Epoch 78/100\n",
      "404/404 [==============================] - 0s - loss: 42.3502     \n",
      "Epoch 79/100\n",
      "404/404 [==============================] - 0s - loss: 41.1409     \n",
      "Epoch 80/100\n",
      "404/404 [==============================] - 0s - loss: 39.9237     \n",
      "Epoch 81/100\n",
      "404/404 [==============================] - 0s - loss: 38.8019     \n",
      "Epoch 82/100\n",
      "404/404 [==============================] - 0s - loss: 37.8210     \n",
      "Epoch 83/100\n",
      "404/404 [==============================] - 0s - loss: 36.7327     \n",
      "Epoch 84/100\n",
      "404/404 [==============================] - 0s - loss: 35.8384     \n",
      "Epoch 85/100\n",
      "404/404 [==============================] - 0s - loss: 34.9425     \n",
      "Epoch 86/100\n",
      "404/404 [==============================] - 0s - loss: 34.0211     \n",
      "Epoch 87/100\n",
      "404/404 [==============================] - 0s - loss: 33.2917     \n",
      "Epoch 88/100\n",
      "404/404 [==============================] - 0s - loss: 32.3367     \n",
      "Epoch 89/100\n",
      "404/404 [==============================] - 0s - loss: 31.6280     \n",
      "Epoch 90/100\n",
      "404/404 [==============================] - 0s - loss: 30.8894     \n",
      "Epoch 91/100\n",
      "404/404 [==============================] - 0s - loss: 30.2069     \n",
      "Epoch 92/100\n",
      "404/404 [==============================] - 0s - loss: 29.5523     \n",
      "Epoch 93/100\n",
      "404/404 [==============================] - 0s - loss: 28.9792     \n",
      "Epoch 94/100\n",
      "404/404 [==============================] - 0s - loss: 28.3490     \n",
      "Epoch 95/100\n",
      "404/404 [==============================] - 0s - loss: 27.8106     \n",
      "Epoch 96/100\n",
      "404/404 [==============================] - 0s - loss: 27.3024     \n",
      "Epoch 97/100\n",
      "404/404 [==============================] - 0s - loss: 26.8442     \n",
      "Epoch 98/100\n",
      "404/404 [==============================] - 0s - loss: 26.3529     \n",
      "Epoch 99/100\n",
      "404/404 [==============================] - 0s - loss: 25.9002     \n",
      "Epoch 100/100\n",
      "404/404 [==============================] - 0s - loss: 25.5460     \n"
     ]
    }
   ],
   "source": [
    "history = model.fit(X_train, y_train, epochs = num_epochs)"
   ]
  },
  {
   "cell_type": "markdown",
   "metadata": {},
   "source": [
    "### get model weights"
   ]
  },
  {
   "cell_type": "code",
   "execution_count": 12,
   "metadata": {},
   "outputs": [
    {
     "name": "stdout",
     "output_type": "stream",
     "text": [
      " 32/102 [========>.....................] - ETA: 0s\n",
      "\n",
      "Training cost:  25.2391\n",
      "\n",
      "Test cost:  41.0843\n"
     ]
    }
   ],
   "source": [
    "train_score = model.evaluate(X_train, y_train)\n",
    "test_score = model.evaluate(X_test, y_test)\n",
    "\n",
    "print(\"\\n\\nTraining cost: \", \"{:.4f}\".format(train_score))\n",
    "print(\"\\nTest cost: \", \"{:.4f}\".format(test_score))"
   ]
  },
  {
   "cell_type": "code",
   "execution_count": 13,
   "metadata": {},
   "outputs": [
    {
     "data": {
      "text/plain": [
       "[array([[-0.87398243],\n",
       "        [ 0.86860573],\n",
       "        [-0.30979559],\n",
       "        [ 0.6449672 ],\n",
       "        [-1.46023679],\n",
       "        [ 2.73748541],\n",
       "        [-0.21714371],\n",
       "        [-2.6350522 ],\n",
       "        [ 1.13577867],\n",
       "        [-0.89600652],\n",
       "        [-2.21426773],\n",
       "        [ 0.73830932],\n",
       "        [-3.48061872]], dtype=float32), array([ 20.21624565], dtype=float32)]"
      ]
     },
     "execution_count": 13,
     "metadata": {},
     "output_type": "execute_result"
    }
   ],
   "source": [
    "model.get_weights()"
   ]
  },
  {
   "cell_type": "code",
   "execution_count": 14,
   "metadata": {},
   "outputs": [
    {
     "data": {
      "image/png": "[encoded data removed]",
      "text/plain": [
       "<matplotlib.figure.Figure at 0x7f97ba6c8a20>"
      ]
     },
     "metadata": {},
     "output_type": "display_data"
    }
   ],
   "source": [
    "plt.plot(history.history['loss'], 'c.')\n",
    "plt.title('model loss')\n",
    "plt.ylabel('loss')\n",
    "plt.xlabel('epoch')\n",
    "plt.show()"
   ]
  },
  {
   "cell_type": "markdown",
   "metadata": {},
   "source": [
    "### Get predictions"
   ]
  },
  {
   "cell_type": "code",
   "execution_count": 15,
   "metadata": {},
   "outputs": [
    {
     "data": {
      "image/png": "[encoded data removed]",
      "text/plain": [
       "<matplotlib.figure.Figure at 0x7f97b8620ba8>"
      ]
     },
     "metadata": {},
     "output_type": "display_data"
    }
   ],
   "source": [
    "pred_train = model.predict(X_train)\n",
    "fig, ax = plt.subplots()\n",
    "ax.scatter(y_train, pred_train)\n",
    "ax.plot([y_train.min(), y_train.max()], [y_train.min(), y_train.max()], 'k--', lw=3)\n",
    "ax.set_xlabel('Measured')\n",
    "ax.set_ylabel('Predicted')\n",
    "plt.show()"
   ]
  },
  {
   "cell_type": "code",
   "execution_count": 16,
   "metadata": {},
   "outputs": [
    {
     "data": {
      "image/png": "[encoded data removed]",
      "text/plain": [
       "<matplotlib.figure.Figure at 0x7f97ab794d68>"
      ]
     },
     "metadata": {},
     "output_type": "display_data"
    }
   ],
   "source": [
    "pred_test = model.predict(X_test)\n",
    "fig, ax = plt.subplots()\n",
    "ax.scatter(y_test, pred_test)\n",
    "ax.plot([y_test.min(), y_test.max()], [y_test.min(), y_test.max()], 'k--', lw=3)\n",
    "ax.set_xlabel('Measured')\n",
    "ax.set_ylabel('Predicted')\n",
    "plt.show()"
   ]
  },
  {
   "cell_type": "code",
   "execution_count": 17,
   "metadata": {},
   "outputs": [
    {
     "data": {
      "text/plain": [
       "(404, 1)"
      ]
     },
     "execution_count": 17,
     "metadata": {},
     "output_type": "execute_result"
    }
   ],
   "source": [
    "pred_train.shape"
   ]
  },
  {
   "cell_type": "code",
   "execution_count": null,
   "metadata": {
    "collapsed": true
   },
   "outputs": [],
   "source": []
  }
 ],
 "metadata": {
  "kernelspec": {
   "display_name": "Python 3",
   "language": "python",
   "name": "python3"
  },
  "language_info": {
   "codemirror_mode": {
    "name": "ipython",
    "version": 3
   },
   "file_extension": ".py",
   "mimetype": "text/x-python",
   "name": "python",
   "nbconvert_exporter": "python",
   "pygments_lexer": "ipython3",
   "version": "3.5.3"
  }
 },
 "nbformat": 4,
 "nbformat_minor": 2
}
