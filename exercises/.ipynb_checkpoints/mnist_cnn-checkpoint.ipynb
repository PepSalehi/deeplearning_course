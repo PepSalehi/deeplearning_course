{
 "cells": [
  {
   "cell_type": "code",
   "execution_count": 10,
   "metadata": {},
   "outputs": [],
   "source": [
    "import keras\n",
    "from keras.datasets import mnist\n",
    "from keras.models import Sequential\n",
    "from keras.layers import Dense, Dropout, Flatten\n",
    "from keras.layers import Conv2D, MaxPooling2D\n",
    "from keras import backend as K\n",
    "\n",
    "import numpy as np"
   ]
  },
  {
   "cell_type": "code",
   "execution_count": 2,
   "metadata": {},
   "outputs": [
    {
     "data": {
      "text/plain": [
       "((60000, 28, 28), (60000,), (10000, 28, 28), (10000,))"
      ]
     },
     "execution_count": 2,
     "metadata": {},
     "output_type": "execute_result"
    }
   ],
   "source": [
    "# load MNIST\n",
    "(x_train, y_train), (x_test, y_test) = mnist.load_data()\n",
    "x_train.shape, y_train.shape, x_test.shape, y_test.shape"
   ]
  },
  {
   "cell_type": "code",
   "execution_count": 3,
   "metadata": {
    "collapsed": true
   },
   "outputs": [],
   "source": [
    "# input image dimensions\n",
    "img_rows, img_cols = 28, 28\n",
    "\n",
    "# reshape into correct order, adding a 4th dimension\n",
    "if K.image_data_format() == 'channels_first':\n",
    "    x_train = x_train.reshape(x_train.shape[0], 1, img_rows, img_cols)\n",
    "    x_test = x_test.reshape(x_test.shape[0], 1, img_rows, img_cols)\n",
    "    input_shape = (1, img_rows, img_cols)\n",
    "else:\n",
    "    x_train = x_train.reshape(x_train.shape[0], img_rows, img_cols, 1)\n",
    "    x_test = x_test.reshape(x_test.shape[0], img_rows, img_cols, 1)\n",
    "    input_shape = (img_rows, img_cols, 1)"
   ]
  },
  {
   "cell_type": "code",
   "execution_count": 4,
   "metadata": {
    "collapsed": true
   },
   "outputs": [],
   "source": [
    "# convert to float and normalize\n",
    "x_train = x_train.astype('float32')\n",
    "x_test = x_test.astype('float32')\n",
    "x_train /= 255\n",
    "x_test /= 255\n"
   ]
  },
  {
   "cell_type": "code",
   "execution_count": 5,
   "metadata": {},
   "outputs": [
    {
     "data": {
      "text/plain": [
       "((60000, 10), (10000, 10))"
      ]
     },
     "execution_count": 5,
     "metadata": {},
     "output_type": "execute_result"
    }
   ],
   "source": [
    "# convert class vectors to binary class matrices\n",
    "num_classes = 10\n",
    "y_train = keras.utils.to_categorical(y_train, num_classes)\n",
    "y_test = keras.utils.to_categorical(y_test, num_classes)\n",
    "y_train.shape, y_test.shape"
   ]
  },
  {
   "cell_type": "code",
   "execution_count": 6,
   "metadata": {
    "collapsed": true
   },
   "outputs": [],
   "source": [
    "batch_size = 128\n",
    "epochs = 1"
   ]
  },
  {
   "cell_type": "code",
   "execution_count": 7,
   "metadata": {
    "collapsed": true
   },
   "outputs": [],
   "source": [
    "model = Sequential()\n",
    "model.add(Conv2D(32, kernel_size=(3, 3),\n",
    "                 activation='relu',\n",
    "                 input_shape=input_shape))\n",
    "model.add(Conv2D(64, (3, 3), activation='relu'))\n",
    "model.add(MaxPooling2D(pool_size=(2, 2)))\n",
    "model.add(Dropout(0.25))\n",
    "model.add(Flatten())\n",
    "model.add(Dense(128, activation='relu'))\n",
    "model.add(Dropout(0.5))\n",
    "model.add(Dense(num_classes, activation='softmax'))"
   ]
  },
  {
   "cell_type": "code",
   "execution_count": 8,
   "metadata": {
    "collapsed": true
   },
   "outputs": [],
   "source": [
    "model.compile(loss=keras.losses.categorical_crossentropy,\n",
    "              optimizer=keras.optimizers.Adadelta(),\n",
    "              metrics=['accuracy'])"
   ]
  },
  {
   "cell_type": "code",
   "execution_count": 9,
   "metadata": {},
   "outputs": [
    {
     "name": "stdout",
     "output_type": "stream",
     "text": [
      "Train on 60000 samples, validate on 10000 samples\n",
      "Epoch 1/1\n",
      "60000/60000 [==============================] - 178s - loss: 0.3310 - acc: 0.8997 - val_loss: 0.0806 - val_acc: 0.9738\n"
     ]
    },
    {
     "data": {
      "text/plain": [
       "<keras.callbacks.History at 0x7f55b1b58860>"
      ]
     },
     "execution_count": 9,
     "metadata": {},
     "output_type": "execute_result"
    }
   ],
   "source": [
    "model.fit(x_train, y_train,\n",
    "          batch_size=batch_size,\n",
    "          epochs=epochs,\n",
    "          verbose=1,\n",
    "          validation_data=(x_test, y_test))"
   ]
  },
  {
   "cell_type": "code",
   "execution_count": 11,
   "metadata": {},
   "outputs": [
    {
     "name": "stdout",
     "output_type": "stream",
     "text": [
      "Test loss: 0.0806416507801\n",
      "Test accuracy: 0.9738\n"
     ]
    }
   ],
   "source": [
    "score = model.evaluate(x_test, y_test, verbose=0)\n",
    "print('Test loss:', score[0])\n",
    "print('Test accuracy:', score[1])"
   ]
  },
  {
   "cell_type": "code",
   "execution_count": 17,
   "metadata": {},
   "outputs": [
    {
     "data": {
      "text/plain": [
       "array([7, 2, 1, 0, 4, 1, 4, 9, 5, 9])"
      ]
     },
     "execution_count": 17,
     "metadata": {},
     "output_type": "execute_result"
    }
   ],
   "source": [
    "np.argmax(y_test[:10], axis = 1)"
   ]
  },
  {
   "cell_type": "code",
   "execution_count": 19,
   "metadata": {},
   "outputs": [
    {
     "name": "stdout",
     "output_type": "stream",
     "text": [
      "10/10 [==============================] - 0s\n"
     ]
    },
    {
     "data": {
      "text/plain": [
       "array([7, 2, 1, 0, 4, 1, 4, 9, 5, 9])"
      ]
     },
     "execution_count": 19,
     "metadata": {},
     "output_type": "execute_result"
    }
   ],
   "source": [
    "model.predict_classes(x_test[:10])"
   ]
  },
  {
   "cell_type": "code",
   "execution_count": 20,
   "metadata": {},
   "outputs": [
    {
     "name": "stdout",
     "output_type": "stream",
     "text": [
      "10/10 [==============================] - 0s\n"
     ]
    },
    {
     "data": {
      "text/plain": [
       "array([[  1.82655143e-07,   8.76623858e-08,   6.20563640e-07,\n",
       "          4.91511264e-06,   2.21933205e-09,   8.03601741e-10,\n",
       "          1.31343425e-09,   9.99992490e-01,   4.03553777e-08,\n",
       "          1.64878713e-06],\n",
       "       [  5.28962046e-05,   2.58717249e-04,   9.99660969e-01,\n",
       "          1.05064164e-05,   2.57189559e-08,   3.06540677e-08,\n",
       "          1.10458632e-05,   1.75341199e-08,   5.71175451e-06,\n",
       "          1.52805875e-08],\n",
       "       [  4.73174259e-06,   9.99571025e-01,   6.44461252e-05,\n",
       "          2.82075325e-05,   4.97250730e-05,   4.38452207e-06,\n",
       "          4.01517464e-05,   1.29241875e-04,   9.87783278e-05,\n",
       "          9.29786620e-06],\n",
       "       [  9.99768078e-01,   1.58495743e-06,   4.96191860e-05,\n",
       "          9.67237384e-07,   4.73570935e-06,   1.07738151e-05,\n",
       "          1.10964465e-04,   2.18688565e-05,   7.68482096e-06,\n",
       "          2.38097018e-05],\n",
       "       [  5.46953270e-05,   2.29271318e-05,   4.63992910e-06,\n",
       "          1.22638255e-06,   9.98176217e-01,   7.47641025e-06,\n",
       "          9.24991473e-05,   1.49913729e-04,   1.76799876e-05,\n",
       "          1.47270726e-03],\n",
       "       [  8.88677334e-07,   9.99743640e-01,   1.24921880e-05,\n",
       "          9.75981584e-06,   2.71430163e-05,   3.36942492e-07,\n",
       "          1.46348168e-06,   1.49693049e-04,   4.51810811e-05,\n",
       "          9.38452649e-06],\n",
       "       [  3.88406420e-07,   1.58980620e-04,   8.41742803e-07,\n",
       "          6.24077165e-06,   9.85259771e-01,   1.62977507e-04,\n",
       "          3.62991386e-06,   5.08911209e-04,   1.32809794e-02,\n",
       "          6.17307844e-04],\n",
       "       [  9.39239089e-06,   5.46644034e-04,   1.80121453e-04,\n",
       "          1.24798913e-03,   2.03289073e-02,   2.83138920e-03,\n",
       "          4.37134076e-05,   1.28550211e-03,   1.08651433e-03,\n",
       "          9.72439826e-01],\n",
       "       [  7.74193031e-05,   1.16373633e-06,   2.98454233e-06,\n",
       "          1.51204020e-07,   1.89552702e-05,   9.57008898e-01,\n",
       "          4.17739674e-02,   7.97996449e-07,   8.14658066e-04,\n",
       "          3.01119697e-04],\n",
       "       [  1.25458810e-05,   2.74964914e-05,   2.63452898e-06,\n",
       "          1.90619448e-05,   1.80554413e-03,   1.97341087e-05,\n",
       "          3.43079523e-06,   3.41325104e-02,   2.63584341e-04,\n",
       "          9.63713527e-01]], dtype=float32)"
      ]
     },
     "execution_count": 20,
     "metadata": {},
     "output_type": "execute_result"
    }
   ],
   "source": [
    "model.predict_proba(x_test[:10])"
   ]
  },
  {
   "cell_type": "code",
   "execution_count": null,
   "metadata": {
    "collapsed": true
   },
   "outputs": [],
   "source": []
  }
 ],
 "metadata": {
  "kernelspec": {
   "display_name": "Python 3",
   "language": "python",
   "name": "python3"
  },
  "language_info": {
   "codemirror_mode": {
    "name": "ipython",
    "version": 3
   },
   "file_extension": ".py",
   "mimetype": "text/x-python",
   "name": "python",
   "nbconvert_exporter": "python",
   "pygments_lexer": "ipython3",
   "version": "3.5.3"
  }
 },
 "nbformat": 4,
 "nbformat_minor": 2
}
