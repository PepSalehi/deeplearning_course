{
 "cells": [
  {
   "cell_type": "markdown",
   "metadata": {},
   "source": [
    "### Deep autoencoder"
   ]
  },
  {
   "cell_type": "code",
   "execution_count": 1,
   "metadata": {},
   "outputs": [
    {
     "name": "stderr",
     "output_type": "stream",
     "text": [
      "Using TensorFlow backend.\n"
     ]
    }
   ],
   "source": [
    "from keras.layers import Input, Dense\n",
    "from keras.models import Model\n",
    "from keras.datasets import mnist\n",
    "import numpy as np\n",
    "import matplotlib.pyplot as plt\n",
    "from keras import regularizers"
   ]
  },
  {
   "cell_type": "code",
   "execution_count": 3,
   "metadata": {
    "collapsed": true
   },
   "outputs": [],
   "source": [
    "# this is the size of our encoded representations\n",
    "encoding_dim = 32  # 32 floats -> compression of factor 24.5, assuming the input is 784 floats\n",
    "num_epochs = 50"
   ]
  },
  {
   "cell_type": "code",
   "execution_count": 4,
   "metadata": {},
   "outputs": [
    {
     "data": {
      "text/plain": [
       "<tf.Tensor 'input_1:0' shape=(?, 784) dtype=float32>"
      ]
     },
     "execution_count": 4,
     "metadata": {},
     "output_type": "execute_result"
    }
   ],
   "source": [
    "# this is our input placeholder\n",
    "input_img = Input(shape=(784,))\n",
    "input_img"
   ]
  },
  {
   "cell_type": "code",
   "execution_count": 5,
   "metadata": {},
   "outputs": [
    {
     "data": {
      "text/plain": [
       "<tf.Tensor 'dense_3/Relu:0' shape=(?, 32) dtype=float32>"
      ]
     },
     "execution_count": 5,
     "metadata": {},
     "output_type": "execute_result"
    }
   ],
   "source": [
    "encoded = Dense(128, activation='relu')(input_img)\n",
    "encoded = Dense(64, activation='relu')(encoded)\n",
    "encoded = Dense(32, activation='relu')(encoded)\n",
    "encoded"
   ]
  },
  {
   "cell_type": "code",
   "execution_count": 6,
   "metadata": {},
   "outputs": [
    {
     "data": {
      "text/plain": [
       "<tf.Tensor 'dense_6/Sigmoid:0' shape=(?, 784) dtype=float32>"
      ]
     },
     "execution_count": 6,
     "metadata": {},
     "output_type": "execute_result"
    }
   ],
   "source": [
    "# \"decoded\" is the lossy reconstruction of the input\n",
    "decoded = Dense(64, activation='relu')(encoded)\n",
    "decoded = Dense(128, activation='relu')(decoded)\n",
    "decoded = Dense(784, activation='sigmoid')(decoded)\n",
    "decoded"
   ]
  },
  {
   "cell_type": "code",
   "execution_count": 8,
   "metadata": {},
   "outputs": [
    {
     "name": "stdout",
     "output_type": "stream",
     "text": [
      "_________________________________________________________________\n",
      "Layer (type)                 Output Shape              Param #   \n",
      "=================================================================\n",
      "input_1 (InputLayer)         (None, 784)               0         \n",
      "_________________________________________________________________\n",
      "dense_1 (Dense)              (None, 128)               100480    \n",
      "_________________________________________________________________\n",
      "dense_2 (Dense)              (None, 64)                8256      \n",
      "_________________________________________________________________\n",
      "dense_3 (Dense)              (None, 32)                2080      \n",
      "_________________________________________________________________\n",
      "dense_4 (Dense)              (None, 64)                2112      \n",
      "_________________________________________________________________\n",
      "dense_5 (Dense)              (None, 128)               8320      \n",
      "_________________________________________________________________\n",
      "dense_6 (Dense)              (None, 784)               101136    \n",
      "=================================================================\n",
      "Total params: 222,384\n",
      "Trainable params: 222,384\n",
      "Non-trainable params: 0\n",
      "_________________________________________________________________\n"
     ]
    }
   ],
   "source": [
    "autoencoder = Model(input_img, decoded)\n",
    "autoencoder.summary()"
   ]
  },
  {
   "cell_type": "code",
   "execution_count": 9,
   "metadata": {},
   "outputs": [
    {
     "name": "stdout",
     "output_type": "stream",
     "text": [
      "_________________________________________________________________\n",
      "Layer (type)                 Output Shape              Param #   \n",
      "=================================================================\n",
      "input_1 (InputLayer)         (None, 784)               0         \n",
      "_________________________________________________________________\n",
      "dense_1 (Dense)              (None, 128)               100480    \n",
      "_________________________________________________________________\n",
      "dense_2 (Dense)              (None, 64)                8256      \n",
      "_________________________________________________________________\n",
      "dense_3 (Dense)              (None, 32)                2080      \n",
      "=================================================================\n",
      "Total params: 110,816\n",
      "Trainable params: 110,816\n",
      "Non-trainable params: 0\n",
      "_________________________________________________________________\n"
     ]
    }
   ],
   "source": [
    "#Let's also create a separate encoder model:\n",
    "\n",
    "# this model maps an input to its encoded representation\n",
    "encoder = Model(input_img, encoded)\n",
    "encoder.summary()"
   ]
  },
  {
   "cell_type": "code",
   "execution_count": 10,
   "metadata": {},
   "outputs": [
    {
     "name": "stdout",
     "output_type": "stream",
     "text": [
      "_________________________________________________________________\n",
      "Layer (type)                 Output Shape              Param #   \n",
      "=================================================================\n",
      "input_2 (InputLayer)         (None, 32)                0         \n",
      "_________________________________________________________________\n",
      "dense_4 (Dense)              (None, 64)                2112      \n",
      "_________________________________________________________________\n",
      "dense_5 (Dense)              (None, 128)               8320      \n",
      "_________________________________________________________________\n",
      "dense_6 (Dense)              (None, 784)               101136    \n",
      "=================================================================\n",
      "Total params: 111,568\n",
      "Trainable params: 111,568\n",
      "Non-trainable params: 0\n",
      "_________________________________________________________________\n"
     ]
    }
   ],
   "source": [
    "# as well as the decoder model:\n",
    "\n",
    "# create a placeholder for an encoded (32-dimensional) input\n",
    "encoded_input = Input(shape=(encoding_dim,))\n",
    "# retrieve the last layer of the autoencoder model\n",
    "decoder_layer_last = autoencoder.layers[-1]\n",
    "decoder_layer_2ndlast = autoencoder.layers[-2]\n",
    "decoder_layer_3rdlast = autoencoder.layers[-3]\n",
    "# create the decoder model\n",
    "decoder = Model(encoded_input,\n",
    "                decoder_layer_last(decoder_layer_2ndlast(decoder_layer_3rdlast(encoded_input))))\n",
    "decoder.summary()"
   ]
  },
  {
   "cell_type": "code",
   "execution_count": 11,
   "metadata": {
    "collapsed": true
   },
   "outputs": [],
   "source": [
    "autoencoder.compile(optimizer='adadelta', loss='binary_crossentropy')"
   ]
  },
  {
   "cell_type": "code",
   "execution_count": 12,
   "metadata": {},
   "outputs": [
    {
     "data": {
      "text/plain": [
       "((60000, 28, 28), (10000, 28, 28))"
      ]
     },
     "execution_count": 12,
     "metadata": {},
     "output_type": "execute_result"
    }
   ],
   "source": [
    "(x_train, _), (x_test, _) = mnist.load_data(path = './mnist.npz')\n",
    "x_train.shape, x_test.shape"
   ]
  },
  {
   "cell_type": "code",
   "execution_count": 13,
   "metadata": {},
   "outputs": [
    {
     "data": {
      "text/plain": [
       "((60000, 784), (10000, 784))"
      ]
     },
     "execution_count": 13,
     "metadata": {},
     "output_type": "execute_result"
    }
   ],
   "source": [
    "x_train = x_train.astype('float32') / 255.\n",
    "x_test = x_test.astype('float32') / 255.\n",
    "x_train = x_train.reshape((len(x_train), np.prod(x_train.shape[1:])))\n",
    "x_test = x_test.reshape((len(x_test), np.prod(x_test.shape[1:])))\n",
    "x_train.shape, x_test.shape"
   ]
  },
  {
   "cell_type": "code",
   "execution_count": 14,
   "metadata": {},
   "outputs": [
    {
     "name": "stdout",
     "output_type": "stream",
     "text": [
      "Train on 60000 samples, validate on 10000 samples\n",
      "Epoch 1/50\n",
      "60000/60000 [==============================] - 6s - loss: 0.3383 - val_loss: 0.2640\n",
      "Epoch 2/50\n",
      "60000/60000 [==============================] - 6s - loss: 0.2570 - val_loss: 0.2487\n",
      "Epoch 3/50\n",
      "60000/60000 [==============================] - 5s - loss: 0.2416 - val_loss: 0.2330\n",
      "Epoch 4/50\n",
      "60000/60000 [==============================] - 5s - loss: 0.2235 - val_loss: 0.2106\n",
      "Epoch 5/50\n",
      "60000/60000 [==============================] - 5s - loss: 0.2035 - val_loss: 0.1965\n",
      "Epoch 6/50\n",
      "60000/60000 [==============================] - 5s - loss: 0.1929 - val_loss: 0.1887\n",
      "Epoch 7/50\n",
      "60000/60000 [==============================] - 6s - loss: 0.1850 - val_loss: 0.1804\n",
      "Epoch 8/50\n",
      "60000/60000 [==============================] - 5s - loss: 0.1773 - val_loss: 0.1714\n",
      "Epoch 9/50\n",
      "60000/60000 [==============================] - 5s - loss: 0.1720 - val_loss: 0.1682\n",
      "Epoch 10/50\n",
      "60000/60000 [==============================] - 5s - loss: 0.1676 - val_loss: 0.1647\n",
      "Epoch 11/50\n",
      "60000/60000 [==============================] - 5s - loss: 0.1635 - val_loss: 0.1607\n",
      "Epoch 12/50\n",
      "60000/60000 [==============================] - 5s - loss: 0.1595 - val_loss: 0.1569\n",
      "Epoch 13/50\n",
      "60000/60000 [==============================] - 5s - loss: 0.1560 - val_loss: 0.1526ss: 0.1\n",
      "Epoch 14/50\n",
      "60000/60000 [==============================] - 5s - loss: 0.1530 - val_loss: 0.1491\n",
      "Epoch 15/50\n",
      "60000/60000 [==============================] - 5s - loss: 0.1502 - val_loss: 0.1480\n",
      "Epoch 16/50\n",
      "60000/60000 [==============================] - 5s - loss: 0.1473 - val_loss: 0.1436\n",
      "Epoch 17/50\n",
      "60000/60000 [==============================] - 5s - loss: 0.1444 - val_loss: 0.1420\n",
      "Epoch 18/50\n",
      "60000/60000 [==============================] - 5s - loss: 0.1421 - val_loss: 0.1388\n",
      "Epoch 19/50\n",
      "60000/60000 [==============================] - 6s - loss: 0.1401 - val_loss: 0.1376\n",
      "Epoch 20/50\n",
      "60000/60000 [==============================] - 6s - loss: 0.1385 - val_loss: 0.1357\n",
      "Epoch 21/50\n",
      "60000/60000 [==============================] - 5s - loss: 0.1368 - val_loss: 0.1331\n",
      "Epoch 22/50\n",
      "60000/60000 [==============================] - 5s - loss: 0.1352 - val_loss: 0.1321\n",
      "Epoch 23/50\n",
      "60000/60000 [==============================] - 5s - loss: 0.1337 - val_loss: 0.1316\n",
      "Epoch 24/50\n",
      "60000/60000 [==============================] - 5s - loss: 0.1321 - val_loss: 0.1294\n",
      "Epoch 25/50\n",
      "60000/60000 [==============================] - 5s - loss: 0.1307 - val_loss: 0.1284\n",
      "Epoch 26/50\n",
      "60000/60000 [==============================] - 5s - loss: 0.1294 - val_loss: 0.1267\n",
      "Epoch 27/50\n",
      "60000/60000 [==============================] - 5s - loss: 0.1282 - val_loss: 0.1268\n",
      "Epoch 28/50\n",
      "60000/60000 [==============================] - 6s - loss: 0.1271 - val_loss: 0.1243\n",
      "Epoch 29/50\n",
      "60000/60000 [==============================] - 6s - loss: 0.1260 - val_loss: 0.1242\n",
      "Epoch 30/50\n",
      "60000/60000 [==============================] - 5s - loss: 0.1250 - val_loss: 0.1229\n",
      "Epoch 31/50\n",
      "60000/60000 [==============================] - 6s - loss: 0.1241 - val_loss: 0.1214\n",
      "Epoch 32/50\n",
      "60000/60000 [==============================] - 6s - loss: 0.1232 - val_loss: 0.1222\n",
      "Epoch 33/50\n",
      "60000/60000 [==============================] - 6s - loss: 0.1224 - val_loss: 0.1210\n",
      "Epoch 34/50\n",
      "60000/60000 [==============================] - 6s - loss: 0.1216 - val_loss: 0.1200\n",
      "Epoch 35/50\n",
      "60000/60000 [==============================] - 5s - loss: 0.1207 - val_loss: 0.1187\n",
      "Epoch 36/50\n",
      "60000/60000 [==============================] - 5s - loss: 0.1200 - val_loss: 0.1181ss: 0.\n",
      "Epoch 37/50\n",
      "60000/60000 [==============================] - 5s - loss: 0.1193 - val_loss: 0.1169\n",
      "Epoch 38/50\n",
      "60000/60000 [==============================] - 5s - loss: 0.1186 - val_loss: 0.1168\n",
      "Epoch 39/50\n",
      "60000/60000 [==============================] - 5s - loss: 0.1180 - val_loss: 0.1156\n",
      "Epoch 40/50\n",
      "60000/60000 [==============================] - 5s - loss: 0.1172 - val_loss: 0.1156\n",
      "Epoch 41/50\n",
      "60000/60000 [==============================] - 7s - loss: 0.1170 - val_loss: 0.1165\n",
      "Epoch 42/50\n",
      "60000/60000 [==============================] - 7s - loss: 0.1162 - val_loss: 0.1147\n",
      "Epoch 43/50\n",
      "60000/60000 [==============================] - 6s - loss: 0.1157 - val_loss: 0.1137\n",
      "Epoch 44/50\n",
      "60000/60000 [==============================] - 5s - loss: 0.1149 - val_loss: 0.1140\n",
      "Epoch 45/50\n",
      "60000/60000 [==============================] - 5s - loss: 0.1145 - val_loss: 0.1142\n",
      "Epoch 46/50\n",
      "60000/60000 [==============================] - 5s - loss: 0.1140 - val_loss: 0.1124\n",
      "Epoch 47/50\n",
      "60000/60000 [==============================] - 5s - loss: 0.1136 - val_loss: 0.1121\n",
      "Epoch 48/50\n",
      "60000/60000 [==============================] - 5s - loss: 0.1131 - val_loss: 0.1116\n",
      "Epoch 49/50\n",
      "60000/60000 [==============================] - 5s - loss: 0.1128 - val_loss: 0.1124\n",
      "Epoch 50/50\n",
      "60000/60000 [==============================] - 5s - loss: 0.1124 - val_loss: 0.1110\n"
     ]
    },
    {
     "data": {
      "text/plain": [
       "<keras.callbacks.History at 0x7fc9575816d8>"
      ]
     },
     "execution_count": 14,
     "metadata": {},
     "output_type": "execute_result"
    }
   ],
   "source": [
    "autoencoder.fit(x_train, x_train,\n",
    "                epochs=num_epochs,\n",
    "                batch_size=256,\n",
    "                shuffle=True,\n",
    "                validation_data=(x_test, x_test))"
   ]
  },
  {
   "cell_type": "code",
   "execution_count": 15,
   "metadata": {},
   "outputs": [
    {
     "data": {
      "text/plain": [
       "(10000, 32)"
      ]
     },
     "execution_count": 15,
     "metadata": {},
     "output_type": "execute_result"
    }
   ],
   "source": [
    "# encode and decode some digits\n",
    "# note that we take them from the *test* set\n",
    "encoded_imgs = encoder.predict(x_test)\n",
    "encoded_imgs.shape"
   ]
  },
  {
   "cell_type": "code",
   "execution_count": 17,
   "metadata": {
    "collapsed": true
   },
   "outputs": [],
   "source": [
    "decoded_imgs = decoder.predict(encoded_imgs)"
   ]
  },
  {
   "cell_type": "code",
   "execution_count": 18,
   "metadata": {},
   "outputs": [
    {
     "data": {
      "image/png": "[encoded data removed]",
      "text/plain": [
       "<matplotlib.figure.Figure at 0x7fc957514160>"
      ]
     },
     "metadata": {},
     "output_type": "display_data"
    }
   ],
   "source": [
    "n = 10  # how many digits we will display\n",
    "plt.figure(figsize=(20, 4))\n",
    "for i in range(n):\n",
    "    # display original\n",
    "    ax = plt.subplot(2, n, i + 1)\n",
    "    plt.imshow(x_test[i].reshape(28, 28))\n",
    "    plt.gray()\n",
    "    ax.get_xaxis().set_visible(False)\n",
    "    ax.get_yaxis().set_visible(False)\n",
    "\n",
    "    # display reconstruction\n",
    "    ax = plt.subplot(2, n, i + 1 + n)\n",
    "    plt.imshow(decoded_imgs[i].reshape(28, 28))\n",
    "    plt.gray()\n",
    "    ax.get_xaxis().set_visible(False)\n",
    "    ax.get_yaxis().set_visible(False)\n",
    "plt.show()"
   ]
  }
 ],
 "metadata": {
  "kernelspec": {
   "display_name": "Python 3",
   "language": "python",
   "name": "python3"
  },
  "language_info": {
   "codemirror_mode": {
    "name": "ipython",
    "version": 3
   },
   "file_extension": ".py",
   "mimetype": "text/x-python",
   "name": "python",
   "nbconvert_exporter": "python",
   "pygments_lexer": "ipython3",
   "version": "3.5.3"
  }
 },
 "nbformat": 4,
 "nbformat_minor": 2
}
