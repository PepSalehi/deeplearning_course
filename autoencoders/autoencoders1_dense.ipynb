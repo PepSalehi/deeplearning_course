{
 "cells": [
  {
   "cell_type": "code",
   "execution_count": 1,
   "metadata": {},
   "outputs": [
    {
     "name": "stderr",
     "output_type": "stream",
     "text": [
      "Using TensorFlow backend.\n"
     ]
    }
   ],
   "source": [
    "from keras.layers import Input, Dense\n",
    "from keras.models import Model\n",
    "from keras.datasets import mnist\n",
    "import numpy as np\n",
    "import matplotlib.pyplot as plt\n",
    "from keras import regularizers"
   ]
  },
  {
   "cell_type": "markdown",
   "metadata": {},
   "source": [
    "### Autoencoders: Alternatives\n",
    "\n",
    "1) The hidden representations are only constrained by the size of the hidden layer. In such a situation, what typically happens is that the hidden layer is learning an approximation of PCA (principal component analysis). \n",
    "\n",
    "2) The hidden representation is sparse (L1 regularization)\n",
    "\n",
    "3) The hidden representation is deep (several hidden layers)"
   ]
  },
  {
   "cell_type": "markdown",
   "metadata": {},
   "source": [
    "##### In this notebook, we'll explore the first and second alternatives."
   ]
  },
  {
   "cell_type": "code",
   "execution_count": 14,
   "metadata": {
    "collapsed": true
   },
   "outputs": [],
   "source": [
    "# this is the size of our encoded representations\n",
    "encoding_dim = 32  # 32 floats -> compression of factor 24.5, assuming the input is 784 floats\n",
    "num_epochs = 50\n",
    "sparse = False\n",
    "activity_regularizer = regularizers.l1(10e-5) if sparse == True else None\n"
   ]
  },
  {
   "cell_type": "code",
   "execution_count": 4,
   "metadata": {},
   "outputs": [
    {
     "data": {
      "text/plain": [
       "<tf.Tensor 'input_1:0' shape=(?, 784) dtype=float32>"
      ]
     },
     "execution_count": 4,
     "metadata": {},
     "output_type": "execute_result"
    }
   ],
   "source": [
    "# this is our input placeholder\n",
    "input_img = Input(shape=(784,))\n",
    "input_img"
   ]
  },
  {
   "cell_type": "code",
   "execution_count": 5,
   "metadata": {},
   "outputs": [
    {
     "data": {
      "text/plain": [
       "<tf.Tensor 'dense_1/Relu:0' shape=(?, 32) dtype=float32>"
      ]
     },
     "execution_count": 5,
     "metadata": {},
     "output_type": "execute_result"
    }
   ],
   "source": [
    "# \"encoded\" is the encoded representation of the input\n",
    "encoded = Dense(encoding_dim, activation='relu', activity_regularizer=activity_regularizer)(input_img)\n",
    "encoded"
   ]
  },
  {
   "cell_type": "code",
   "execution_count": 6,
   "metadata": {},
   "outputs": [
    {
     "data": {
      "text/plain": [
       "<tf.Tensor 'dense_2/Sigmoid:0' shape=(?, 784) dtype=float32>"
      ]
     },
     "execution_count": 6,
     "metadata": {},
     "output_type": "execute_result"
    }
   ],
   "source": [
    "decoded = Dense(784, activation='sigmoid')(encoded)\n",
    "decoded"
   ]
  },
  {
   "cell_type": "code",
   "execution_count": 7,
   "metadata": {},
   "outputs": [
    {
     "name": "stdout",
     "output_type": "stream",
     "text": [
      "_________________________________________________________________\n",
      "Layer (type)                 Output Shape              Param #   \n",
      "=================================================================\n",
      "input_1 (InputLayer)         (None, 784)               0         \n",
      "_________________________________________________________________\n",
      "dense_1 (Dense)              (None, 32)                25120     \n",
      "_________________________________________________________________\n",
      "dense_2 (Dense)              (None, 784)               25872     \n",
      "=================================================================\n",
      "Total params: 50,992\n",
      "Trainable params: 50,992\n",
      "Non-trainable params: 0\n",
      "_________________________________________________________________\n"
     ]
    }
   ],
   "source": [
    "# this model maps an input to its reconstruction\n",
    "autoencoder = Model(input_img, decoded)\n",
    "autoencoder.summary()"
   ]
  },
  {
   "cell_type": "code",
   "execution_count": 8,
   "metadata": {},
   "outputs": [
    {
     "name": "stdout",
     "output_type": "stream",
     "text": [
      "_________________________________________________________________\n",
      "Layer (type)                 Output Shape              Param #   \n",
      "=================================================================\n",
      "input_1 (InputLayer)         (None, 784)               0         \n",
      "_________________________________________________________________\n",
      "dense_1 (Dense)              (None, 32)                25120     \n",
      "=================================================================\n",
      "Total params: 25,120\n",
      "Trainable params: 25,120\n",
      "Non-trainable params: 0\n",
      "_________________________________________________________________\n"
     ]
    }
   ],
   "source": [
    "#Let's also create a separate encoder model:\n",
    "\n",
    "# this model maps an input to its encoded representation\n",
    "encoder = Model(input_img, encoded)\n",
    "encoder.summary()"
   ]
  },
  {
   "cell_type": "code",
   "execution_count": 9,
   "metadata": {},
   "outputs": [
    {
     "name": "stdout",
     "output_type": "stream",
     "text": [
      "_________________________________________________________________\n",
      "Layer (type)                 Output Shape              Param #   \n",
      "=================================================================\n",
      "input_2 (InputLayer)         (None, 32)                0         \n",
      "_________________________________________________________________\n",
      "dense_2 (Dense)              (None, 784)               25872     \n",
      "=================================================================\n",
      "Total params: 25,872\n",
      "Trainable params: 25,872\n",
      "Non-trainable params: 0\n",
      "_________________________________________________________________\n"
     ]
    }
   ],
   "source": [
    "# as well as the decoder model:\n",
    "\n",
    "# create a placeholder for an encoded (32-dimensional) input\n",
    "encoded_input = Input(shape=(encoding_dim,))\n",
    "# retrieve the last layer of the autoencoder model\n",
    "decoder_layer = autoencoder.layers[-1]\n",
    "# create the decoder model\n",
    "decoder = Model(encoded_input, decoder_layer(encoded_input))\n",
    "decoder.summary()"
   ]
  },
  {
   "cell_type": "code",
   "execution_count": 10,
   "metadata": {
    "collapsed": true
   },
   "outputs": [],
   "source": [
    "autoencoder.compile(optimizer='adadelta', loss='binary_crossentropy')"
   ]
  },
  {
   "cell_type": "code",
   "execution_count": 11,
   "metadata": {},
   "outputs": [
    {
     "data": {
      "text/plain": [
       "((60000, 28, 28), (10000, 28, 28))"
      ]
     },
     "execution_count": 11,
     "metadata": {},
     "output_type": "execute_result"
    }
   ],
   "source": [
    "(x_train, _), (x_test, _) = mnist.load_data(path = './mnist.npz')\n",
    "x_train.shape, x_test.shape"
   ]
  },
  {
   "cell_type": "code",
   "execution_count": 12,
   "metadata": {},
   "outputs": [
    {
     "data": {
      "text/plain": [
       "((60000, 784), (10000, 784))"
      ]
     },
     "execution_count": 12,
     "metadata": {},
     "output_type": "execute_result"
    }
   ],
   "source": [
    "#We will normalize all values between 0 and 1 and we will flatten the 28x28 images into vectors of size 784.\n",
    "\n",
    "x_train = x_train.astype('float32') / 255.\n",
    "x_test = x_test.astype('float32') / 255.\n",
    "x_train = x_train.reshape((len(x_train), np.prod(x_train.shape[1:])))\n",
    "x_test = x_test.reshape((len(x_test), np.prod(x_test.shape[1:])))\n",
    "x_train.shape, x_test.shape"
   ]
  },
  {
   "cell_type": "code",
   "execution_count": 15,
   "metadata": {},
   "outputs": [
    {
     "name": "stdout",
     "output_type": "stream",
     "text": [
      "Train on 60000 samples, validate on 10000 samples\n",
      "Epoch 1/50\n",
      "60000/60000 [==============================] - 3s - loss: 0.1955 - val_loss: 0.1894\n",
      "Epoch 2/50\n",
      "60000/60000 [==============================] - 3s - loss: 0.1870 - val_loss: 0.1819\n",
      "Epoch 3/50\n",
      "60000/60000 [==============================] - 4s - loss: 0.1803 - val_loss: 0.1759\n",
      "Epoch 4/50\n",
      "60000/60000 [==============================] - 4s - loss: 0.1747 - val_loss: 0.1707\n",
      "Epoch 5/50\n",
      "60000/60000 [==============================] - 3s - loss: 0.1697 - val_loss: 0.1660\n",
      "Epoch 6/50\n",
      "60000/60000 [==============================] - 4s - loss: 0.1652 - val_loss: 0.1617\n",
      "Epoch 7/50\n",
      "60000/60000 [==============================] - 3s - loss: 0.1611 - val_loss: 0.1577\n",
      "Epoch 8/50\n",
      "60000/60000 [==============================] - 4s - loss: 0.1572 - val_loss: 0.1539\n",
      "Epoch 9/50\n",
      "60000/60000 [==============================] - 4s - loss: 0.1536 - val_loss: 0.1505\n",
      "Epoch 10/50\n",
      "60000/60000 [==============================] - 4s - loss: 0.1503 - val_loss: 0.1473\n",
      "Epoch 11/50\n",
      "60000/60000 [==============================] - 4s - loss: 0.1472 - val_loss: 0.1444\n",
      "Epoch 12/50\n",
      "60000/60000 [==============================] - 5s - loss: 0.1444 - val_loss: 0.1416\n",
      "Epoch 13/50\n",
      "60000/60000 [==============================] - 4s - loss: 0.1417 - val_loss: 0.1391\n",
      "Epoch 14/50\n",
      "60000/60000 [==============================] - 3s - loss: 0.1393 - val_loss: 0.1365\n",
      "Epoch 15/50\n",
      "60000/60000 [==============================] - 3s - loss: 0.1369 - val_loss: 0.1342\n",
      "Epoch 16/50\n",
      "60000/60000 [==============================] - 3s - loss: 0.1347 - val_loss: 0.1321\n",
      "Epoch 17/50\n",
      "60000/60000 [==============================] - 3s - loss: 0.1326 - val_loss: 0.1300\n",
      "Epoch 18/50\n",
      "60000/60000 [==============================] - 3s - loss: 0.1306 - val_loss: 0.1281\n",
      "Epoch 19/50\n",
      "60000/60000 [==============================] - 3s - loss: 0.1286 - val_loss: 0.1262\n",
      "Epoch 20/50\n",
      "60000/60000 [==============================] - 3s - loss: 0.1268 - val_loss: 0.1244\n",
      "Epoch 21/50\n",
      "60000/60000 [==============================] - 3s - loss: 0.1251 - val_loss: 0.1227\n",
      "Epoch 22/50\n",
      "60000/60000 [==============================] - 3s - loss: 0.1235 - val_loss: 0.1211\n",
      "Epoch 23/50\n",
      "60000/60000 [==============================] - 3s - loss: 0.1219 - val_loss: 0.1197\n",
      "Epoch 24/50\n",
      "60000/60000 [==============================] - 3s - loss: 0.1205 - val_loss: 0.1182\n",
      "Epoch 25/50\n",
      "60000/60000 [==============================] - 3s - loss: 0.1191 - val_loss: 0.1168\n",
      "Epoch 26/50\n",
      "60000/60000 [==============================] - 3s - loss: 0.1178 - val_loss: 0.1156\n",
      "Epoch 27/50\n",
      "60000/60000 [==============================] - 3s - loss: 0.1165 - val_loss: 0.1143\n",
      "Epoch 28/50\n",
      "60000/60000 [==============================] - 3s - loss: 0.1153 - val_loss: 0.1132\n",
      "Epoch 29/50\n",
      "60000/60000 [==============================] - 3s - loss: 0.1142 - val_loss: 0.1121\n",
      "Epoch 30/50\n",
      "60000/60000 [==============================] - 3s - loss: 0.1132 - val_loss: 0.1110\n",
      "Epoch 31/50\n",
      "60000/60000 [==============================] - 3s - loss: 0.1122 - val_loss: 0.1101\n",
      "Epoch 32/50\n",
      "60000/60000 [==============================] - 3s - loss: 0.1112 - val_loss: 0.1091\n",
      "Epoch 33/50\n",
      "60000/60000 [==============================] - 3s - loss: 0.1103 - val_loss: 0.1083\n",
      "Epoch 34/50\n",
      "60000/60000 [==============================] - 3s - loss: 0.1095 - val_loss: 0.1075\n",
      "Epoch 35/50\n",
      "60000/60000 [==============================] - 3s - loss: 0.1087 - val_loss: 0.1067\n",
      "Epoch 36/50\n",
      "60000/60000 [==============================] - 3s - loss: 0.1079 - val_loss: 0.1060\n",
      "Epoch 37/50\n",
      "60000/60000 [==============================] - 3s - loss: 0.1072 - val_loss: 0.1053\n",
      "Epoch 38/50\n",
      "60000/60000 [==============================] - 3s - loss: 0.1066 - val_loss: 0.1047\n",
      "Epoch 39/50\n",
      "60000/60000 [==============================] - 3s - loss: 0.1060 - val_loss: 0.1040\n",
      "Epoch 40/50\n",
      "60000/60000 [==============================] - 3s - loss: 0.1054 - val_loss: 0.1035\n",
      "Epoch 41/50\n",
      "60000/60000 [==============================] - 3s - loss: 0.1048 - val_loss: 0.1030\n",
      "Epoch 42/50\n",
      "60000/60000 [==============================] - 3s - loss: 0.1043 - val_loss: 0.1025\n",
      "Epoch 43/50\n",
      "60000/60000 [==============================] - 3s - loss: 0.1038 - val_loss: 0.1020\n",
      "Epoch 44/50\n",
      "60000/60000 [==============================] - 3s - loss: 0.1034 - val_loss: 0.1016\n",
      "Epoch 45/50\n",
      "60000/60000 [==============================] - 3s - loss: 0.1030 - val_loss: 0.1012\n",
      "Epoch 46/50\n",
      "60000/60000 [==============================] - 3s - loss: 0.1026 - val_loss: 0.1008\n",
      "Epoch 47/50\n",
      "60000/60000 [==============================] - 3s - loss: 0.1022 - val_loss: 0.1004\n",
      "Epoch 48/50\n",
      "60000/60000 [==============================] - 3s - loss: 0.1019 - val_loss: 0.1001\n",
      "Epoch 49/50\n",
      "60000/60000 [==============================] - 3s - loss: 0.1016 - val_loss: 0.0998\n",
      "Epoch 50/50\n",
      "60000/60000 [==============================] - 3s - loss: 0.1013 - val_loss: 0.0995\n"
     ]
    },
    {
     "data": {
      "text/plain": [
       "<keras.callbacks.History at 0x7f48c15bd7b8>"
      ]
     },
     "execution_count": 15,
     "metadata": {},
     "output_type": "execute_result"
    }
   ],
   "source": [
    "autoencoder.fit(x_train, x_train,\n",
    "                epochs=num_epochs,\n",
    "                batch_size=256,\n",
    "                shuffle=True,\n",
    "                validation_data=(x_test, x_test))"
   ]
  },
  {
   "cell_type": "code",
   "execution_count": 16,
   "metadata": {},
   "outputs": [
    {
     "data": {
      "text/plain": [
       "(10000, 32)"
      ]
     },
     "execution_count": 16,
     "metadata": {},
     "output_type": "execute_result"
    }
   ],
   "source": [
    "# encode and decode some digits\n",
    "# note that we take them from the *test* set\n",
    "encoded_imgs = encoder.predict(x_test)\n",
    "encoded_imgs.shape"
   ]
  },
  {
   "cell_type": "code",
   "execution_count": 17,
   "metadata": {},
   "outputs": [
    {
     "data": {
      "text/plain": [
       "7.5849142"
      ]
     },
     "execution_count": 17,
     "metadata": {},
     "output_type": "execute_result"
    }
   ],
   "source": [
    "# how sparse are the encodings\n",
    "encoded_imgs.mean()"
   ]
  },
  {
   "cell_type": "code",
   "execution_count": 18,
   "metadata": {
    "collapsed": true
   },
   "outputs": [],
   "source": [
    "decoded_imgs = decoder.predict(encoded_imgs)\n"
   ]
  },
  {
   "cell_type": "code",
   "execution_count": 19,
   "metadata": {},
   "outputs": [
    {
     "data": {
      "image/png": "[encoded data removed]",
      "text/plain": [
       "<matplotlib.figure.Figure at 0x7f48beca6358>"
      ]
     },
     "metadata": {},
     "output_type": "display_data"
    }
   ],
   "source": [
    "n = 10  # how many digits we will display\n",
    "plt.figure(figsize=(20, 4))\n",
    "for i in range(n):\n",
    "    # display original\n",
    "    ax = plt.subplot(2, n, i + 1)\n",
    "    plt.imshow(x_test[i].reshape(28, 28))\n",
    "    plt.gray()\n",
    "    ax.get_xaxis().set_visible(False)\n",
    "    ax.get_yaxis().set_visible(False)\n",
    "\n",
    "    # display reconstruction\n",
    "    ax = plt.subplot(2, n, i + 1 + n)\n",
    "    plt.imshow(decoded_imgs[i].reshape(28, 28))\n",
    "    plt.gray()\n",
    "    ax.get_xaxis().set_visible(False)\n",
    "    ax.get_yaxis().set_visible(False)\n",
    "plt.show()"
   ]
  }
 ],
 "metadata": {
  "kernelspec": {
   "display_name": "Python 3",
   "language": "python",
   "name": "python3"
  },
  "language_info": {
   "codemirror_mode": {
    "name": "ipython",
    "version": 3
   },
   "file_extension": ".py",
   "mimetype": "text/x-python",
   "name": "python",
   "nbconvert_exporter": "python",
   "pygments_lexer": "ipython3",
   "version": "3.5.3"
  }
 },
 "nbformat": 4,
 "nbformat_minor": 2
}
