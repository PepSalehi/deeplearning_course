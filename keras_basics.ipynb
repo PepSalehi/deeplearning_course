{
 "cells": [
  {
   "cell_type": "markdown",
   "metadata": {},
   "source": [
    "# Keras Basics"
   ]
  },
  {
   "cell_type": "code",
   "execution_count": 1,
   "metadata": {},
   "outputs": [
    {
     "name": "stderr",
     "output_type": "stream",
     "text": [
      "Using TensorFlow backend.\n"
     ]
    }
   ],
   "source": [
    "from keras.models import Sequential\n",
    "from keras.layers import Dense, Activation\n",
    "import numpy as np"
   ]
  },
  {
   "cell_type": "markdown",
   "metadata": {},
   "source": [
    "### Workflow using sequential API\n",
    "\n",
    "- define model\n",
    "- compile model\n",
    "- fit model"
   ]
  },
  {
   "cell_type": "code",
   "execution_count": 2,
   "metadata": {
    "collapsed": true
   },
   "outputs": [],
   "source": [
    "model = Sequential()"
   ]
  },
  {
   "cell_type": "code",
   "execution_count": 3,
   "metadata": {
    "collapsed": true
   },
   "outputs": [],
   "source": [
    "# input layer\n",
    "# units = dimension of output, input_dim = number of features\n",
    "model.add(Dense(units=64, input_dim=5, activation = \"relu\"))\n",
    "model.add(Activation('relu'))\n",
    "\n",
    "# could instead also do it in one step\n",
    "# model.add(Dense(units=64, input_dim=5, activation = \"relu\"))\n",
    "\n",
    "# output layer\n",
    "model.add(Dense(units=1))\n",
    "model.add(Activation('softmax'))"
   ]
  },
  {
   "cell_type": "code",
   "execution_count": 4,
   "metadata": {
    "collapsed": true
   },
   "outputs": [],
   "source": [
    "# this will be a network for binary classification\n",
    "model.compile(loss='binary_crossentropy',\n",
    "              optimizer='rmsprop',\n",
    "              metrics=['accuracy'])"
   ]
  },
  {
   "cell_type": "code",
   "execution_count": 5,
   "metadata": {},
   "outputs": [
    {
     "name": "stdout",
     "output_type": "stream",
     "text": [
      "_________________________________________________________________\n",
      "Layer (type)                 Output Shape              Param #   \n",
      "=================================================================\n",
      "dense_1 (Dense)              (None, 64)                384       \n",
      "_________________________________________________________________\n",
      "activation_1 (Activation)    (None, 64)                0         \n",
      "_________________________________________________________________\n",
      "dense_2 (Dense)              (None, 1)                 65        \n",
      "_________________________________________________________________\n",
      "activation_2 (Activation)    (None, 1)                 0         \n",
      "=================================================================\n",
      "Total params: 449\n",
      "Trainable params: 449\n",
      "Non-trainable params: 0\n",
      "_________________________________________________________________\n"
     ]
    }
   ],
   "source": [
    "# number of parameters is weights + biases\n",
    "# try changing input shape to see effect\n",
    "model.summary()"
   ]
  },
  {
   "cell_type": "code",
   "execution_count": 6,
   "metadata": {
    "collapsed": true
   },
   "outputs": [],
   "source": [
    "# the training and test data are just numpy arrays\n",
    "X_train = np.array([[100,100,100,100,100], [0,0,0,0,0], [1,2,3,4,5]])\n",
    "y_train = np.array([[0],[1],[1]])\n",
    "\n",
    "X_test = np.array([[100,100,100,100,100], [0,0,0,0,0], [1,0,3,0,5]])\n",
    "y_test = np.array([[0],[1],[1]])"
   ]
  },
  {
   "cell_type": "code",
   "execution_count": 7,
   "metadata": {},
   "outputs": [
    {
     "data": {
      "text/plain": [
       "(3, 5)"
      ]
     },
     "execution_count": 7,
     "metadata": {},
     "output_type": "execute_result"
    }
   ],
   "source": [
    "X_train.shape"
   ]
  },
  {
   "cell_type": "code",
   "execution_count": 8,
   "metadata": {},
   "outputs": [
    {
     "data": {
      "text/plain": [
       "(3, 1)"
      ]
     },
     "execution_count": 8,
     "metadata": {},
     "output_type": "execute_result"
    }
   ],
   "source": [
    "y_train.shape"
   ]
  },
  {
   "cell_type": "code",
   "execution_count": 9,
   "metadata": {},
   "outputs": [
    {
     "name": "stdout",
     "output_type": "stream",
     "text": [
      "Epoch 1/100\n",
      "3/3 [==============================] - 0s - loss: 5.3141 - acc: 0.6667\n",
      "Epoch 2/100\n",
      "3/3 [==============================] - 0s - loss: 5.3141 - acc: 0.6667\n",
      "Epoch 3/100\n",
      "3/3 [==============================] - 0s - loss: 5.3141 - acc: 0.6667\n",
      "Epoch 4/100\n",
      "3/3 [==============================] - 0s - loss: 5.3141 - acc: 0.6667\n",
      "Epoch 5/100\n",
      "3/3 [==============================] - 0s - loss: 5.3141 - acc: 0.6667\n",
      "Epoch 6/100\n",
      "3/3 [==============================] - 0s - loss: 5.3141 - acc: 0.6667\n",
      "Epoch 7/100\n",
      "3/3 [==============================] - 0s - loss: 5.3141 - acc: 0.6667\n",
      "Epoch 8/100\n",
      "3/3 [==============================] - 0s - loss: 5.3141 - acc: 0.6667\n",
      "Epoch 9/100\n",
      "3/3 [==============================] - 0s - loss: 5.3141 - acc: 0.6667\n",
      "Epoch 10/100\n",
      "3/3 [==============================] - 0s - loss: 5.3141 - acc: 0.6667\n",
      "Epoch 11/100\n",
      "3/3 [==============================] - 0s - loss: 5.3141 - acc: 0.6667\n",
      "Epoch 12/100\n",
      "3/3 [==============================] - 0s - loss: 5.3141 - acc: 0.6667\n",
      "Epoch 13/100\n",
      "3/3 [==============================] - 0s - loss: 5.3141 - acc: 0.6667\n",
      "Epoch 14/100\n",
      "3/3 [==============================] - 0s - loss: 5.3141 - acc: 0.6667\n",
      "Epoch 15/100\n",
      "3/3 [==============================] - 0s - loss: 5.3141 - acc: 0.6667\n",
      "Epoch 16/100\n",
      "3/3 [==============================] - 0s - loss: 5.3141 - acc: 0.6667\n",
      "Epoch 17/100\n",
      "3/3 [==============================] - 0s - loss: 5.3141 - acc: 0.6667\n",
      "Epoch 18/100\n",
      "3/3 [==============================] - 0s - loss: 5.3141 - acc: 0.6667\n",
      "Epoch 19/100\n",
      "3/3 [==============================] - 0s - loss: 5.3141 - acc: 0.6667\n",
      "Epoch 20/100\n",
      "3/3 [==============================] - 0s - loss: 5.3141 - acc: 0.6667\n",
      "Epoch 21/100\n",
      "3/3 [==============================] - 0s - loss: 5.3141 - acc: 0.6667\n",
      "Epoch 22/100\n",
      "3/3 [==============================] - 0s - loss: 5.3141 - acc: 0.6667\n",
      "Epoch 23/100\n",
      "3/3 [==============================] - 0s - loss: 5.3141 - acc: 0.6667\n",
      "Epoch 24/100\n",
      "3/3 [==============================] - 0s - loss: 5.3141 - acc: 0.6667\n",
      "Epoch 25/100\n",
      "3/3 [==============================] - 0s - loss: 5.3141 - acc: 0.6667\n",
      "Epoch 26/100\n",
      "3/3 [==============================] - 0s - loss: 5.3141 - acc: 0.6667\n",
      "Epoch 27/100\n",
      "3/3 [==============================] - 0s - loss: 5.3141 - acc: 0.6667\n",
      "Epoch 28/100\n",
      "3/3 [==============================] - 0s - loss: 5.3141 - acc: 0.6667\n",
      "Epoch 29/100\n",
      "3/3 [==============================] - 0s - loss: 5.3141 - acc: 0.6667\n",
      "Epoch 30/100\n",
      "3/3 [==============================] - 0s - loss: 5.3141 - acc: 0.6667\n",
      "Epoch 31/100\n",
      "3/3 [==============================] - 0s - loss: 5.3141 - acc: 0.6667\n",
      "Epoch 32/100\n",
      "3/3 [==============================] - 0s - loss: 5.3141 - acc: 0.6667\n",
      "Epoch 33/100\n",
      "3/3 [==============================] - 0s - loss: 5.3141 - acc: 0.6667\n",
      "Epoch 34/100\n",
      "3/3 [==============================] - 0s - loss: 5.3141 - acc: 0.6667\n",
      "Epoch 35/100\n",
      "3/3 [==============================] - 0s - loss: 5.3141 - acc: 0.6667\n",
      "Epoch 36/100\n",
      "3/3 [==============================] - 0s - loss: 5.3141 - acc: 0.6667\n",
      "Epoch 37/100\n",
      "3/3 [==============================] - 0s - loss: 5.3141 - acc: 0.6667\n",
      "Epoch 38/100\n",
      "3/3 [==============================] - 0s - loss: 5.3141 - acc: 0.6667\n",
      "Epoch 39/100\n",
      "3/3 [==============================] - 0s - loss: 5.3141 - acc: 0.6667\n",
      "Epoch 40/100\n",
      "3/3 [==============================] - 0s - loss: 5.3141 - acc: 0.6667\n",
      "Epoch 41/100\n",
      "3/3 [==============================] - 0s - loss: 5.3141 - acc: 0.6667\n",
      "Epoch 42/100\n",
      "3/3 [==============================] - 0s - loss: 5.3141 - acc: 0.6667\n",
      "Epoch 43/100\n",
      "3/3 [==============================] - 0s - loss: 5.3141 - acc: 0.6667\n",
      "Epoch 44/100\n",
      "3/3 [==============================] - 0s - loss: 5.3141 - acc: 0.6667\n",
      "Epoch 45/100\n",
      "3/3 [==============================] - 0s - loss: 5.3141 - acc: 0.6667\n",
      "Epoch 46/100\n",
      "3/3 [==============================] - 0s - loss: 5.3141 - acc: 0.6667\n",
      "Epoch 47/100\n",
      "3/3 [==============================] - 0s - loss: 5.3141 - acc: 0.6667\n",
      "Epoch 48/100\n",
      "3/3 [==============================] - 0s - loss: 5.3141 - acc: 0.6667\n",
      "Epoch 49/100\n",
      "3/3 [==============================] - 0s - loss: 5.3141 - acc: 0.6667\n",
      "Epoch 50/100\n",
      "3/3 [==============================] - 0s - loss: 5.3141 - acc: 0.6667\n",
      "Epoch 51/100\n",
      "3/3 [==============================] - 0s - loss: 5.3141 - acc: 0.6667\n",
      "Epoch 52/100\n",
      "3/3 [==============================] - 0s - loss: 5.3141 - acc: 0.6667\n",
      "Epoch 53/100\n",
      "3/3 [==============================] - 0s - loss: 5.3141 - acc: 0.6667\n",
      "Epoch 54/100\n",
      "3/3 [==============================] - 0s - loss: 5.3141 - acc: 0.6667\n",
      "Epoch 55/100\n",
      "3/3 [==============================] - 0s - loss: 5.3141 - acc: 0.6667\n",
      "Epoch 56/100\n",
      "3/3 [==============================] - 0s - loss: 5.3141 - acc: 0.6667\n",
      "Epoch 57/100\n",
      "3/3 [==============================] - 0s - loss: 5.3141 - acc: 0.6667\n",
      "Epoch 58/100\n",
      "3/3 [==============================] - 0s - loss: 5.3141 - acc: 0.6667\n",
      "Epoch 59/100\n",
      "3/3 [==============================] - 0s - loss: 5.3141 - acc: 0.6667\n",
      "Epoch 60/100\n",
      "3/3 [==============================] - 0s - loss: 5.3141 - acc: 0.6667\n",
      "Epoch 61/100\n",
      "3/3 [==============================] - 0s - loss: 5.3141 - acc: 0.6667\n",
      "Epoch 62/100\n",
      "3/3 [==============================] - 0s - loss: 5.3141 - acc: 0.6667\n",
      "Epoch 63/100\n",
      "3/3 [==============================] - 0s - loss: 5.3141 - acc: 0.6667\n",
      "Epoch 64/100\n",
      "3/3 [==============================] - 0s - loss: 5.3141 - acc: 0.6667\n",
      "Epoch 65/100\n",
      "3/3 [==============================] - 0s - loss: 5.3141 - acc: 0.6667\n",
      "Epoch 66/100\n",
      "3/3 [==============================] - 0s - loss: 5.3141 - acc: 0.6667\n",
      "Epoch 67/100\n",
      "3/3 [==============================] - 0s - loss: 5.3141 - acc: 0.6667\n",
      "Epoch 68/100\n",
      "3/3 [==============================] - 0s - loss: 5.3141 - acc: 0.6667\n",
      "Epoch 69/100\n",
      "3/3 [==============================] - 0s - loss: 5.3141 - acc: 0.6667\n",
      "Epoch 70/100\n",
      "3/3 [==============================] - 0s - loss: 5.3141 - acc: 0.6667\n",
      "Epoch 71/100\n",
      "3/3 [==============================] - 0s - loss: 5.3141 - acc: 0.6667\n",
      "Epoch 72/100\n",
      "3/3 [==============================] - 0s - loss: 5.3141 - acc: 0.6667\n",
      "Epoch 73/100\n",
      "3/3 [==============================] - 0s - loss: 5.3141 - acc: 0.6667\n",
      "Epoch 74/100\n",
      "3/3 [==============================] - 0s - loss: 5.3141 - acc: 0.6667\n",
      "Epoch 75/100\n",
      "3/3 [==============================] - 0s - loss: 5.3141 - acc: 0.6667\n",
      "Epoch 76/100\n",
      "3/3 [==============================] - 0s - loss: 5.3141 - acc: 0.6667\n",
      "Epoch 77/100\n",
      "3/3 [==============================] - 0s - loss: 5.3141 - acc: 0.6667\n",
      "Epoch 78/100\n",
      "3/3 [==============================] - 0s - loss: 5.3141 - acc: 0.6667\n",
      "Epoch 79/100\n",
      "3/3 [==============================] - 0s - loss: 5.3141 - acc: 0.6667\n",
      "Epoch 80/100\n",
      "3/3 [==============================] - 0s - loss: 5.3141 - acc: 0.6667\n",
      "Epoch 81/100\n",
      "3/3 [==============================] - 0s - loss: 5.3141 - acc: 0.6667\n",
      "Epoch 82/100\n",
      "3/3 [==============================] - 0s - loss: 5.3141 - acc: 0.6667\n",
      "Epoch 83/100\n",
      "3/3 [==============================] - 0s - loss: 5.3141 - acc: 0.6667\n",
      "Epoch 84/100\n",
      "3/3 [==============================] - 0s - loss: 5.3141 - acc: 0.6667\n",
      "Epoch 85/100\n",
      "3/3 [==============================] - 0s - loss: 5.3141 - acc: 0.6667\n",
      "Epoch 86/100\n",
      "3/3 [==============================] - 0s - loss: 5.3141 - acc: 0.6667\n",
      "Epoch 87/100\n",
      "3/3 [==============================] - 0s - loss: 5.3141 - acc: 0.6667\n",
      "Epoch 88/100\n",
      "3/3 [==============================] - 0s - loss: 5.3141 - acc: 0.6667\n",
      "Epoch 89/100\n",
      "3/3 [==============================] - 0s - loss: 5.3141 - acc: 0.6667\n",
      "Epoch 90/100\n",
      "3/3 [==============================] - 0s - loss: 5.3141 - acc: 0.6667\n",
      "Epoch 91/100\n",
      "3/3 [==============================] - 0s - loss: 5.3141 - acc: 0.6667\n",
      "Epoch 92/100\n",
      "3/3 [==============================] - 0s - loss: 5.3141 - acc: 0.6667\n",
      "Epoch 93/100\n",
      "3/3 [==============================] - 0s - loss: 5.3141 - acc: 0.6667\n",
      "Epoch 94/100\n",
      "3/3 [==============================] - 0s - loss: 5.3141 - acc: 0.6667\n",
      "Epoch 95/100\n",
      "3/3 [==============================] - 0s - loss: 5.3141 - acc: 0.6667\n",
      "Epoch 96/100\n",
      "3/3 [==============================] - 0s - loss: 5.3141 - acc: 0.6667\n",
      "Epoch 97/100\n",
      "3/3 [==============================] - 0s - loss: 5.3141 - acc: 0.6667\n",
      "Epoch 98/100\n"
     ]
    },
    {
     "name": "stdout",
     "output_type": "stream",
     "text": [
      "3/3 [==============================] - 0s - loss: 5.3141 - acc: 0.6667\n",
      "Epoch 99/100\n",
      "3/3 [==============================] - 0s - loss: 5.3141 - acc: 0.6667\n",
      "Epoch 100/100\n",
      "3/3 [==============================] - 0s - loss: 5.3141 - acc: 0.6667\n"
     ]
    },
    {
     "data": {
      "text/plain": [
       "<keras.callbacks.History at 0x7f77aaafa160>"
      ]
     },
     "execution_count": 9,
     "metadata": {},
     "output_type": "execute_result"
    }
   ],
   "source": [
    "# fit the model\n",
    "model.fit(X_train, y_train, epochs=100, batch_size=3)"
   ]
  },
  {
   "cell_type": "markdown",
   "metadata": {},
   "source": [
    "### Evaluate model"
   ]
  },
  {
   "cell_type": "code",
   "execution_count": 10,
   "metadata": {},
   "outputs": [
    {
     "name": "stdout",
     "output_type": "stream",
     "text": [
      "3/3 [==============================] - 0s\n"
     ]
    },
    {
     "data": {
      "text/plain": [
       "(5.3141283988952637, 0.66666668653488159)"
      ]
     },
     "execution_count": 10,
     "metadata": {},
     "output_type": "execute_result"
    }
   ],
   "source": [
    "loss, accuracy = model.evaluate(X_test, y_test, batch_size=3)\n",
    "loss, accuracy"
   ]
  },
  {
   "cell_type": "markdown",
   "metadata": {},
   "source": [
    "### Predict on test set"
   ]
  },
  {
   "cell_type": "code",
   "execution_count": 11,
   "metadata": {},
   "outputs": [
    {
     "data": {
      "text/plain": [
       "array([[ 1.],\n",
       "       [ 1.],\n",
       "       [ 1.]], dtype=float32)"
      ]
     },
     "execution_count": 11,
     "metadata": {},
     "output_type": "execute_result"
    }
   ],
   "source": [
    "predicted = model.predict(X_test, batch_size=3)\n",
    "predicted"
   ]
  }
 ],
 "metadata": {
  "kernelspec": {
   "display_name": "Python 3",
   "language": "python",
   "name": "python3"
  },
  "language_info": {
   "codemirror_mode": {
    "name": "ipython",
    "version": 3
   },
   "file_extension": ".py",
   "mimetype": "text/x-python",
   "name": "python",
   "nbconvert_exporter": "python",
   "pygments_lexer": "ipython3",
   "version": "3.5.3"
  }
 },
 "nbformat": 4,
 "nbformat_minor": 2
}
